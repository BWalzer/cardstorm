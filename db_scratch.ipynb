{
 "cells": [
  {
   "cell_type": "code",
   "execution_count": 6,
   "metadata": {
    "collapsed": true
   },
   "outputs": [],
   "source": [
    "import os\n",
    "import psycopg2\n",
    "from src.deck_scraping import *\n",
    "from bs4 import BeautifulSoup"
   ]
  },
  {
   "cell_type": "code",
   "execution_count": 2,
   "metadata": {
    "collapsed": true
   },
   "outputs": [],
   "source": [
    "hostname = os.environ['CAPSTONE_DB_HOST']\n",
    "dbname = os.environ['CAPSTONE_DB_DBNAME']\n",
    "username = os.environ['CAPSTONE_DB_USERNAME']"
   ]
  },
  {
   "cell_type": "code",
   "execution_count": 86,
   "metadata": {},
   "outputs": [
    {
     "data": {
      "text/plain": [
       "[(312605, 'Unclaimed Territory', 4),\n",
       " (312605, 'Seachrome Coast', 2),\n",
       " (312605, 'Plains', 1),\n",
       " (312605, 'Horizon Canopy', 4),\n",
       " (312605, 'Cavern of Souls', 4),\n",
       " (312605, 'Ancient Ziggurat', 4),\n",
       " (312605, 'Aether Vial', 4),\n",
       " (312605, \"Thalia's Lieutenant\", 4),\n",
       " (312605, 'Thalia, Guardian of Thraben', 4),\n",
       " (312605, 'Reflector Mage', 4),\n",
       " (312605, 'Phantasmal Image', 4),\n",
       " (312605, 'Noble Hierarch', 4),\n",
       " (312605, 'Meddling Mage', 4),\n",
       " (312605, 'Mantis Rider', 4),\n",
       " (312605, 'Kitesail Freebooter', 4),\n",
       " (312605, 'Kessig Malcontents', 1),\n",
       " (312605, 'Champion of the Parish', 4)]"
      ]
     },
     "execution_count": 86,
     "metadata": {},
     "output_type": "execute_result"
    }
   ],
   "source": [
    "front_page = BeautifulSoup(modern_front_page_request().content, 'html.parser')\n",
    "\n",
    "event_ids = get_event_ids(front_page)\n",
    "\n",
    "event_page = BeautifulSoup(event_request(event_ids[0]).content, 'html.parser')\n",
    "\n",
    "deck_ids = get_deck_ids(event_page)\n",
    "\n",
    "raw_deck_list = deck_request(deck_ids[0])\n",
    "\n",
    "deck_list = format_deck(raw_deck_list)\n",
    "\n",
    "user_card_counts = make_user_card_counts(deck_ids[0], deck_list)\n",
    "\n",
    "user_card_counts"
   ]
  },
  {
   "cell_type": "code",
   "execution_count": 94,
   "metadata": {},
   "outputs": [
    {
     "data": {
      "text/plain": [
       "[\"(312605, 'Unclaimed Territory', 4)\",\n",
       " \"(312605, 'Seachrome Coast', 2)\",\n",
       " \"(312605, 'Plains', 1)\",\n",
       " \"(312605, 'Horizon Canopy', 4)\",\n",
       " \"(312605, 'Cavern of Souls', 4)\",\n",
       " \"(312605, 'Ancient Ziggurat', 4)\",\n",
       " \"(312605, 'Aether Vial', 4)\",\n",
       " \"(312605, 'Thalia's Lieutenant', 4)\",\n",
       " \"(312605, 'Thalia, Guardian of Thraben', 4)\",\n",
       " \"(312605, 'Reflector Mage', 4)\",\n",
       " \"(312605, 'Phantasmal Image', 4)\",\n",
       " \"(312605, 'Noble Hierarch', 4)\",\n",
       " \"(312605, 'Meddling Mage', 4)\",\n",
       " \"(312605, 'Mantis Rider', 4)\",\n",
       " \"(312605, 'Kitesail Freebooter', 4)\",\n",
       " \"(312605, 'Kessig Malcontents', 1)\",\n",
       " \"(312605, 'Champion of the Parish', 4)\"]"
      ]
     },
     "execution_count": 94,
     "metadata": {},
     "output_type": "execute_result"
    }
   ],
   "source": [
    "items = [\"(, '{}', {})\".format(deck_id, card_name, card_count) for deck_id, card_name, card_count in user_card_counts]\n",
    "\n",
    "items"
   ]
  },
  {
   "cell_type": "code",
   "execution_count": 95,
   "metadata": {},
   "outputs": [
    {
     "data": {
      "text/plain": [
       "\"(312605, 'Unclaimed Territory', 4), (312605, 'Seachrome Coast', 2), (312605, 'Plains', 1), (312605, 'Horizon Canopy', 4), (312605, 'Cavern of Souls', 4), (312605, 'Ancient Ziggurat', 4), (312605, 'Aether Vial', 4), (312605, 'Thalia's Lieutenant', 4), (312605, 'Thalia, Guardian of Thraben', 4), (312605, 'Reflector Mage', 4), (312605, 'Phantasmal Image', 4), (312605, 'Noble Hierarch', 4), (312605, 'Meddling Mage', 4), (312605, 'Mantis Rider', 4), (312605, 'Kitesail Freebooter', 4), (312605, 'Kessig Malcontents', 1), (312605, 'Champion of the Parish', 4)\""
      ]
     },
     "execution_count": 95,
     "metadata": {},
     "output_type": "execute_result"
    }
   ],
   "source": [
    "joined_items = ', '.join(items)\n",
    "\n",
    "joined_items"
   ]
  },
  {
   "cell_type": "code",
   "execution_count": 96,
   "metadata": {
    "scrolled": true
   },
   "outputs": [
    {
     "data": {
      "text/plain": [
       "\"INSERT INTO user_card_counts(deck_id, card_name, card_count)\\n           VALUES (312605, 'Unclaimed Territory', 4), (312605, 'Seachrome Coast', 2), (312605, 'Plains', 1), (312605, 'Horizon Canopy', 4), (312605, 'Cavern of Souls', 4), (312605, 'Ancient Ziggurat', 4), (312605, 'Aether Vial', 4), (312605, 'Thalia's Lieutenant', 4), (312605, 'Thalia, Guardian of Thraben', 4), (312605, 'Reflector Mage', 4), (312605, 'Phantasmal Image', 4), (312605, 'Noble Hierarch', 4), (312605, 'Meddling Mage', 4), (312605, 'Mantis Rider', 4), (312605, 'Kitesail Freebooter', 4), (312605, 'Kessig Malcontents', 1), (312605, 'Champion of the Parish', 4)\""
      ]
     },
     "execution_count": 96,
     "metadata": {},
     "output_type": "execute_result"
    }
   ],
   "source": [
    "query = '''INSERT INTO user_card_counts(deck_id, card_name, card_count)\n",
    "           VALUES {}'''.format(joined_items)\n",
    "\n",
    "query"
   ]
  },
  {
   "cell_type": "code",
   "execution_count": 135,
   "metadata": {
    "collapsed": true
   },
   "outputs": [],
   "source": [
    "conn = psycopg2.connect('dbname={} host={} user={}'.format(dbname, hostname, username))"
   ]
  },
  {
   "cell_type": "code",
   "execution_count": 136,
   "metadata": {
    "collapsed": true
   },
   "outputs": [],
   "source": [
    "cursor = conn.cursor()"
   ]
  },
  {
   "cell_type": "code",
   "execution_count": 99,
   "metadata": {},
   "outputs": [
    {
     "ename": "ProgrammingError",
     "evalue": "syntax error at or near \"s\"\nLINE 2: ... 4), (312605, 'Aether Vial', 4), (312605, 'Thalia's Lieutena...\n                                                             ^\n",
     "output_type": "error",
     "traceback": [
      "\u001b[0;31m---------------------------------------------------------------------------\u001b[0m",
      "\u001b[0;31mProgrammingError\u001b[0m                          Traceback (most recent call last)",
      "\u001b[0;32m<ipython-input-99-2e97bea5433e>\u001b[0m in \u001b[0;36m<module>\u001b[0;34m()\u001b[0m\n\u001b[0;32m----> 1\u001b[0;31m \u001b[0mcursor\u001b[0m\u001b[0;34m.\u001b[0m\u001b[0mexecute\u001b[0m\u001b[0;34m(\u001b[0m\u001b[0mquery\u001b[0m\u001b[0;34m)\u001b[0m\u001b[0;34m\u001b[0m\u001b[0m\n\u001b[0m",
      "\u001b[0;31mProgrammingError\u001b[0m: syntax error at or near \"s\"\nLINE 2: ... 4), (312605, 'Aether Vial', 4), (312605, 'Thalia's Lieutena...\n                                                             ^\n"
     ]
    }
   ],
   "source": [
    "cursor.execute(query, )"
   ]
  },
  {
   "cell_type": "code",
   "execution_count": 109,
   "metadata": {
    "collapsed": true
   },
   "outputs": [],
   "source": [
    "query = '''INSERT INTO user_card_counts(deck_id, card_name, card_count)\n",
    "           VALUES ({},'{}',{})'''.format(user_card_counts[0][0], user_card_counts[0][1], user_card_counts[0][2])\n"
   ]
  },
  {
   "cell_type": "code",
   "execution_count": 115,
   "metadata": {},
   "outputs": [
    {
     "data": {
      "text/plain": [
       "\"INSERT INTO user_card_counts(deck_id, card_name, card_count)\\n           VALUES (312605,'Unclaimed Territory',4)\""
      ]
     },
     "execution_count": 115,
     "metadata": {},
     "output_type": "execute_result"
    }
   ],
   "source": [
    "query"
   ]
  },
  {
   "cell_type": "code",
   "execution_count": 120,
   "metadata": {
    "collapsed": true
   },
   "outputs": [],
   "source": [
    "query = 'INSERT INTO user_card_counts(deck_id, card_name, card_count) VALUES (%s, %s, %s)'\n",
    "\n",
    "cursor.execute(query, vars=user_card_counts[7])"
   ]
  },
  {
   "cell_type": "code",
   "execution_count": 121,
   "metadata": {
    "collapsed": true
   },
   "outputs": [],
   "source": [
    "conn.commit()"
   ]
  },
  {
   "cell_type": "code",
   "execution_count": 132,
   "metadata": {},
   "outputs": [
    {
     "data": {
      "text/plain": [
       "'%s, %s, %s, %s, %s, %s, %s, %s, %s, %s, %s, %s, %s, %s, %s, %s, %s'"
      ]
     },
     "execution_count": 132,
     "metadata": {},
     "output_type": "execute_result"
    }
   ],
   "source": [
    "template = ', '.join(['%s'] * len(user_card_counts))\n",
    "template"
   ]
  },
  {
   "cell_type": "code",
   "execution_count": 133,
   "metadata": {},
   "outputs": [
    {
     "data": {
      "text/plain": [
       "'INSERT INTO user_card_counts (deck_id, card_name, card_count) VALUES %s, %s, %s, %s, %s, %s, %s, %s, %s, %s, %s, %s, %s, %s, %s, %s, %s'"
      ]
     },
     "execution_count": 133,
     "metadata": {},
     "output_type": "execute_result"
    }
   ],
   "source": [
    "query = 'INSERT INTO user_card_counts (deck_id, card_name, card_count) VALUES {}'.format(template)\n",
    "\n",
    "query"
   ]
  },
  {
   "cell_type": "code",
   "execution_count": 137,
   "metadata": {},
   "outputs": [],
   "source": [
    "cursor.execute(query, vars=user_card_counts)"
   ]
  },
  {
   "cell_type": "code",
   "execution_count": 138,
   "metadata": {
    "collapsed": true
   },
   "outputs": [],
   "source": [
    "conn.commit()"
   ]
  },
  {
   "cell_type": "code",
   "execution_count": null,
   "metadata": {
    "collapsed": true
   },
   "outputs": [],
   "source": []
  }
 ],
 "metadata": {
  "kernelspec": {
   "display_name": "Python 3",
   "language": "python",
   "name": "python3"
  },
  "language_info": {
   "codemirror_mode": {
    "name": "ipython",
    "version": 3
   },
   "file_extension": ".py",
   "mimetype": "text/x-python",
   "name": "python",
   "nbconvert_exporter": "python",
   "pygments_lexer": "ipython3",
   "version": "3.6.3"
  }
 },
 "nbformat": 4,
 "nbformat_minor": 2
}
