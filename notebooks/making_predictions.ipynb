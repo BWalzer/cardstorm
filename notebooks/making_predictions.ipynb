{
 "cells": [
  {
   "cell_type": "code",
   "execution_count": 2,
   "metadata": {},
   "outputs": [
    {
     "name": "stdout",
     "output_type": "stream",
     "text": [
      "/Users/benjaminwalzer/Documents/Galvanize/mtg-capstone/src\n"
     ]
    }
   ],
   "source": [
    "cd ~/Documents/Galvanize/mtg-capstone/src/"
   ]
  },
  {
   "cell_type": "code",
   "execution_count": 3,
   "metadata": {
    "collapsed": true
   },
   "outputs": [],
   "source": [
    "import requests\n",
    "import psycopg2\n",
    "import os\n",
    "import numpy as np\n",
    "from deck_scraping import format_deck, ReflexiveDict, parse_card_string"
   ]
  },
  {
   "cell_type": "code",
   "execution_count": 4,
   "metadata": {
    "collapsed": true
   },
   "outputs": [],
   "source": [
    "card_dict = ReflexiveDict()"
   ]
  },
  {
   "cell_type": "code",
   "execution_count": 5,
   "metadata": {
    "collapsed": true
   },
   "outputs": [],
   "source": [
    "raw_deck_list = '''4 Sakura-Tribe Elder\n",
    "                4 Primeval Titan\n",
    "                2 Sweltering Suns\n",
    "                4 Search for Tomorrow\n",
    "                4 Scapeshift\n",
    "                2 Hour of Promise\n",
    "                4 Farseek\n",
    "                2 Explore\n",
    "                2 Summoner's Pact\n",
    "                3 Lightning Bolt\n",
    "                2 Prismatic Omen\n",
    "                4 Wooded Foothills\n",
    "                3 Windswept Heath\n",
    "                4 Valakut, the Molten Pinnacle\n",
    "                4 Stomping Ground\n",
    "                3 Cinder Glade\n",
    "                6 Mountain\n",
    "                2 Forest\n",
    "                1 Wood Elves\n",
    "                Sideboard\n",
    "                2 Obstinate Baloth\n",
    "                2 Chameleon Colossus\n",
    "                3 Relic of Progenitus\n",
    "                1 Engineered Explosives\n",
    "                2 Anger of the Gods\n",
    "                1 Nature's Claim\n",
    "                2 Beast Within\n",
    "                1 Ancient Grudge\n",
    "                1 Reclamation Sage\n",
    "                '''"
   ]
  },
  {
   "cell_type": "code",
   "execution_count": 45,
   "metadata": {
    "collapsed": true
   },
   "outputs": [],
   "source": [
    "with open('/Users/benjaminwalzer/Downloads/cardstorm_test_kanji_4.txt', 'r') as f:\n",
    "    deck_list = f.read()"
   ]
  },
  {
   "cell_type": "code",
   "execution_count": 46,
   "metadata": {
    "collapsed": true,
    "scrolled": true
   },
   "outputs": [],
   "source": [
    "deck_list = deck_list.split('\\n')"
   ]
  },
  {
   "cell_type": "code",
   "execution_count": 47,
   "metadata": {
    "collapsed": true
   },
   "outputs": [],
   "source": [
    "all_cardstorm_ids = card_dict.get_cardstorm_ids()"
   ]
  },
  {
   "cell_type": "code",
   "execution_count": 48,
   "metadata": {
    "collapsed": true
   },
   "outputs": [],
   "source": [
    "def deck_to_dict(deck_list):\n",
    "    deck_dict = {}\n",
    "    for card_string in deck_list:\n",
    "        if card_string.startswith('S'):\n",
    "            break\n",
    "        if not card_string:\n",
    "            break\n",
    "        parse_status, card_name, card_count = parse_card_string(card_string)\n",
    "        cardstorm_id = card_dict[card_name.lower()]\n",
    "        deck_dict[cardstorm_id] = int(card_count)\n",
    "        \n",
    "    return deck_dict"
   ]
  },
  {
   "cell_type": "code",
   "execution_count": 49,
   "metadata": {
    "collapsed": true
   },
   "outputs": [],
   "source": [
    "deck_dict = deck_to_dict(deck_list)"
   ]
  },
  {
   "cell_type": "code",
   "execution_count": 50,
   "metadata": {
    "collapsed": true
   },
   "outputs": [],
   "source": [
    "# need to make a 11,438 x 1 vector of this deck list\n",
    "deck_vector = []\n",
    "for cardstorm_id in all_cardstorm_ids:\n",
    "    if cardstorm_id in deck_dict:\n",
    "        deck_vector.append(deck_dict[cardstorm_id])\n",
    "    else:\n",
    "        deck_vector.append(0)\n",
    "deck_vector = np.array(deck_vector)"
   ]
  },
  {
   "cell_type": "code",
   "execution_count": 51,
   "metadata": {
    "collapsed": true
   },
   "outputs": [],
   "source": [
    "# retrieve the product_features matrix from the db"
   ]
  },
  {
   "cell_type": "code",
   "execution_count": 52,
   "metadata": {
    "collapsed": true
   },
   "outputs": [],
   "source": [
    "dbname = os.environ['CAPSTONE_DB_DBNAME']\n",
    "host = os.environ['CAPSTONE_DB_HOST']\n",
    "username = os.environ['CAPSTONE_DB_USERNAME']\n",
    "password = os.environ['CAPSTONE_DB_PASSWORD']"
   ]
  },
  {
   "cell_type": "code",
   "execution_count": 53,
   "metadata": {
    "collapsed": true
   },
   "outputs": [],
   "source": [
    "conn = psycopg2.connect('dbname={} host={} user={} password={}'.format(dbname, host, username, password))\n",
    "cursor = conn.cursor()"
   ]
  },
  {
   "cell_type": "code",
   "execution_count": 54,
   "metadata": {
    "collapsed": true
   },
   "outputs": [],
   "source": [
    "query = '''SELECT cardstorm_id, features\n",
    "           FROM product_matrices\n",
    "           WHERE date = (SELECT MAX(date) FROM product_matrices)\n",
    "           ORDER BY cardstorm_id ASC'''\n",
    "\n",
    "cursor.execute(query)"
   ]
  },
  {
   "cell_type": "code",
   "execution_count": 55,
   "metadata": {
    "collapsed": true
   },
   "outputs": [],
   "source": [
    "results = cursor.fetchall()"
   ]
  },
  {
   "cell_type": "code",
   "execution_count": 56,
   "metadata": {
    "collapsed": true
   },
   "outputs": [],
   "source": [
    "feature_matrix = []\n",
    "for cardstorm_id, features in results:\n",
    "    feature_matrix.append(features)\n",
    "    \n",
    "feature_matrix = np.array(feature_matrix)"
   ]
  },
  {
   "cell_type": "code",
   "execution_count": 57,
   "metadata": {},
   "outputs": [
    {
     "data": {
      "text/plain": [
       "(11348, 10)"
      ]
     },
     "execution_count": 57,
     "metadata": {},
     "output_type": "execute_result"
    }
   ],
   "source": [
    "feature_matrix.shape"
   ]
  },
  {
   "cell_type": "code",
   "execution_count": 70,
   "metadata": {
    "collapsed": true
   },
   "outputs": [],
   "source": [
    "result = np.linalg.lstsq(feature_matrix, deck_vector)"
   ]
  },
  {
   "cell_type": "code",
   "execution_count": 71,
   "metadata": {
    "scrolled": true
   },
   "outputs": [
    {
     "data": {
      "text/plain": [
       "array([-0.15642874,  0.06220244, -0.31110072,  0.00287821,  0.44539073,\n",
       "        0.08936423,  0.10256757, -0.01984965, -0.10238489, -0.29790892])"
      ]
     },
     "execution_count": 71,
     "metadata": {},
     "output_type": "execute_result"
    }
   ],
   "source": [
    "result[0]"
   ]
  },
  {
   "cell_type": "code",
   "execution_count": 60,
   "metadata": {},
   "outputs": [
    {
     "data": {
      "text/plain": [
       "array([ 53.44402113])"
      ]
     },
     "execution_count": 60,
     "metadata": {},
     "output_type": "execute_result"
    }
   ],
   "source": [
    "result[1]"
   ]
  },
  {
   "cell_type": "code",
   "execution_count": 77,
   "metadata": {},
   "outputs": [
    {
     "name": "stdout",
     "output_type": "stream",
     "text": [
      "[  4.33747214e-07   4.33747214e-07   4.33747214e-07 ...,   4.33747214e-07\n",
      "   4.33747214e-07   3.56760343e-04]\n"
     ]
    }
   ],
   "source": [
    "recreated = np.dot(result[0], feature_matrix.T)\n",
    "print(recreated)"
   ]
  },
  {
   "cell_type": "code",
   "execution_count": 143,
   "metadata": {},
   "outputs": [
    {
     "data": {
      "text/plain": [
       "array([ 9211,  3790,  4250,  2333,   101,   994,   948,  9512, 10011,  6346])"
      ]
     },
     "execution_count": 143,
     "metadata": {},
     "output_type": "execute_result"
    }
   ],
   "source": [
    "np.argsort(recreated - deck_vector)[:10]"
   ]
  },
  {
   "cell_type": "code",
   "execution_count": 63,
   "metadata": {
    "collapsed": true
   },
   "outputs": [],
   "source": [
    "all_cardstorm_ids = np.array(all_cardstorm_ids)"
   ]
  },
  {
   "cell_type": "code",
   "execution_count": 139,
   "metadata": {},
   "outputs": [
    {
     "name": "stdout",
     "output_type": "stream",
     "text": [
      "sphinx's revelation\n",
      "glacial fortress\n",
      "hallowed fountain\n",
      "detention sphere\n",
      "aetherling\n",
      "bloodstained mire\n",
      "blood crypt\n",
      "street wraith\n",
      "thought scour\n",
      "mutagenic growth\n"
     ]
    }
   ],
   "source": [
    "for idx, cardstorm_id in enumerate(all_cardstorm_ids[np.argsort(recreated - deck_vector)[::]]):\n",
    "    print(card_dict[cardstorm_id])\n",
    "    \n",
    "    if idx == 9:\n",
    "        break"
   ]
  },
  {
   "cell_type": "code",
   "execution_count": 154,
   "metadata": {},
   "outputs": [],
   "source": [
    "import predictions"
   ]
  },
  {
   "cell_type": "code",
   "execution_count": 155,
   "metadata": {},
   "outputs": [],
   "source": [
    "with open('/Users/benjaminwalzer/Downloads/cardstorm_example_UW.txt', 'r') as f:\n",
    "    deck_list = f.read()"
   ]
  },
  {
   "cell_type": "code",
   "execution_count": 156,
   "metadata": {},
   "outputs": [
    {
     "data": {
      "text/plain": [
       "'4 Cryptic Command\\n4 Snapcaster Mage\\n4 Celestial Colonnade\\n4 Path to Exile'"
      ]
     },
     "execution_count": 156,
     "metadata": {},
     "output_type": "execute_result"
    }
   ],
   "source": [
    "deck_list"
   ]
  },
  {
   "cell_type": "code",
   "execution_count": 157,
   "metadata": {},
   "outputs": [
    {
     "ename": "KeyError",
     "evalue": "'cryptic command'",
     "output_type": "error",
     "traceback": [
      "\u001b[0;31m---------------------------------------------------------------------------\u001b[0m",
      "\u001b[0;31mKeyError\u001b[0m                                  Traceback (most recent call last)",
      "\u001b[0;32m<ipython-input-157-1ae6afe16c37>\u001b[0m in \u001b[0;36m<module>\u001b[0;34m()\u001b[0m\n\u001b[0;32m----> 1\u001b[0;31m \u001b[0mpredictions\u001b[0m\u001b[0;34m.\u001b[0m\u001b[0mdo_everything\u001b[0m\u001b[0;34m(\u001b[0m\u001b[0mdeck_list\u001b[0m\u001b[0;34m)\u001b[0m\u001b[0;34m\u001b[0m\u001b[0m\n\u001b[0m",
      "\u001b[0;32m~/Documents/Galvanize/mtg-capstone/src/predictions.py\u001b[0m in \u001b[0;36mdo_everything\u001b[0;34m(raw_deck_list)\u001b[0m\n\u001b[1;32m    145\u001b[0m \u001b[0;34m\u001b[0m\u001b[0m\n\u001b[1;32m    146\u001b[0m     \u001b[0;32mreturn\u001b[0m \u001b[0mbottom_recommendations\u001b[0m\u001b[0;34m\u001b[0m\u001b[0m\n\u001b[0;32m--> 147\u001b[0;31m \u001b[0;34m\u001b[0m\u001b[0m\n\u001b[0m\u001b[1;32m    148\u001b[0m \u001b[0;32mdef\u001b[0m \u001b[0mmake_recommendations\u001b[0m\u001b[0;34m(\u001b[0m\u001b[0mraw_deck_list\u001b[0m\u001b[0;34m,\u001b[0m \u001b[0mnum_top_recommendations\u001b[0m\u001b[0;34m=\u001b[0m\u001b[0;36m10\u001b[0m\u001b[0;34m,\u001b[0m \u001b[0mnum_bot_recommendations\u001b[0m\u001b[0;34m=\u001b[0m\u001b[0;36m10\u001b[0m\u001b[0;34m)\u001b[0m\u001b[0;34m:\u001b[0m\u001b[0;34m\u001b[0m\u001b[0m\n\u001b[1;32m    149\u001b[0m     '''\n",
      "\u001b[0;32m~/Documents/Galvanize/mtg-capstone/src/predictions.py\u001b[0m in \u001b[0;36mdeck_to_dict\u001b[0;34m(deck_list, card_dict)\u001b[0m\n\u001b[1;32m     33\u001b[0m             \u001b[0;32mbreak\u001b[0m\u001b[0;34m\u001b[0m\u001b[0m\n\u001b[1;32m     34\u001b[0m         \u001b[0mparse_status\u001b[0m\u001b[0;34m,\u001b[0m \u001b[0mcard_name\u001b[0m\u001b[0;34m,\u001b[0m \u001b[0mcard_count\u001b[0m \u001b[0;34m=\u001b[0m \u001b[0mparse_card_string\u001b[0m\u001b[0;34m(\u001b[0m\u001b[0mcard_string\u001b[0m\u001b[0;34m)\u001b[0m\u001b[0;34m\u001b[0m\u001b[0m\n\u001b[0;32m---> 35\u001b[0;31m         \u001b[0mcardstorm_id\u001b[0m \u001b[0;34m=\u001b[0m \u001b[0mcard_dict\u001b[0m\u001b[0;34m[\u001b[0m\u001b[0mcard_name\u001b[0m\u001b[0;34m.\u001b[0m\u001b[0mlower\u001b[0m\u001b[0;34m(\u001b[0m\u001b[0;34m)\u001b[0m\u001b[0;34m]\u001b[0m\u001b[0;34m\u001b[0m\u001b[0m\n\u001b[0m\u001b[1;32m     36\u001b[0m         \u001b[0mdeck_dict\u001b[0m\u001b[0;34m[\u001b[0m\u001b[0mcardstorm_id\u001b[0m\u001b[0;34m]\u001b[0m \u001b[0;34m=\u001b[0m \u001b[0mint\u001b[0m\u001b[0;34m(\u001b[0m\u001b[0mcard_count\u001b[0m\u001b[0;34m)\u001b[0m\u001b[0;34m\u001b[0m\u001b[0m\n\u001b[1;32m     37\u001b[0m \u001b[0;34m\u001b[0m\u001b[0m\n",
      "\u001b[0;32m~/Documents/Galvanize/mtg-capstone/src/deck_scraping.py\u001b[0m in \u001b[0;36m__getitem__\u001b[0;34m(self, key)\u001b[0m\n\u001b[1;32m     29\u001b[0m \u001b[0;34m\u001b[0m\u001b[0m\n\u001b[1;32m     30\u001b[0m     \u001b[0;32mdef\u001b[0m \u001b[0m__getitem__\u001b[0m\u001b[0;34m(\u001b[0m\u001b[0mself\u001b[0m\u001b[0;34m,\u001b[0m \u001b[0mkey\u001b[0m\u001b[0;34m)\u001b[0m\u001b[0;34m:\u001b[0m\u001b[0;34m\u001b[0m\u001b[0m\n\u001b[0;32m---> 31\u001b[0;31m         \u001b[0;32mreturn\u001b[0m \u001b[0mself\u001b[0m\u001b[0;34m.\u001b[0m\u001b[0m_dict\u001b[0m\u001b[0;34m[\u001b[0m\u001b[0mkey\u001b[0m\u001b[0;34m]\u001b[0m\u001b[0;34m\u001b[0m\u001b[0m\n\u001b[0m\u001b[1;32m     32\u001b[0m \u001b[0;34m\u001b[0m\u001b[0m\n\u001b[1;32m     33\u001b[0m     \u001b[0;32mdef\u001b[0m \u001b[0mkeys\u001b[0m\u001b[0;34m(\u001b[0m\u001b[0mself\u001b[0m\u001b[0;34m)\u001b[0m\u001b[0;34m:\u001b[0m\u001b[0;34m\u001b[0m\u001b[0m\n",
      "\u001b[0;31mKeyError\u001b[0m: 'cryptic command'"
     ]
    }
   ],
   "source": [
    "predictions.do_everything(deck_list)"
   ]
  },
  {
   "cell_type": "code",
   "execution_count": 137,
   "metadata": {},
   "outputs": [
    {
     "data": {
      "text/plain": [
       "array([ True,  True,  True,  True,  True,  True,  True,  True,  True,  True], dtype=bool)"
      ]
     },
     "execution_count": 137,
     "metadata": {},
     "output_type": "execute_result"
    }
   ],
   "source": [
    "result[0] == fn_u"
   ]
  },
  {
   "cell_type": "code",
   "execution_count": 126,
   "metadata": {},
   "outputs": [
    {
     "data": {
      "text/plain": [
       "array([  4.33747214e-07,   4.33747214e-07,   4.33747214e-07, ...,\n",
       "         4.33747214e-07,   4.33747214e-07,   3.56760343e-04])"
      ]
     },
     "execution_count": 126,
     "metadata": {},
     "output_type": "execute_result"
    }
   ],
   "source": [
    "fn_recommendations"
   ]
  },
  {
   "cell_type": "code",
   "execution_count": 127,
   "metadata": {},
   "outputs": [
    {
     "data": {
      "text/plain": [
       "array([False, False, False, False, False, False, False, False, False], dtype=bool)"
      ]
     },
     "execution_count": 127,
     "metadata": {},
     "output_type": "execute_result"
    }
   ],
   "source": [
    "fn_top == np.argsort(recreated - deck_vector)[:-10:-1]"
   ]
  },
  {
   "cell_type": "code",
   "execution_count": 128,
   "metadata": {},
   "outputs": [
    {
     "data": {
      "text/plain": [
       "'path to exile'"
      ]
     },
     "execution_count": 128,
     "metadata": {},
     "output_type": "execute_result"
    }
   ],
   "source": [
    "card_dict[7022]"
   ]
  },
  {
   "cell_type": "code",
   "execution_count": null,
   "metadata": {
    "collapsed": true
   },
   "outputs": [],
   "source": []
  },
  {
   "cell_type": "code",
   "execution_count": 129,
   "metadata": {},
   "outputs": [
    {
     "data": {
      "text/plain": [
       "<cursor object at 0x1093bb428; closed: 0>"
      ]
     },
     "execution_count": 129,
     "metadata": {},
     "output_type": "execute_result"
    }
   ],
   "source": [
    "cursor"
   ]
  },
  {
   "cell_type": "code",
   "execution_count": 159,
   "metadata": {},
   "outputs": [
    {
     "ename": "ValueError",
     "evalue": "The truth value of an array with more than one element is ambiguous. Use a.any() or a.all()",
     "output_type": "error",
     "traceback": [
      "\u001b[0;31m---------------------------------------------------------------------------\u001b[0m",
      "\u001b[0;31mValueError\u001b[0m                                Traceback (most recent call last)",
      "\u001b[0;32m<ipython-input-159-ff4a2fff47bd>\u001b[0m in \u001b[0;36m<module>\u001b[0;34m()\u001b[0m\n\u001b[0;32m----> 1\u001b[0;31m \u001b[0mbool\u001b[0m\u001b[0;34m(\u001b[0m\u001b[0mnp\u001b[0m\u001b[0;34m.\u001b[0m\u001b[0marray\u001b[0m\u001b[0;34m(\u001b[0m\u001b[0;34m[\u001b[0m\u001b[0;36m1\u001b[0m\u001b[0;34m,\u001b[0m\u001b[0;36m2\u001b[0m\u001b[0;34m,\u001b[0m\u001b[0;36m3\u001b[0m\u001b[0;34m]\u001b[0m\u001b[0;34m)\u001b[0m\u001b[0;34m)\u001b[0m\u001b[0;34m\u001b[0m\u001b[0m\n\u001b[0m",
      "\u001b[0;31mValueError\u001b[0m: The truth value of an array with more than one element is ambiguous. Use a.any() or a.all()"
     ]
    }
   ],
   "source": [
    "bool(np.array([1,2,3]).)"
   ]
  },
  {
   "cell_type": "code",
   "execution_count": 160,
   "metadata": {
    "collapsed": true
   },
   "outputs": [],
   "source": [
    "test = np.array([1,2,3])"
   ]
  },
  {
   "cell_type": "code",
   "execution_count": 161,
   "metadata": {},
   "outputs": [
    {
     "data": {
      "text/plain": [
       "True"
      ]
     },
     "execution_count": 161,
     "metadata": {},
     "output_type": "execute_result"
    }
   ],
   "source": [
    "test.all()"
   ]
  },
  {
   "cell_type": "code",
   "execution_count": 162,
   "metadata": {
    "collapsed": true
   },
   "outputs": [],
   "source": [
    "test2 = np.array([])"
   ]
  },
  {
   "cell_type": "code",
   "execution_count": 163,
   "metadata": {},
   "outputs": [
    {
     "data": {
      "text/plain": [
       "True"
      ]
     },
     "execution_count": 163,
     "metadata": {},
     "output_type": "execute_result"
    }
   ],
   "source": [
    "test2"
   ]
  },
  {
   "cell_type": "code",
   "execution_count": null,
   "metadata": {
    "collapsed": true
   },
   "outputs": [],
   "source": []
  }
 ],
 "metadata": {
  "kernelspec": {
   "display_name": "Python 3",
   "language": "python",
   "name": "python3"
  },
  "language_info": {
   "codemirror_mode": {
    "name": "ipython",
    "version": 3
   },
   "file_extension": ".py",
   "mimetype": "text/x-python",
   "name": "python",
   "nbconvert_exporter": "python",
   "pygments_lexer": "ipython3",
   "version": "3.6.3"
  }
 },
 "nbformat": 4,
 "nbformat_minor": 2
}
