{
 "cells": [
  {
   "cell_type": "code",
   "execution_count": 4,
   "metadata": {},
   "outputs": [
    {
     "name": "stdout",
     "output_type": "stream",
     "text": [
      "/Users/benjaminwalzer/Documents/Galvanize/mtg-capstone/src\n"
     ]
    }
   ],
   "source": [
    "cd ~/Documents/Galvanize/mtg-capstone/src"
   ]
  },
  {
   "cell_type": "code",
   "execution_count": 6,
   "metadata": {
    "collapsed": true
   },
   "outputs": [],
   "source": [
    "from deck_scraping import *\n",
    "from bs4 import BeautifulSoup\n",
    "import requests"
   ]
  },
  {
   "cell_type": "code",
   "execution_count": 7,
   "metadata": {
    "collapsed": true
   },
   "outputs": [],
   "source": [
    "event_page = BeautifulSoup(requests.get('http://mtgtop8.com/event?e=13108').content, 'html.parser')"
   ]
  },
  {
   "cell_type": "code",
   "execution_count": 11,
   "metadata": {},
   "outputs": [
    {
     "data": {
      "text/plain": [
       "[<a href=\"http://www.magicfriends.net/index.php?ind=news&amp;op=news_show_single&amp;ide=3359\" target=\"_blank\">http://www.magicfriends.net/index.php?ind=news&amp;op;=...</a>,\n",
       " <a class=\"topic\" href=\"?e=13108&amp;d=276699&amp;f=MO\">Merfolk</a>,\n",
       " <a class=\"topic\" href=\"search?player=Paolo+Pidutti\">Paolo Pidutti</a>,\n",
       " <a href=\"?e=13108&amp;d=276700&amp;f=MO\">U Tron</a>,\n",
       " <a class=\"player\" href=\"search?player=Riccardo+Cestari\">Riccardo Cestari</a>,\n",
       " <a href=\"mtgo?d=276699&amp;f=Modern_Merfolk_by_Paolo_Pidutti\">MTGO</a>,\n",
       " <a href=\"dec?d=276699&amp;f=Modern_Merfolk_by_Paolo_Pidutti\">.dec</a>,\n",
       " <a href=\"archetype?a=192\">Merfolk decks</a>,\n",
       " <a href=\"tcg_redir?f=MO&amp;c=4 Aether Vial||2 Cavern of Souls||2 Chalice of the Void||4 Cursecatcher||3 Dismember||2 Gut Shot||2 Harbinger of the Tides||4 Hurkyl's Recall||12 Island||2 Kira, Great Glass-Spinner||4 Lord of Atlantis||3 Master of Waves||4 Master of the Pearl Trident||3 Merrow Reejerey||4 Mutavault||1 Negate||1 Oboro, Palace in the Clouds||1 Phantasmal Image||3 Relic of Progenitus||4 Silvergill Adept||2 Spell Pierce||4 Spreading Seas||2 Tidebinder Mage||1 Vapor Snag||1 Wanderwine Hub||\" target=\"_blank\">TCGplayer</a>]"
      ]
     },
     "execution_count": 11,
     "metadata": {},
     "output_type": "execute_result"
    }
   ],
   "source": [
    "deck_list_table = event_page.find_all('table')[3].find_all('a')\n",
    "deck_list_table"
   ]
  },
  {
   "cell_type": "code",
   "execution_count": 15,
   "metadata": {},
   "outputs": [
    {
     "name": "stdout",
     "output_type": "stream",
     "text": [
      "?e=13108&d=276699&f=MO\n",
      "?e=13108&d=276700&f=MO\n"
     ]
    }
   ],
   "source": [
    "for anchor in deck_list_table:\n",
    "    if ('&d=' in anchor['href'] and '?e=' in anchor['href']):\n",
    "        print(anchor['href'])"
   ]
  },
  {
   "cell_type": "code",
   "execution_count": null,
   "metadata": {
    "collapsed": true
   },
   "outputs": [],
   "source": []
  }
 ],
 "metadata": {
  "kernelspec": {
   "display_name": "Python 3",
   "language": "python",
   "name": "python3"
  },
  "language_info": {
   "codemirror_mode": {
    "name": "ipython",
    "version": 3
   },
   "file_extension": ".py",
   "mimetype": "text/x-python",
   "name": "python",
   "nbconvert_exporter": "python",
   "pygments_lexer": "ipython3",
   "version": "3.6.3"
  }
 },
 "nbformat": 4,
 "nbformat_minor": 2
}
