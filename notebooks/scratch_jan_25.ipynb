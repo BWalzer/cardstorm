{
 "cells": [
  {
   "cell_type": "code",
   "execution_count": 108,
   "metadata": {
    "collapsed": true
   },
   "outputs": [],
   "source": [
    "import pyspark as ps\n",
    "from pyspark.mllib.recommendation import ALS\n",
    "from pyspark.sql.types import StructField, StructType, IntegerType\n",
    "import psycopg2\n",
    "import os\n",
    "import pandas as pd\n",
    "import numpy as np\n",
    "import datetime"
   ]
  },
  {
   "cell_type": "code",
   "execution_count": 3,
   "metadata": {
    "collapsed": true
   },
   "outputs": [],
   "source": [
    "dbname = os.environ['CAPSTONE_DB_DBNAME']\n",
    "host = os.environ['CAPSTONE_DB_HOST']\n",
    "username = os.environ['CAPSTONE_DB_USERNAME']\n",
    "password = os.environ['CAPSTONE_DB_PASSWORD']"
   ]
  },
  {
   "cell_type": "code",
   "execution_count": 4,
   "metadata": {
    "collapsed": true
   },
   "outputs": [],
   "source": [
    "conn = psycopg2.connect('dbname={} host={} user={} password={}'.format(dbname, host, username, password))\n",
    "cursor = conn.cursor()"
   ]
  },
  {
   "cell_type": "code",
   "execution_count": 29,
   "metadata": {
    "collapsed": true
   },
   "outputs": [],
   "source": [
    "# query db to get (deck_id, cardstorm_id, card_count) pairs\n",
    "cursor.execute('''SELECT deck_id, cardstorm_id, card_count\n",
    "                  FROM decks''')"
   ]
  },
  {
   "cell_type": "code",
   "execution_count": 30,
   "metadata": {
    "collapsed": true
   },
   "outputs": [],
   "source": [
    "# create schema for spark decks df\n",
    "decks_schema = StructType([StructField('deck_id', IntegerType()),\n",
    "                           StructField('cardstorm_id', IntegerType()),\n",
    "                           StructField('card_count', IntegerType())])\n",
    "\n",
    "# create spark df for decks\n",
    "decks_df = spark.createDataFrame(data=cursor.fetchall(), schema=decks_schema)"
   ]
  },
  {
   "cell_type": "code",
   "execution_count": 31,
   "metadata": {
    "collapsed": true
   },
   "outputs": [],
   "source": [
    "# get a list of all unused cardstorm ids\n",
    "cursor.execute('''SELECT cardstorm_id\n",
    "                  FROM cards\n",
    "                  WHERE cardstorm_id NOT IN (SELECT DISTINCT cardstorm_id FROM decks)''')\n",
    "\n",
    "unused_ids = [_[0] for _ in cursor.fetchall()]"
   ]
  },
  {
   "cell_type": "code",
   "execution_count": 32,
   "metadata": {},
   "outputs": [],
   "source": [
    "# create fake data for all unused cards\n",
    "# deck_id of -1 is used to easily identify fake data\n",
    "unused_cards = []\n",
    "for unused_id in unused_ids:\n",
    "    unused_cards.append((-1, unused_id, 1))"
   ]
  },
  {
   "cell_type": "code",
   "execution_count": 33,
   "metadata": {
    "collapsed": true
   },
   "outputs": [],
   "source": [
    "# make a new spark df from unused cards\n",
    "unused_df = spark.createDataFrame(data=unused_cards, schema=decks_schema)"
   ]
  },
  {
   "cell_type": "code",
   "execution_count": 34,
   "metadata": {
    "collapsed": true
   },
   "outputs": [],
   "source": [
    "# merge both dataframes into one\n",
    "complete_decks_df = decks_df.union(unused_df)"
   ]
  },
  {
   "cell_type": "code",
   "execution_count": 37,
   "metadata": {
    "collapsed": true
   },
   "outputs": [],
   "source": [
    "# create and train the ALS model\n",
    "# using implicit train \n",
    "# rank is 10 for now, needs to be turned later\n",
    "model = ALS.trainImplicit(ratings=complete_decks_df, rank=10)"
   ]
  },
  {
   "cell_type": "code",
   "execution_count": 38,
   "metadata": {
    "collapsed": true
   },
   "outputs": [],
   "source": [
    "# get the product features matrix out of the model (V)\n",
    "product_features = model.productFeatures()"
   ]
  },
  {
   "cell_type": "code",
   "execution_count": 76,
   "metadata": {},
   "outputs": [],
   "source": [
    "# turn the spark RDD into a spark DF, then into a pandas DF\n",
    "pd_product_features = product_features.toDF().toPandas()"
   ]
  },
  {
   "cell_type": "code",
   "execution_count": 77,
   "metadata": {},
   "outputs": [],
   "source": [
    "# create a cardstorm_id column, to be used as the index\n",
    "pd_product_features['cardstorm_id'] = pd_product_features['_1']\n",
    "\n",
    "# drop column '_1'\n",
    "pd_product_features.drop(columns='_1', inplace=True)\n",
    "\n",
    "# set the cardstorm_id to be the index\n",
    "pd_product_features.set_index(keys='cardstorm_id', inplace=True, verify_integrity=True)\n",
    "\n",
    "# sort the df by the index\n",
    "pd_product_features.sort_index(inplace=True)"
   ]
  },
  {
   "cell_type": "code",
   "execution_count": 104,
   "metadata": {},
   "outputs": [],
   "source": [
    "# expand each row\n",
    "product_matrix = []\n",
    "for row in pd_product_features.values:\n",
    "    product_matrix.append(row[0]) \n",
    "\n",
    "product_matrix = np.array(product_matrix)"
   ]
  },
  {
   "cell_type": "code",
   "execution_count": 107,
   "metadata": {},
   "outputs": [
    {
     "data": {
      "text/plain": [
       "array([[  7.25691734e-07,  -1.56810677e-06,   2.00104250e-06, ...,\n",
       "          1.34571025e-07,  -1.13234114e-06,   9.34421109e-08],\n",
       "       [  7.25691734e-07,  -1.56810677e-06,   2.00104250e-06, ...,\n",
       "          1.34571025e-07,  -1.13234114e-06,   9.34421109e-08],\n",
       "       [  7.25691734e-07,  -1.56810677e-06,   2.00104250e-06, ...,\n",
       "          1.34571025e-07,  -1.13234114e-06,   9.34421109e-08],\n",
       "       ..., \n",
       "       [  7.25691734e-07,  -1.56810677e-06,   2.00104250e-06, ...,\n",
       "          1.34571025e-07,  -1.13234114e-06,   9.34421109e-08],\n",
       "       [  7.25691734e-07,  -1.56810677e-06,   2.00104250e-06, ...,\n",
       "          1.34571025e-07,  -1.13234114e-06,   9.34421109e-08],\n",
       "       [ -1.46551538e-05,  -2.49797507e-04,   5.84725931e-04, ...,\n",
       "         -2.21382070e-04,   1.13817063e-04,   3.42667074e-04]])"
      ]
     },
     "execution_count": 107,
     "metadata": {},
     "output_type": "execute_result"
    }
   ],
   "source": [
    "product_matrix"
   ]
  },
  {
   "cell_type": "code",
   "execution_count": null,
   "metadata": {
    "collapsed": true
   },
   "outputs": [],
   "source": [
    "query = '''CREATE TABLE product_matrices \n",
    "          (cardstorm_id int REFERENCES cards(cardstorm_id),\n",
    "           feature_1 real,\n",
    "           feature_2 real,\n",
    "           feature_3 real,\n",
    "           feature_4 real,\n",
    "           feature_5 real,\n",
    "           feature_6 real,\n",
    "           feature_'''"
   ]
  },
  {
   "cell_type": "code",
   "execution_count": null,
   "metadata": {
    "collapsed": true
   },
   "outputs": [],
   "source": [
    "for row in enumerate(product_matrix, start=1):\n",
    "    template = ', '.join(['%s'] * len(row))\n",
    "    query = '''INSERT INTO product_matrices (cardstorm_id, )'''"
   ]
  },
  {
   "cell_type": "code",
   "execution_count": null,
   "metadata": {
    "collapsed": true
   },
   "outputs": [],
   "source": []
  },
  {
   "cell_type": "code",
   "execution_count": null,
   "metadata": {
    "collapsed": true
   },
   "outputs": [],
   "source": []
  }
 ],
 "metadata": {
  "kernelspec": {
   "display_name": "Python 3",
   "language": "python",
   "name": "python3"
  },
  "language_info": {
   "codemirror_mode": {
    "name": "ipython",
    "version": 3
   },
   "file_extension": ".py",
   "mimetype": "text/x-python",
   "name": "python",
   "nbconvert_exporter": "python",
   "pygments_lexer": "ipython3",
   "version": "3.6.3"
  }
 },
 "nbformat": 4,
 "nbformat_minor": 2
}
