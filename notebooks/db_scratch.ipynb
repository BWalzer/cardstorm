{
 "cells": [
  {
   "cell_type": "code",
   "execution_count": 2,
   "metadata": {},
   "outputs": [
    {
     "ename": "ModuleNotFoundError",
     "evalue": "No module named 'src'",
     "output_type": "error",
     "traceback": [
      "\u001b[0;31m---------------------------------------------------------------------------\u001b[0m",
      "\u001b[0;31mModuleNotFoundError\u001b[0m                       Traceback (most recent call last)",
      "\u001b[0;32m<ipython-input-2-11178f2820c9>\u001b[0m in \u001b[0;36m<module>\u001b[0;34m()\u001b[0m\n\u001b[1;32m      1\u001b[0m \u001b[0;32mimport\u001b[0m \u001b[0mos\u001b[0m\u001b[0;34m\u001b[0m\u001b[0m\n\u001b[1;32m      2\u001b[0m \u001b[0;32mimport\u001b[0m \u001b[0mpsycopg2\u001b[0m\u001b[0;34m\u001b[0m\u001b[0m\n\u001b[0;32m----> 3\u001b[0;31m \u001b[0;32mfrom\u001b[0m \u001b[0msrc\u001b[0m\u001b[0;34m.\u001b[0m\u001b[0mdeck_scraping\u001b[0m \u001b[0;32mimport\u001b[0m \u001b[0;34m*\u001b[0m\u001b[0;34m\u001b[0m\u001b[0m\n\u001b[0m\u001b[1;32m      4\u001b[0m \u001b[0;32mfrom\u001b[0m \u001b[0mbs4\u001b[0m \u001b[0;32mimport\u001b[0m \u001b[0mBeautifulSoup\u001b[0m\u001b[0;34m\u001b[0m\u001b[0m\n",
      "\u001b[0;31mModuleNotFoundError\u001b[0m: No module named 'src'"
     ]
    }
   ],
   "source": [
    "import os\n",
    "import psycopg2\n",
    "from src.deck_scraping import *\n",
    "from bs4 import BeautifulSoup"
   ]
  },
  {
   "cell_type": "code",
   "execution_count": 6,
   "metadata": {
    "collapsed": true
   },
   "outputs": [],
   "source": [
    "hostname = os.environ['CAPSTONE_DB_HOST']\n",
    "dbname = os.environ['CAPSTONE_DB_DBNAME']\n",
    "username = os.environ['CAPSTONE_DB_USERNAME']\n",
    "password = os.environ['CAPSTONE_DB_PASSWORD']"
   ]
  },
  {
   "cell_type": "code",
   "execution_count": null,
   "metadata": {
    "collapsed": true
   },
   "outputs": [],
   "source": [
    "front_page = BeautifulSoup(modern_front_page_request().content, 'html.parser')\n",
    "\n",
    "event_ids = get_event_ids(front_page)\n",
    "\n",
    "event_page = BeautifulSoup(event_request(event_ids[0]).content, 'html.parser')\n",
    "\n",
    "deck_ids = get_deck_ids(event_page)\n",
    "\n",
    "raw_deck_list = deck_request(deck_ids[0])\n",
    "\n",
    "deck_list = format_deck(raw_deck_list)\n",
    "\n",
    "user_card_counts = make_user_card_counts(deck_ids[0], deck_list)"
   ]
  },
  {
   "cell_type": "code",
   "execution_count": null,
   "metadata": {
    "collapsed": true
   },
   "outputs": [],
   "source": [
    "items = [\"(, '{}', {})\".format(deck_id, card_name, card_count) for deck_id, card_name, card_count in user_card_counts]"
   ]
  },
  {
   "cell_type": "code",
   "execution_count": null,
   "metadata": {
    "collapsed": true
   },
   "outputs": [],
   "source": [
    "joined_items = ', '.join(items)"
   ]
  },
  {
   "cell_type": "code",
   "execution_count": null,
   "metadata": {
    "collapsed": true,
    "scrolled": true
   },
   "outputs": [],
   "source": [
    "query = '''INSERT INTO user_card_counts(deck_id, card_name, card_count)\n",
    "           VALUES {}'''.format(joined_items)\n",
    "\n",
    "query"
   ]
  },
  {
   "cell_type": "code",
   "execution_count": null,
   "metadata": {
    "collapsed": true
   },
   "outputs": [],
   "source": [
    "conn = psycopg2.connect('dbname={} host={} user={}'.format(dbname, hostname, username))"
   ]
  },
  {
   "cell_type": "code",
   "execution_count": null,
   "metadata": {
    "collapsed": true
   },
   "outputs": [],
   "source": [
    "cursor = conn.cursor()"
   ]
  },
  {
   "cell_type": "code",
   "execution_count": null,
   "metadata": {
    "collapsed": true
   },
   "outputs": [],
   "source": [
    "cursor.execute(query, )"
   ]
  },
  {
   "cell_type": "code",
   "execution_count": null,
   "metadata": {
    "collapsed": true
   },
   "outputs": [],
   "source": [
    "query = '''INSERT INTO user_card_counts(deck_id, card_name, card_count)\n",
    "           VALUES ({},'{}',{})'''.format(user_card_counts[0][0], user_card_counts[0][1], user_card_counts[0][2])\n"
   ]
  },
  {
   "cell_type": "code",
   "execution_count": null,
   "metadata": {
    "collapsed": true
   },
   "outputs": [],
   "source": [
    "query"
   ]
  },
  {
   "cell_type": "code",
   "execution_count": null,
   "metadata": {
    "collapsed": true
   },
   "outputs": [],
   "source": [
    "query = 'INSERT INTO user_card_counts(deck_id, card_name, card_count) VALUES (%s, %s, %s)'\n",
    "\n",
    "cursor.execute(query, vars=user_card_counts[7])"
   ]
  },
  {
   "cell_type": "code",
   "execution_count": null,
   "metadata": {
    "collapsed": true
   },
   "outputs": [],
   "source": [
    "conn.commit()"
   ]
  },
  {
   "cell_type": "code",
   "execution_count": null,
   "metadata": {
    "collapsed": true
   },
   "outputs": [],
   "source": [
    "template = ', '.join(['%s'] * len(user_card_counts))\n",
    "template"
   ]
  },
  {
   "cell_type": "code",
   "execution_count": null,
   "metadata": {
    "collapsed": true
   },
   "outputs": [],
   "source": [
    "query = 'INSERT INTO user_card_counts (deck_id, card_name, card_count) VALUES {}'.format(template)\n",
    "\n",
    "query"
   ]
  },
  {
   "cell_type": "code",
   "execution_count": null,
   "metadata": {
    "collapsed": true
   },
   "outputs": [],
   "source": [
    "cursor.execute(query, vars=user_card_counts)"
   ]
  },
  {
   "cell_type": "code",
   "execution_count": null,
   "metadata": {
    "collapsed": true
   },
   "outputs": [],
   "source": [
    "conn.commit()"
   ]
  },
  {
   "cell_type": "code",
   "execution_count": null,
   "metadata": {
    "collapsed": true
   },
   "outputs": [],
   "source": [
    "upload_user_card_count(user_card_counts)"
   ]
  },
  {
   "cell_type": "code",
   "execution_count": null,
   "metadata": {
    "collapsed": true
   },
   "outputs": [],
   "source": [
    "query = \"INSERT INTO user_card_counts (deck_id, card_name, card_count) VALUES (312607, 'Scalding Tarn', 2)\"\n",
    "\n",
    "cursor.execute(query)"
   ]
  },
  {
   "cell_type": "code",
   "execution_count": null,
   "metadata": {
    "collapsed": true
   },
   "outputs": [],
   "source": []
  },
  {
   "cell_type": "code",
   "execution_count": null,
   "metadata": {
    "collapsed": true
   },
   "outputs": [],
   "source": []
  },
  {
   "cell_type": "code",
   "execution_count": 2,
   "metadata": {
    "collapsed": true
   },
   "outputs": [],
   "source": [
    "import psycopg2"
   ]
  },
  {
   "cell_type": "code",
   "execution_count": 10,
   "metadata": {
    "collapsed": true
   },
   "outputs": [],
   "source": [
    "conn = psycopg2.connect('dbname={} host={} user={}'.format(dbname, hostname, username))"
   ]
  },
  {
   "cell_type": "code",
   "execution_count": 11,
   "metadata": {
    "collapsed": true
   },
   "outputs": [],
   "source": [
    "cursor = conn.cursor()"
   ]
  },
  {
   "cell_type": "code",
   "execution_count": 15,
   "metadata": {
    "collapsed": true
   },
   "outputs": [],
   "source": [
    "cursor.execute(\"INSERT INTO event_deck_card_count (event_id, deck_id, card_name, card_count) VALUES (1, 5, 'abcd', 4)\")"
   ]
  },
  {
   "cell_type": "code",
   "execution_count": 16,
   "metadata": {
    "collapsed": true
   },
   "outputs": [],
   "source": [
    "conn.commit()"
   ]
  },
  {
   "cell_type": "code",
   "execution_count": null,
   "metadata": {
    "collapsed": true
   },
   "outputs": [],
   "source": [
    "query = 'CREATE TABLE test_table (event_id int, deck_id int, card_name varchar, card_count int)'\n",
    "\n",
    "cursor.execute(query)"
   ]
  },
  {
   "cell_type": "code",
   "execution_count": null,
   "metadata": {
    "collapsed": true
   },
   "outputs": [],
   "source": [
    "conn.commit()"
   ]
  },
  {
   "cell_type": "code",
   "execution_count": null,
   "metadata": {
    "collapsed": true
   },
   "outputs": [],
   "source": [
    "query = 'SELECT DISTINCT event_id FROM test_table'\n",
    "\n",
    "cursor.execute(query)"
   ]
  },
  {
   "cell_type": "code",
   "execution_count": null,
   "metadata": {
    "collapsed": true
   },
   "outputs": [],
   "source": [
    "cursor.fetchall()"
   ]
  },
  {
   "cell_type": "code",
   "execution_count": null,
   "metadata": {
    "collapsed": true
   },
   "outputs": [],
   "source": [
    "test = ['a', 'b']\n",
    "test.append(None)\n",
    "type(test[2])"
   ]
  },
  {
   "cell_type": "code",
   "execution_count": null,
   "metadata": {
    "collapsed": true
   },
   "outputs": [],
   "source": []
  },
  {
   "cell_type": "code",
   "execution_count": null,
   "metadata": {
    "collapsed": true
   },
   "outputs": [],
   "source": []
  },
  {
   "cell_type": "code",
   "execution_count": null,
   "metadata": {
    "collapsed": true
   },
   "outputs": [],
   "source": []
  },
  {
   "cell_type": "code",
   "execution_count": null,
   "metadata": {
    "collapsed": true
   },
   "outputs": [],
   "source": []
  },
  {
   "cell_type": "code",
   "execution_count": null,
   "metadata": {
    "collapsed": true
   },
   "outputs": [],
   "source": []
  },
  {
   "cell_type": "code",
   "execution_count": null,
   "metadata": {
    "collapsed": true
   },
   "outputs": [],
   "source": []
  },
  {
   "cell_type": "code",
   "execution_count": null,
   "metadata": {
    "collapsed": true
   },
   "outputs": [],
   "source": []
  },
  {
   "cell_type": "code",
   "execution_count": null,
   "metadata": {
    "collapsed": true
   },
   "outputs": [],
   "source": []
  },
  {
   "cell_type": "code",
   "execution_count": null,
   "metadata": {
    "collapsed": true
   },
   "outputs": [],
   "source": []
  },
  {
   "cell_type": "code",
   "execution_count": null,
   "metadata": {
    "collapsed": true
   },
   "outputs": [],
   "source": []
  },
  {
   "cell_type": "code",
   "execution_count": null,
   "metadata": {
    "collapsed": true
   },
   "outputs": [],
   "source": []
  },
  {
   "cell_type": "code",
   "execution_count": null,
   "metadata": {
    "collapsed": true
   },
   "outputs": [],
   "source": []
  },
  {
   "cell_type": "code",
   "execution_count": null,
   "metadata": {
    "collapsed": true
   },
   "outputs": [],
   "source": []
  },
  {
   "cell_type": "code",
   "execution_count": null,
   "metadata": {
    "collapsed": true
   },
   "outputs": [],
   "source": []
  },
  {
   "cell_type": "code",
   "execution_count": null,
   "metadata": {
    "collapsed": true
   },
   "outputs": [],
   "source": []
  },
  {
   "cell_type": "code",
   "execution_count": null,
   "metadata": {
    "collapsed": true
   },
   "outputs": [],
   "source": []
  },
  {
   "cell_type": "code",
   "execution_count": null,
   "metadata": {
    "collapsed": true
   },
   "outputs": [],
   "source": []
  },
  {
   "cell_type": "code",
   "execution_count": null,
   "metadata": {
    "collapsed": true
   },
   "outputs": [],
   "source": []
  },
  {
   "cell_type": "code",
   "execution_count": null,
   "metadata": {
    "collapsed": true
   },
   "outputs": [],
   "source": []
  },
  {
   "cell_type": "code",
   "execution_count": null,
   "metadata": {
    "collapsed": true
   },
   "outputs": [],
   "source": []
  },
  {
   "cell_type": "code",
   "execution_count": null,
   "metadata": {
    "collapsed": true
   },
   "outputs": [],
   "source": []
  },
  {
   "cell_type": "code",
   "execution_count": 3,
   "metadata": {
    "collapsed": true
   },
   "outputs": [],
   "source": [
    "import os\n",
    "import psycopg2"
   ]
  },
  {
   "cell_type": "code",
   "execution_count": 4,
   "metadata": {},
   "outputs": [],
   "source": [
    "hostname = os.environ['CAPSTONE_DB_HOST']\n",
    "dbname = os.environ['CAPSTONE_DB_DBNAME']\n",
    "username = os.environ['CAPSTONE_DB_USERNAME']\n",
    "password = os.environ['CAPSTONE_DB_PASSWORD']"
   ]
  },
  {
   "cell_type": "code",
   "execution_count": 5,
   "metadata": {
    "collapsed": true
   },
   "outputs": [],
   "source": [
    "conn = psycopg2.connect('dbname={} host={} user={}'.format(dbname, hostname, username))"
   ]
  },
  {
   "cell_type": "code",
   "execution_count": 6,
   "metadata": {
    "collapsed": true
   },
   "outputs": [],
   "source": [
    "cursor = conn.cursor()"
   ]
  },
  {
   "cell_type": "code",
   "execution_count": 12,
   "metadata": {
    "collapsed": true
   },
   "outputs": [],
   "source": [
    "query = \"SELECT cardstorm_id FROM cards WHERE type_line LIKE '%Land%' AND NOT type_line LIKE '%//%Land%'\"\n",
    "\n",
    "cursor.execute(query)\n"
   ]
  },
  {
   "cell_type": "code",
   "execution_count": 13,
   "metadata": {},
   "outputs": [
    {
     "data": {
      "text/plain": [
       "{35,\n",
       " 59,\n",
       " 99,\n",
       " 184,\n",
       " 206,\n",
       " 223,\n",
       " 271,\n",
       " 279,\n",
       " 376,\n",
       " 416,\n",
       " 426,\n",
       " 433,\n",
       " 439,\n",
       " 537,\n",
       " 629,\n",
       " 633,\n",
       " 694,\n",
       " 737,\n",
       " 846,\n",
       " 891,\n",
       " 892,\n",
       " 893,\n",
       " 894,\n",
       " 895,\n",
       " 923,\n",
       " 925,\n",
       " 949,\n",
       " 952,\n",
       " 995,\n",
       " 1005,\n",
       " 1009,\n",
       " 1046,\n",
       " 1098,\n",
       " 1104,\n",
       " 1105,\n",
       " 1116,\n",
       " 1119,\n",
       " 1172,\n",
       " 1223,\n",
       " 1244,\n",
       " 1289,\n",
       " 1325,\n",
       " 1328,\n",
       " 1374,\n",
       " 1375,\n",
       " 1394,\n",
       " 1409,\n",
       " 1411,\n",
       " 1415,\n",
       " 1537,\n",
       " 1561,\n",
       " 1564,\n",
       " 1583,\n",
       " 1609,\n",
       " 1629,\n",
       " 1656,\n",
       " 1713,\n",
       " 1775,\n",
       " 1793,\n",
       " 1819,\n",
       " 1866,\n",
       " 1896,\n",
       " 1925,\n",
       " 1938,\n",
       " 1939,\n",
       " 1962,\n",
       " 1963,\n",
       " 2048,\n",
       " 2090,\n",
       " 2093,\n",
       " 2307,\n",
       " 2310,\n",
       " 2311,\n",
       " 2312,\n",
       " 2313,\n",
       " 2314,\n",
       " 2317,\n",
       " 2374,\n",
       " 2379,\n",
       " 2424,\n",
       " 2544,\n",
       " 2574,\n",
       " 2577,\n",
       " 2633,\n",
       " 2642,\n",
       " 2654,\n",
       " 2675,\n",
       " 2693,\n",
       " 2758,\n",
       " 2778,\n",
       " 2794,\n",
       " 2859,\n",
       " 2886,\n",
       " 2894,\n",
       " 2967,\n",
       " 3028,\n",
       " 3044,\n",
       " 3095,\n",
       " 3228,\n",
       " 3241,\n",
       " 3243,\n",
       " 3252,\n",
       " 3297,\n",
       " 3322,\n",
       " 3397,\n",
       " 3398,\n",
       " 3438,\n",
       " 3439,\n",
       " 3446,\n",
       " 3453,\n",
       " 3470,\n",
       " 3473,\n",
       " 3483,\n",
       " 3491,\n",
       " 3523,\n",
       " 3535,\n",
       " 3556,\n",
       " 3597,\n",
       " 3600,\n",
       " 3629,\n",
       " 3638,\n",
       " 3657,\n",
       " 3658,\n",
       " 3690,\n",
       " 3713,\n",
       " 3779,\n",
       " 3791,\n",
       " 3822,\n",
       " 3823,\n",
       " 3938,\n",
       " 3944,\n",
       " 3974,\n",
       " 3978,\n",
       " 4023,\n",
       " 4039,\n",
       " 4056,\n",
       " 4095,\n",
       " 4133,\n",
       " 4153,\n",
       " 4154,\n",
       " 4168,\n",
       " 4175,\n",
       " 4243,\n",
       " 4247,\n",
       " 4251,\n",
       " 4273,\n",
       " 4315,\n",
       " 4322,\n",
       " 4332,\n",
       " 4407,\n",
       " 4478,\n",
       " 4479,\n",
       " 4496,\n",
       " 4506,\n",
       " 4519,\n",
       " 4565,\n",
       " 4589,\n",
       " 4614,\n",
       " 4694,\n",
       " 4821,\n",
       " 4851,\n",
       " 4880,\n",
       " 4895,\n",
       " 4911,\n",
       " 4916,\n",
       " 4919,\n",
       " 4940,\n",
       " 4944,\n",
       " 5049,\n",
       " 5054,\n",
       " 5055,\n",
       " 5066,\n",
       " 5067,\n",
       " 5112,\n",
       " 5130,\n",
       " 5151,\n",
       " 5166,\n",
       " 5169,\n",
       " 5176,\n",
       " 5394,\n",
       " 5419,\n",
       " 5454,\n",
       " 5596,\n",
       " 5598,\n",
       " 5627,\n",
       " 5676,\n",
       " 5720,\n",
       " 5733,\n",
       " 5755,\n",
       " 5801,\n",
       " 5885,\n",
       " 5959,\n",
       " 5962,\n",
       " 6076,\n",
       " 6086,\n",
       " 6145,\n",
       " 6154,\n",
       " 6161,\n",
       " 6185,\n",
       " 6187,\n",
       " 6228,\n",
       " 6263,\n",
       " 6270,\n",
       " 6297,\n",
       " 6304,\n",
       " 6307,\n",
       " 6313,\n",
       " 6343,\n",
       " 6349,\n",
       " 6389,\n",
       " 6393,\n",
       " 6399,\n",
       " 6446,\n",
       " 6482,\n",
       " 6498,\n",
       " 6499,\n",
       " 6535,\n",
       " 6592,\n",
       " 6628,\n",
       " 6648,\n",
       " 6664,\n",
       " 6684,\n",
       " 6734,\n",
       " 6782,\n",
       " 6838,\n",
       " 6850,\n",
       " 6894,\n",
       " 6895,\n",
       " 6899,\n",
       " 6927,\n",
       " 6962,\n",
       " 7048,\n",
       " 7143,\n",
       " 7161,\n",
       " 7165,\n",
       " 7174,\n",
       " 7201,\n",
       " 7233,\n",
       " 7247,\n",
       " 7260,\n",
       " 7261,\n",
       " 7302,\n",
       " 7491,\n",
       " 7520,\n",
       " 7538,\n",
       " 7556,\n",
       " 7560,\n",
       " 7598,\n",
       " 7650,\n",
       " 7713,\n",
       " 7754,\n",
       " 7962,\n",
       " 7969,\n",
       " 7988,\n",
       " 8011,\n",
       " 8044,\n",
       " 8045,\n",
       " 8056,\n",
       " 8080,\n",
       " 8094,\n",
       " 8119,\n",
       " 8128,\n",
       " 8162,\n",
       " 8164,\n",
       " 8187,\n",
       " 8194,\n",
       " 8198,\n",
       " 8219,\n",
       " 8244,\n",
       " 8264,\n",
       " 8284,\n",
       " 8290,\n",
       " 8314,\n",
       " 8362,\n",
       " 8373,\n",
       " 8379,\n",
       " 8402,\n",
       " 8405,\n",
       " 8454,\n",
       " 8455,\n",
       " 8463,\n",
       " 8467,\n",
       " 8499,\n",
       " 8504,\n",
       " 8577,\n",
       " 8609,\n",
       " 8611,\n",
       " 8615,\n",
       " 8637,\n",
       " 8650,\n",
       " 8660,\n",
       " 8661,\n",
       " 8665,\n",
       " 8698,\n",
       " 8801,\n",
       " 8802,\n",
       " 8844,\n",
       " 8899,\n",
       " 8949,\n",
       " 8973,\n",
       " 8998,\n",
       " 8999,\n",
       " 9019,\n",
       " 9020,\n",
       " 9021,\n",
       " 9022,\n",
       " 9023,\n",
       " 9027,\n",
       " 9146,\n",
       " 9149,\n",
       " 9238,\n",
       " 9244,\n",
       " 9247,\n",
       " 9302,\n",
       " 9339,\n",
       " 9381,\n",
       " 9396,\n",
       " 9414,\n",
       " 9433,\n",
       " 9449,\n",
       " 9553,\n",
       " 9568,\n",
       " 9570,\n",
       " 9610,\n",
       " 9612,\n",
       " 9614,\n",
       " 9616,\n",
       " 9620,\n",
       " 9670,\n",
       " 9675,\n",
       " 9679,\n",
       " 9688,\n",
       " 9706,\n",
       " 9833,\n",
       " 9836,\n",
       " 9863,\n",
       " 9864,\n",
       " 9865,\n",
       " 9866,\n",
       " 9867,\n",
       " 9868,\n",
       " 9869,\n",
       " 9870,\n",
       " 9871,\n",
       " 9872,\n",
       " 9873,\n",
       " 9893,\n",
       " 9907,\n",
       " 9964,\n",
       " 9996,\n",
       " 10103,\n",
       " 10148,\n",
       " 10151,\n",
       " 10152,\n",
       " 10234,\n",
       " 10235,\n",
       " 10236,\n",
       " 10240,\n",
       " 10271,\n",
       " 10277,\n",
       " 10351,\n",
       " 10362,\n",
       " 10428,\n",
       " 10444,\n",
       " 10470,\n",
       " 10486,\n",
       " 10491,\n",
       " 10508,\n",
       " 10509,\n",
       " 10517,\n",
       " 10518,\n",
       " 10519,\n",
       " 10520,\n",
       " 10535,\n",
       " 10589,\n",
       " 10641,\n",
       " 10663,\n",
       " 10774,\n",
       " 10775,\n",
       " 10776,\n",
       " 10777,\n",
       " 10778,\n",
       " 10779,\n",
       " 10916,\n",
       " 10922,\n",
       " 10956,\n",
       " 10979,\n",
       " 10993,\n",
       " 10995,\n",
       " 11043,\n",
       " 11128,\n",
       " 11137,\n",
       " 11142,\n",
       " 11200,\n",
       " 11201,\n",
       " 11207,\n",
       " 11212,\n",
       " 11279,\n",
       " 11333}"
      ]
     },
     "execution_count": 13,
     "metadata": {},
     "output_type": "execute_result"
    }
   ],
   "source": [
    "{_[0] for _ in cursor.fetchall()}"
   ]
  },
  {
   "cell_type": "code",
   "execution_count": null,
   "metadata": {
    "collapsed": true
   },
   "outputs": [],
   "source": []
  }
 ],
 "metadata": {
  "kernelspec": {
   "display_name": "Python 3",
   "language": "python",
   "name": "python3"
  },
  "language_info": {
   "codemirror_mode": {
    "name": "ipython",
    "version": 3
   },
   "file_extension": ".py",
   "mimetype": "text/x-python",
   "name": "python",
   "nbconvert_exporter": "python",
   "pygments_lexer": "ipython3",
   "version": "3.6.3"
  }
 },
 "nbformat": 4,
 "nbformat_minor": 2
}
