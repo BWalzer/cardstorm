{
 "cells": [
  {
   "cell_type": "code",
   "execution_count": 1,
   "metadata": {},
   "outputs": [
    {
     "name": "stdout",
     "output_type": "stream",
     "text": [
      "/Users/benjaminwalzer/Documents/Galvanize/mtg-capstone/src\n"
     ]
    }
   ],
   "source": [
    "cd ../src/"
   ]
  },
  {
   "cell_type": "code",
   "execution_count": 13,
   "metadata": {},
   "outputs": [],
   "source": [
    "import predictions\n",
    "from deck_scraping import ReflexiveDict"
   ]
  },
  {
   "cell_type": "code",
   "execution_count": 18,
   "metadata": {},
   "outputs": [],
   "source": [
    "with open('/Users/benjaminwalzer/Downloads/cardstorm_example_UW.txt', 'r') as f:\n",
    "    raw_deck_list = f.read()\n",
    "    \n",
    "top10, bottom10 = predictions.make_recommendations(raw_deck_list)"
   ]
  },
  {
   "cell_type": "code",
   "execution_count": 19,
   "metadata": {
    "collapsed": true
   },
   "outputs": [],
   "source": [
    "card_dict = ReflexiveDict()"
   ]
  },
  {
   "cell_type": "code",
   "execution_count": 20,
   "metadata": {},
   "outputs": [
    {
     "name": "stdout",
     "output_type": "stream",
     "text": [
      "plains\n",
      "hallowed fountain\n",
      "island\n",
      "flooded strand\n",
      "spell snare\n",
      "ghost quarter\n",
      "mana leak\n",
      "lightning bolt\n",
      "supreme verdict\n",
      "electrolyze\n"
     ]
    }
   ],
   "source": [
    "for card in top10:\n",
    "    print(card_dict[card])"
   ]
  },
  {
   "cell_type": "code",
   "execution_count": null,
   "metadata": {
    "collapsed": true
   },
   "outputs": [],
   "source": []
  }
 ],
 "metadata": {
  "kernelspec": {
   "display_name": "Python 3",
   "language": "python",
   "name": "python3"
  },
  "language_info": {
   "codemirror_mode": {
    "name": "ipython",
    "version": 3
   },
   "file_extension": ".py",
   "mimetype": "text/x-python",
   "name": "python",
   "nbconvert_exporter": "python",
   "pygments_lexer": "ipython3",
   "version": "3.6.3"
  }
 },
 "nbformat": 4,
 "nbformat_minor": 2
}
