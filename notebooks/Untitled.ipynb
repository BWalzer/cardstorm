{
 "cells": [
  {
   "cell_type": "code",
   "execution_count": 27,
   "metadata": {
    "collapsed": true
   },
   "outputs": [],
   "source": [
    "import requests\n",
    "import json"
   ]
  },
  {
   "cell_type": "code",
   "execution_count": 19,
   "metadata": {
    "collapsed": true
   },
   "outputs": [],
   "source": [
    "def format_deck(raw_deck_list):\n",
    "    \"\"\"\n",
    "    Takes a raw deck list and returns a nicely formatted deck list.\n",
    "\n",
    "    INPUT:\n",
    "        - raw_deck_list: String, unformatted deck list read directly from a file\n",
    "\n",
    "    OUTPUT:\n",
    "        - deck_list: list of strings, a formatted deck list ready for processing\n",
    "    \"\"\"\n",
    "    deck_list = []\n",
    "    for row in raw_deck_list.split('\\r\\n'):\n",
    "        if row.startswith('S') or row:\n",
    "            break\n",
    "        deck_list.append(row)\n",
    "\n",
    "    return deck_list\n"
   ]
  },
  {
   "cell_type": "code",
   "execution_count": 54,
   "metadata": {},
   "outputs": [
    {
     "data": {
      "text/plain": [
       "200"
      ]
     },
     "execution_count": 54,
     "metadata": {},
     "output_type": "execute_result"
    }
   ],
   "source": [
    "response = requests.get('http://mtgtop8.com/mtgo?d=312999')\n",
    "\n",
    "response.status_code"
   ]
  },
  {
   "cell_type": "code",
   "execution_count": 56,
   "metadata": {},
   "outputs": [
    {
     "name": "stdout",
     "output_type": "stream",
     "text": [
      "4 Chromatic Star\r\n",
      "4 Chromatic Sphere\r\n",
      "4 Expedition Map\r\n",
      "2 Ulamog, the Ceaseless Hunger\r\n",
      "2 Walking Ballista\r\n",
      "1 Ghost Quarter\r\n",
      "1 Sanctum of Ugin\r\n",
      "5 Forest\r\n",
      "4 Urza's Tower\r\n",
      "4 Urza's Power Plant\r\n",
      "4 Urza's Mine\r\n",
      "1 Emrakul, the Promised End\r\n",
      "2 Ugin, the Spirit Dragon\r\n",
      "1 World Breaker\r\n",
      "4 Karn Liberated\r\n",
      "1 All Is Dust\r\n",
      "3 Wurmcoil Engine\r\n",
      "2 Dismember\r\n",
      "3 Oblivion Stone\r\n",
      "4 Sylvan Scrying\r\n",
      "4 Ancient Stirrings\r\n",
      "Sideboard\r\n",
      "3 Thought-Knot Seer\r\n",
      "3 Relic of Progenitus\r\n",
      "1 Pithing Needle\r\n",
      "3 Thragtusk\r\n",
      "3 Nature's Claim\r\n",
      "2 Spatial Contortion\r\n",
      "\n"
     ]
    },
    {
     "data": {
      "text/plain": [
       "False"
      ]
     },
     "execution_count": 56,
     "metadata": {},
     "output_type": "execute_result"
    }
   ],
   "source": [
    "raw = response.text\n",
    "\n",
    "print(raw)\n",
    "bool([])"
   ]
  },
  {
   "cell_type": "code",
   "execution_count": 47,
   "metadata": {
    "collapsed": true
   },
   "outputs": [],
   "source": [
    "deck_list = []\n",
    "for row in raw.split('\\r\\n'):\n",
    "    if row.startswith('S') or not row:\n",
    "        break\n",
    "    deck_list.append(row)"
   ]
  },
  {
   "cell_type": "code",
   "execution_count": 48,
   "metadata": {},
   "outputs": [
    {
     "data": {
      "text/plain": [
       "['2 Yavimaya Coast',\n",
       " '4 Windswept Heath',\n",
       " '1 Temple Garden',\n",
       " '1 Plains',\n",
       " '2 Forest',\n",
       " '4 Eldrazi Temple',\n",
       " '4 Cavern of Souls',\n",
       " '3 Brushland',\n",
       " '1 Breeding Pool',\n",
       " '1 Adarkar Wastes',\n",
       " '4 Ancient Stirrings',\n",
       " '4 Path to Exile',\n",
       " '3 Engineered Explosives',\n",
       " '4 Thought-Knot Seer',\n",
       " '4 Reality Smasher',\n",
       " '1 Rhonas the Indomitable',\n",
       " '4 Noble Hierarch',\n",
       " '4 Eldrazi Skyspawner',\n",
       " '4 Eldrazi Displacer',\n",
       " '3 Drowner of Hope',\n",
       " '2 Birds of Paradise']"
      ]
     },
     "execution_count": 48,
     "metadata": {},
     "output_type": "execute_result"
    }
   ],
   "source": [
    "deck_list"
   ]
  },
  {
   "cell_type": "code",
   "execution_count": 38,
   "metadata": {},
   "outputs": [],
   "source": [
    "deck_list = format_deck(raw)"
   ]
  },
  {
   "cell_type": "code",
   "execution_count": 39,
   "metadata": {},
   "outputs": [
    {
     "data": {
      "text/plain": [
       "[]"
      ]
     },
     "execution_count": 39,
     "metadata": {},
     "output_type": "execute_result"
    }
   ],
   "source": [
    "deck_list"
   ]
  },
  {
   "cell_type": "code",
   "execution_count": 23,
   "metadata": {},
   "outputs": [
    {
     "data": {
      "text/plain": [
       "['2 Yavimaya Coast\\n4 Windswept Heath\\n1 Temple Garden\\n1 Plains\\n2 Forest\\n4 Eldrazi Temple\\n4 Cavern of Souls\\n3 Brushland\\n1 Breeding Pool\\n1 Adarkar Wastes\\n4 Ancient Stirrings\\n4 Path to Exile\\n3 Engineered Explosives\\n4 Thought-Knot Seer\\n4 Reality Smasher\\n1 Rhonas the Indomitable\\n4 Noble Hierarch\\n4 Eldrazi Skyspawner\\n4 Eldrazi Displacer\\n3 Drowner of Hope\\n2 Birds of Paradise\\n']"
      ]
     },
     "execution_count": 23,
     "metadata": {},
     "output_type": "execute_result"
    }
   ],
   "source": [
    "raw_deck_list.split('\\r\\n')"
   ]
  },
  {
   "cell_type": "code",
   "execution_count": null,
   "metadata": {
    "collapsed": true
   },
   "outputs": [],
   "source": []
  }
 ],
 "metadata": {
  "kernelspec": {
   "display_name": "Python 3",
   "language": "python",
   "name": "python3"
  },
  "language_info": {
   "codemirror_mode": {
    "name": "ipython",
    "version": 3
   },
   "file_extension": ".py",
   "mimetype": "text/x-python",
   "name": "python",
   "nbconvert_exporter": "python",
   "pygments_lexer": "ipython3",
   "version": "3.6.3"
  }
 },
 "nbformat": 4,
 "nbformat_minor": 2
}
