{
 "cells": [
  {
   "cell_type": "code",
   "execution_count": 137,
   "metadata": {},
   "outputs": [],
   "source": [
    "import src.make_user_card_counts\n",
    "import json"
   ]
  },
  {
   "cell_type": "code",
   "execution_count": 11,
   "metadata": {},
   "outputs": [
    {
     "data": {
      "text/plain": [
       "'/Users/benjaminwalzer/Documents/Galvanize/mtg-capstone'"
      ]
     },
     "execution_count": 11,
     "metadata": {},
     "output_type": "execute_result"
    }
   ],
   "source": [
    "pwd"
   ]
  },
  {
   "cell_type": "code",
   "execution_count": 12,
   "metadata": {
    "collapsed": true
   },
   "outputs": [],
   "source": [
    "with open('data/raw_deck_lists/deck_list_312531.txt') as f:\n",
    "    deck_list = f.read()"
   ]
  },
  {
   "cell_type": "code",
   "execution_count": 13,
   "metadata": {},
   "outputs": [
    {
     "data": {
      "text/plain": [
       "\"2 Mwonvuli Acid-Moss\\n1 Hour of Promise\\n4 Farseek\\n1 Wood Elves\\n4 Wooded Foothills\\n4 Valakut, the Molten Pinnacle\\n4 Stomping Ground\\n6 Mountain\\n2 Misty Rainforest\\n2 Forest\\n3 Cinder Glade\\n1 Bloodstained Mire\\n2 Prismatic Omen\\n2 Summoner's Pact\\n4 Lightning Bolt\\n2 Sweltering Suns\\n4 Search for Tomorrow\\n4 Scapeshift\\n4 Sakura-Tribe Elder\\n4 Primeval Titan\\nSideboard\\n3 Witchbane Orb\\n3 Relic of Progenitus\\n1 Reclamation Sage\\n2 Nature's Claim\\n4 Hornet Nest\\n1 Crumble to Dust\\n1 Chameleon Colossus\\n\""
      ]
     },
     "execution_count": 13,
     "metadata": {},
     "output_type": "execute_result"
    }
   ],
   "source": [
    "deck_list"
   ]
  },
  {
   "cell_type": "code",
   "execution_count": null,
   "metadata": {
    "collapsed": true
   },
   "outputs": [],
   "source": [
    "str.startswith"
   ]
  },
  {
   "cell_type": "code",
   "execution_count": 45,
   "metadata": {
    "collapsed": true
   },
   "outputs": [],
   "source": [
    "test = []\n",
    "for row in deck_list.split('\\r\\n')[0].split('\\n'):\n",
    "    if row.startswith('S'):\n",
    "        break\n",
    "    test.append(row)"
   ]
  },
  {
   "cell_type": "code",
   "execution_count": 46,
   "metadata": {},
   "outputs": [
    {
     "data": {
      "text/plain": [
       "['2 Mwonvuli Acid-Moss',\n",
       " '1 Hour of Promise',\n",
       " '4 Farseek',\n",
       " '1 Wood Elves',\n",
       " '4 Wooded Foothills',\n",
       " '4 Valakut, the Molten Pinnacle',\n",
       " '4 Stomping Ground',\n",
       " '6 Mountain',\n",
       " '2 Misty Rainforest',\n",
       " '2 Forest',\n",
       " '3 Cinder Glade',\n",
       " '1 Bloodstained Mire',\n",
       " '2 Prismatic Omen',\n",
       " \"2 Summoner's Pact\",\n",
       " '4 Lightning Bolt',\n",
       " '2 Sweltering Suns',\n",
       " '4 Search for Tomorrow',\n",
       " '4 Scapeshift',\n",
       " '4 Sakura-Tribe Elder',\n",
       " '4 Primeval Titan']"
      ]
     },
     "execution_count": 46,
     "metadata": {},
     "output_type": "execute_result"
    }
   ],
   "source": [
    "test"
   ]
  },
  {
   "cell_type": "code",
   "execution_count": 21,
   "metadata": {
    "collapsed": true
   },
   "outputs": [],
   "source": [
    "from os import listdir"
   ]
  },
  {
   "cell_type": "code",
   "execution_count": 40,
   "metadata": {},
   "outputs": [
    {
     "data": {
      "text/plain": [
       "'/Users/benjaminwalzer/Documents/Galvanize/mtg-capstone/data/raw_deck_lists/'"
      ]
     },
     "execution_count": 40,
     "metadata": {},
     "output_type": "execute_result"
    }
   ],
   "source": [
    "path = '/Users/benjaminwalzer/Documents/Galvanize/mtg-capstone/data/raw_deck_lists/'\n",
    "path"
   ]
  },
  {
   "cell_type": "code",
   "execution_count": 34,
   "metadata": {
    "collapsed": true
   },
   "outputs": [],
   "source": [
    "deck_files = listdir(path='/Users/benjaminwalzer/Documents/Galvanize/mtg-capstone/data/raw_deck_lists')"
   ]
  },
  {
   "cell_type": "code",
   "execution_count": 41,
   "metadata": {},
   "outputs": [
    {
     "data": {
      "text/plain": [
       "'/Users/benjaminwalzer/Documents/Galvanize/mtg-capstone/data/raw_deck_lists/deck_list_311951.txt'"
      ]
     },
     "execution_count": 41,
     "metadata": {},
     "output_type": "execute_result"
    }
   ],
   "source": [
    "path + deck_files[0]"
   ]
  },
  {
   "cell_type": "code",
   "execution_count": 42,
   "metadata": {},
   "outputs": [
    {
     "data": {
      "text/plain": [
       "'deck_list_311951.txt'"
      ]
     },
     "execution_count": 42,
     "metadata": {},
     "output_type": "execute_result"
    }
   ],
   "source": [
    "deck_files[0]"
   ]
  },
  {
   "cell_type": "code",
   "execution_count": 43,
   "metadata": {
    "collapsed": true
   },
   "outputs": [],
   "source": [
    "import re"
   ]
  },
  {
   "cell_type": "code",
   "execution_count": 44,
   "metadata": {},
   "outputs": [
    {
     "data": {
      "text/plain": [
       "'311951'"
      ]
     },
     "execution_count": 44,
     "metadata": {},
     "output_type": "execute_result"
    }
   ],
   "source": [
    "re.search('deck_list_(\\d+).txt', deck_files[0]).group(1)"
   ]
  },
  {
   "cell_type": "code",
   "execution_count": 1,
   "metadata": {
    "collapsed": true
   },
   "outputs": [],
   "source": [
    "import psycopg2\n",
    "import os"
   ]
  },
  {
   "cell_type": "code",
   "execution_count": 2,
   "metadata": {},
   "outputs": [],
   "source": [
    "dbname = os.environ['CAPSTONE_DB_DBNAME']\n",
    "host = os.environ['CAPSTONE_DB_HOST']\n",
    "username = os.environ['CAPSTONE_DB_USERNAME']"
   ]
  },
  {
   "cell_type": "code",
   "execution_count": 13,
   "metadata": {},
   "outputs": [],
   "source": [
    "con = psycopg2.connect('dbname={} host={} user={}'.format(dbname, host, username))"
   ]
  },
  {
   "cell_type": "code",
   "execution_count": 14,
   "metadata": {},
   "outputs": [],
   "source": [
    "cursor = con.cursor()"
   ]
  },
  {
   "cell_type": "code",
   "execution_count": 9,
   "metadata": {},
   "outputs": [],
   "source": [
    "cursor.execute(query='CREATE TABLE test (column1 int, column2 varchar)')"
   ]
  },
  {
   "cell_type": "code",
   "execution_count": 10,
   "metadata": {
    "collapsed": true
   },
   "outputs": [],
   "source": [
    "con.commit()"
   ]
  },
  {
   "cell_type": "code",
   "execution_count": 15,
   "metadata": {},
   "outputs": [],
   "source": [
    "cursor.execute(\"INSERT INTO test (column1, column2) VALUES (50, 'abcd')\")"
   ]
  },
  {
   "cell_type": "code",
   "execution_count": 16,
   "metadata": {
    "collapsed": true
   },
   "outputs": [],
   "source": [
    "con.commit()"
   ]
  },
  {
   "cell_type": "code",
   "execution_count": 17,
   "metadata": {
    "collapsed": true
   },
   "outputs": [],
   "source": [
    "cursor.execute('SELECT * FROM test')"
   ]
  },
  {
   "cell_type": "code",
   "execution_count": 18,
   "metadata": {},
   "outputs": [
    {
     "data": {
      "text/plain": [
       "[(50, 'abcd')]"
      ]
     },
     "execution_count": 18,
     "metadata": {},
     "output_type": "execute_result"
    }
   ],
   "source": [
    "cursor.fetchall()"
   ]
  },
  {
   "cell_type": "code",
   "execution_count": null,
   "metadata": {
    "collapsed": true
   },
   "outputs": [],
   "source": []
  },
  {
   "cell_type": "code",
   "execution_count": null,
   "metadata": {
    "collapsed": true
   },
   "outputs": [],
   "source": []
  },
  {
   "cell_type": "code",
   "execution_count": 19,
   "metadata": {
    "collapsed": true
   },
   "outputs": [],
   "source": [
    "import boto3"
   ]
  },
  {
   "cell_type": "code",
   "execution_count": 20,
   "metadata": {
    "collapsed": true
   },
   "outputs": [],
   "source": [
    "s3 = boto3.client('s3')"
   ]
  },
  {
   "cell_type": "code",
   "execution_count": 21,
   "metadata": {
    "collapsed": true
   },
   "outputs": [],
   "source": [
    "bucketname = 'mtg-capstone'\n",
    "path = 'data/raw_deck_lists/'"
   ]
  },
  {
   "cell_type": "code",
   "execution_count": 50,
   "metadata": {},
   "outputs": [],
   "source": [
    "response = s3.list_objects_v2(Bucket=bucketname, Prefix=path)"
   ]
  },
  {
   "cell_type": "code",
   "execution_count": 49,
   "metadata": {
    "scrolled": false
   },
   "outputs": [],
   "source": [
    "file_names = [item['Key'] for item in response['Contents']]"
   ]
  },
  {
   "cell_type": "code",
   "execution_count": 54,
   "metadata": {},
   "outputs": [],
   "source": [
    "response2 = s3.get_object(Bucket=bucketname, Key=file_names[0])"
   ]
  },
  {
   "cell_type": "code",
   "execution_count": 55,
   "metadata": {},
   "outputs": [
    {
     "data": {
      "text/plain": [
       "\"1 Mana Leak\\r\\n3 Path to Exile\\r\\n3 Eldritch Evolution\\r\\n4 Oath of Nissa\\r\\n4 Saheeli Rai\\r\\n1 Tireless Tracker\\r\\n1 Eternal Witness\\r\\n2 Restoration Angel\\r\\n2 Reflector Mage\\r\\n2 Lotus Cobra\\r\\n3 Voice of Resurgence\\r\\n4 Birds of Paradise\\r\\n4 Felidar Guardian\\r\\n4 Wall of Omens\\r\\n1 Island\\r\\n1 Plains\\r\\n1 Razorverge Thicket\\r\\n1 Sacred Foundry\\r\\n1 Stomping Ground\\r\\n1 Temple Garden\\r\\n1 Hallowed Fountain\\r\\n1 Gavony Township\\r\\n1 Breeding Pool\\r\\n2 Forest\\r\\n3 Flooded Strand\\r\\n4 Windswept Heath\\r\\n4 Wooded Foothills\\r\\nSideboard\\r\\n1 Unified Will\\r\\n1 Blessed Alliance\\r\\n2 Blood Moon\\r\\n1 Eidolon of Rhetoric\\r\\n1 Izzet Staticaster\\r\\n1 Kataki, War's Wage\\r\\n2 Meddling Mage\\r\\n1 Negate\\r\\n1 Obstinate Baloth\\r\\n1 Reclamation Sage\\r\\n2 Stony Silence\\r\\n1 Tireless Tracker\\r\\n\""
      ]
     },
     "execution_count": 55,
     "metadata": {},
     "output_type": "execute_result"
    }
   ],
   "source": [
    "response2['Body'].read().decode()"
   ]
  },
  {
   "cell_type": "code",
   "execution_count": 56,
   "metadata": {},
   "outputs": [
    {
     "data": {
      "text/plain": [
       "'/Users/benjaminwalzer/Documents/Galvanize/mtg-capstone'"
      ]
     },
     "execution_count": 56,
     "metadata": {},
     "output_type": "execute_result"
    }
   ],
   "source": [
    "pwd"
   ]
  },
  {
   "cell_type": "code",
   "execution_count": 138,
   "metadata": {
    "collapsed": true
   },
   "outputs": [],
   "source": [
    "from src.make_user_card_counts import *"
   ]
  },
  {
   "cell_type": "code",
   "execution_count": 73,
   "metadata": {},
   "outputs": [
    {
     "data": {
      "text/plain": [
       "\"1 Mana Leak\\r\\n3 Path to Exile\\r\\n3 Eldritch Evolution\\r\\n4 Oath of Nissa\\r\\n4 Saheeli Rai\\r\\n1 Tireless Tracker\\r\\n1 Eternal Witness\\r\\n2 Restoration Angel\\r\\n2 Reflector Mage\\r\\n2 Lotus Cobra\\r\\n3 Voice of Resurgence\\r\\n4 Birds of Paradise\\r\\n4 Felidar Guardian\\r\\n4 Wall of Omens\\r\\n1 Island\\r\\n1 Plains\\r\\n1 Razorverge Thicket\\r\\n1 Sacred Foundry\\r\\n1 Stomping Ground\\r\\n1 Temple Garden\\r\\n1 Hallowed Fountain\\r\\n1 Gavony Township\\r\\n1 Breeding Pool\\r\\n2 Forest\\r\\n3 Flooded Strand\\r\\n4 Windswept Heath\\r\\n4 Wooded Foothills\\r\\nSideboard\\r\\n1 Unified Will\\r\\n1 Blessed Alliance\\r\\n2 Blood Moon\\r\\n1 Eidolon of Rhetoric\\r\\n1 Izzet Staticaster\\r\\n1 Kataki, War's Wage\\r\\n2 Meddling Mage\\r\\n1 Negate\\r\\n1 Obstinate Baloth\\r\\n1 Reclamation Sage\\r\\n2 Stony Silence\\r\\n1 Tireless Tracker\\r\\n\""
      ]
     },
     "execution_count": 73,
     "metadata": {},
     "output_type": "execute_result"
    }
   ],
   "source": [
    "raw_deck_list = read_deck_list(file_names[0])\n",
    "\n",
    "raw_deck_list"
   ]
  },
  {
   "cell_type": "code",
   "execution_count": 74,
   "metadata": {},
   "outputs": [
    {
     "data": {
      "text/plain": [
       "['1 Mana Leak',\n",
       " '3 Path to Exile',\n",
       " '3 Eldritch Evolution',\n",
       " '4 Oath of Nissa',\n",
       " '4 Saheeli Rai',\n",
       " '1 Tireless Tracker',\n",
       " '1 Eternal Witness',\n",
       " '2 Restoration Angel',\n",
       " '2 Reflector Mage',\n",
       " '2 Lotus Cobra',\n",
       " '3 Voice of Resurgence',\n",
       " '4 Birds of Paradise',\n",
       " '4 Felidar Guardian',\n",
       " '4 Wall of Omens',\n",
       " '1 Island',\n",
       " '1 Plains',\n",
       " '1 Razorverge Thicket',\n",
       " '1 Sacred Foundry',\n",
       " '1 Stomping Ground',\n",
       " '1 Temple Garden',\n",
       " '1 Hallowed Fountain',\n",
       " '1 Gavony Township',\n",
       " '1 Breeding Pool',\n",
       " '2 Forest',\n",
       " '3 Flooded Strand',\n",
       " '4 Windswept Heath',\n",
       " '4 Wooded Foothills',\n",
       " 'Sideboard',\n",
       " '1 Unified Will',\n",
       " '1 Blessed Alliance',\n",
       " '2 Blood Moon',\n",
       " '1 Eidolon of Rhetoric',\n",
       " '1 Izzet Staticaster',\n",
       " \"1 Kataki, War's Wage\",\n",
       " '2 Meddling Mage',\n",
       " '1 Negate',\n",
       " '1 Obstinate Baloth',\n",
       " '1 Reclamation Sage',\n",
       " '2 Stony Silence',\n",
       " '1 Tireless Tracker',\n",
       " '']"
      ]
     },
     "execution_count": 74,
     "metadata": {},
     "output_type": "execute_result"
    }
   ],
   "source": [
    "raw_deck_list.split('\\r\\n')"
   ]
  },
  {
   "cell_type": "code",
   "execution_count": 75,
   "metadata": {},
   "outputs": [
    {
     "name": "stdout",
     "output_type": "stream",
     "text": [
      "1 Mana Leak\n",
      "3 Path to Exile\n",
      "3 Eldritch Evolution\n",
      "4 Oath of Nissa\n",
      "4 Saheeli Rai\n",
      "1 Tireless Tracker\n",
      "1 Eternal Witness\n",
      "2 Restoration Angel\n",
      "2 Reflector Mage\n",
      "2 Lotus Cobra\n",
      "3 Voice of Resurgence\n",
      "4 Birds of Paradise\n",
      "4 Felidar Guardian\n",
      "4 Wall of Omens\n",
      "1 Island\n",
      "1 Plains\n",
      "1 Razorverge Thicket\n",
      "1 Sacred Foundry\n",
      "1 Stomping Ground\n",
      "1 Temple Garden\n",
      "1 Hallowed Fountain\n",
      "1 Gavony Township\n",
      "1 Breeding Pool\n",
      "2 Forest\n",
      "3 Flooded Strand\n",
      "4 Windswept Heath\n",
      "4 Wooded Foothills\n",
      "Sideboard\n"
     ]
    }
   ],
   "source": [
    "deck_list = format_deck(raw_deck_list)"
   ]
  },
  {
   "cell_type": "code",
   "execution_count": 76,
   "metadata": {},
   "outputs": [
    {
     "data": {
      "text/plain": [
       "['1 Mana Leak',\n",
       " '3 Path to Exile',\n",
       " '3 Eldritch Evolution',\n",
       " '4 Oath of Nissa',\n",
       " '4 Saheeli Rai',\n",
       " '1 Tireless Tracker',\n",
       " '1 Eternal Witness',\n",
       " '2 Restoration Angel',\n",
       " '2 Reflector Mage',\n",
       " '2 Lotus Cobra',\n",
       " '3 Voice of Resurgence',\n",
       " '4 Birds of Paradise',\n",
       " '4 Felidar Guardian',\n",
       " '4 Wall of Omens',\n",
       " '1 Island',\n",
       " '1 Plains',\n",
       " '1 Razorverge Thicket',\n",
       " '1 Sacred Foundry',\n",
       " '1 Stomping Ground',\n",
       " '1 Temple Garden',\n",
       " '1 Hallowed Fountain',\n",
       " '1 Gavony Township',\n",
       " '1 Breeding Pool',\n",
       " '2 Forest',\n",
       " '3 Flooded Strand',\n",
       " '4 Windswept Heath',\n",
       " '4 Wooded Foothills']"
      ]
     },
     "execution_count": 76,
     "metadata": {},
     "output_type": "execute_result"
    }
   ],
   "source": [
    "deck_list"
   ]
  },
  {
   "cell_type": "code",
   "execution_count": 79,
   "metadata": {},
   "outputs": [
    {
     "data": {
      "text/plain": [
       "293927"
      ]
     },
     "execution_count": 79,
     "metadata": {},
     "output_type": "execute_result"
    }
   ],
   "source": [
    "deck_id = int(re.search('deck_list_(\\d+).txt', file_names[0]).group(1))\n",
    "\n",
    "deck_id"
   ]
  },
  {
   "cell_type": "code",
   "execution_count": 80,
   "metadata": {
    "collapsed": true
   },
   "outputs": [],
   "source": [
    "user_card_count = make_user_card_counts(deck_id, deck_list)"
   ]
  },
  {
   "cell_type": "code",
   "execution_count": 81,
   "metadata": {},
   "outputs": [
    {
     "data": {
      "text/plain": [
       "[(293927, 'Mana Leak', 1),\n",
       " (293927, 'Path to Exile', 3),\n",
       " (293927, 'Eldritch Evolution', 3),\n",
       " (293927, 'Oath of Nissa', 4),\n",
       " (293927, 'Saheeli Rai', 4),\n",
       " (293927, 'Tireless Tracker', 1),\n",
       " (293927, 'Eternal Witness', 1),\n",
       " (293927, 'Restoration Angel', 2),\n",
       " (293927, 'Reflector Mage', 2),\n",
       " (293927, 'Lotus Cobra', 2),\n",
       " (293927, 'Voice of Resurgence', 3),\n",
       " (293927, 'Birds of Paradise', 4),\n",
       " (293927, 'Felidar Guardian', 4),\n",
       " (293927, 'Wall of Omens', 4),\n",
       " (293927, 'Island', 1),\n",
       " (293927, 'Plains', 1),\n",
       " (293927, 'Razorverge Thicket', 1),\n",
       " (293927, 'Sacred Foundry', 1),\n",
       " (293927, 'Stomping Ground', 1),\n",
       " (293927, 'Temple Garden', 1),\n",
       " (293927, 'Hallowed Fountain', 1),\n",
       " (293927, 'Gavony Township', 1),\n",
       " (293927, 'Breeding Pool', 1),\n",
       " (293927, 'Forest', 2),\n",
       " (293927, 'Flooded Strand', 3),\n",
       " (293927, 'Windswept Heath', 4),\n",
       " (293927, 'Wooded Foothills', 4)]"
      ]
     },
     "execution_count": 81,
     "metadata": {},
     "output_type": "execute_result"
    }
   ],
   "source": [
    "user_card_count"
   ]
  },
  {
   "cell_type": "code",
   "execution_count": null,
   "metadata": {
    "collapsed": true
   },
   "outputs": [],
   "source": [
    "import os"
   ]
  },
  {
   "cell_type": "code",
   "execution_count": 173,
   "metadata": {},
   "outputs": [
    {
     "name": "stderr",
     "output_type": "stream",
     "text": [
      "[autoreload of src.make_user_card_counts failed: Traceback (most recent call last):\n",
      "  File \"<frozen importlib._bootstrap>\", line 618, in _exec\n",
      "  File \"<frozen importlib._bootstrap_external>\", line 678, in exec_module\n",
      "  File \"<frozen importlib._bootstrap>\", line 219, in _call_with_frames_removed\n",
      "  File \"/Users/benjaminwalzer/Documents/Galvanize/mtg-capstone/src/make_user_card_counts.py\", line 11, in <module>\n",
      "    conn = psycopg2.connect('dbname={} host={} user={}'.format(dbname, host, username))\n",
      "  File \"/Users/benjaminwalzer/anaconda2/envs/py36/lib/python3.6/site-packages/psycopg2/__init__.py\", line 130, in connect\n",
      "    conn = _connect(dsn, connection_factory=connection_factory, **kwasync)\n",
      "psycopg2.OperationalError: could not connect to server: Operation timed out\n",
      "\tIs the server running on host \"mtg-capstone.chi9modwkqyt.us-west-2.rds.amazonaws.com\" (34.214.169.143) and accepting\n",
      "\tTCP/IP connections on port 5432?\n",
      "\n",
      "\n",
      "During handling of the above exception, another exception occurred:\n",
      "\n",
      "Traceback (most recent call last):\n",
      "  File \"/Users/benjaminwalzer/anaconda2/envs/py36/lib/python3.6/site-packages/IPython/extensions/autoreload.py\", line 246, in check\n",
      "    superreload(m, reload, self.old_objects)\n",
      "  File \"/Users/benjaminwalzer/anaconda2/envs/py36/lib/python3.6/site-packages/IPython/extensions/autoreload.py\", line 369, in superreload\n",
      "    module = reload(module)\n",
      "  File \"/Users/benjaminwalzer/anaconda2/envs/py36/lib/python3.6/imp.py\", line 315, in reload\n",
      "    return importlib.reload(module)\n",
      "  File \"/Users/benjaminwalzer/anaconda2/envs/py36/lib/python3.6/importlib/__init__.py\", line 166, in reload\n",
      "    _bootstrap._exec(spec, module)\n",
      "  File \"<frozen importlib._bootstrap>\", line 618, in _exec\n",
      "KeyboardInterrupt\n",
      "]\n"
     ]
    },
    {
     "data": {
      "text/plain": [
       "'dbname=mtg_capstone_db host=mtg-capstone.chi9modwkqyt.us-west-2.rds.amazonaws.com user=bwalzer'"
      ]
     },
     "execution_count": 173,
     "metadata": {},
     "output_type": "execute_result"
    }
   ],
   "source": [
    "'dbname={} host={} user={}'.format(dbname, host, username)"
   ]
  },
  {
   "cell_type": "code",
   "execution_count": 174,
   "metadata": {},
   "outputs": [
    {
     "ename": "OperationalError",
     "evalue": "could not connect to server: Operation timed out\n\tIs the server running on host \"mtg-capstone.chi9modwkqyt.us-west-2.rds.amazonaws.com\" (34.214.169.143) and accepting\n\tTCP/IP connections on port 5432?\n",
     "output_type": "error",
     "traceback": [
      "\u001b[0;31m---------------------------------------------------------------------------\u001b[0m",
      "\u001b[0;31mOperationalError\u001b[0m                          Traceback (most recent call last)",
      "\u001b[0;32m<ipython-input-174-7081547f1993>\u001b[0m in \u001b[0;36m<module>\u001b[0;34m()\u001b[0m\n\u001b[1;32m      3\u001b[0m \u001b[0musername\u001b[0m \u001b[0;34m=\u001b[0m \u001b[0mos\u001b[0m\u001b[0;34m.\u001b[0m\u001b[0menviron\u001b[0m\u001b[0;34m[\u001b[0m\u001b[0;34m'CAPSTONE_DB_USERNAME'\u001b[0m\u001b[0;34m]\u001b[0m\u001b[0;34m\u001b[0m\u001b[0m\n\u001b[1;32m      4\u001b[0m \u001b[0;34m\u001b[0m\u001b[0m\n\u001b[0;32m----> 5\u001b[0;31m \u001b[0mconn\u001b[0m \u001b[0;34m=\u001b[0m \u001b[0mpsycopg2\u001b[0m\u001b[0;34m.\u001b[0m\u001b[0mconnect\u001b[0m\u001b[0;34m(\u001b[0m\u001b[0;34m'dbname={} host={} user={}'\u001b[0m\u001b[0;34m.\u001b[0m\u001b[0mformat\u001b[0m\u001b[0;34m(\u001b[0m\u001b[0mdbname\u001b[0m\u001b[0;34m,\u001b[0m \u001b[0mhost\u001b[0m\u001b[0;34m,\u001b[0m \u001b[0musername\u001b[0m\u001b[0;34m)\u001b[0m\u001b[0;34m)\u001b[0m\u001b[0;34m\u001b[0m\u001b[0m\n\u001b[0m\u001b[1;32m      6\u001b[0m \u001b[0mcursor\u001b[0m \u001b[0;34m=\u001b[0m \u001b[0mconn\u001b[0m\u001b[0;34m.\u001b[0m\u001b[0mcursor\u001b[0m\u001b[0;34m(\u001b[0m\u001b[0;34m)\u001b[0m\u001b[0;34m\u001b[0m\u001b[0m\n",
      "\u001b[0;32m~/anaconda2/envs/py36/lib/python3.6/site-packages/psycopg2/__init__.py\u001b[0m in \u001b[0;36mconnect\u001b[0;34m(dsn, connection_factory, cursor_factory, **kwargs)\u001b[0m\n\u001b[1;32m    128\u001b[0m \u001b[0;34m\u001b[0m\u001b[0m\n\u001b[1;32m    129\u001b[0m     \u001b[0mdsn\u001b[0m \u001b[0;34m=\u001b[0m \u001b[0m_ext\u001b[0m\u001b[0;34m.\u001b[0m\u001b[0mmake_dsn\u001b[0m\u001b[0;34m(\u001b[0m\u001b[0mdsn\u001b[0m\u001b[0;34m,\u001b[0m \u001b[0;34m**\u001b[0m\u001b[0mkwargs\u001b[0m\u001b[0;34m)\u001b[0m\u001b[0;34m\u001b[0m\u001b[0m\n\u001b[0;32m--> 130\u001b[0;31m     \u001b[0mconn\u001b[0m \u001b[0;34m=\u001b[0m \u001b[0m_connect\u001b[0m\u001b[0;34m(\u001b[0m\u001b[0mdsn\u001b[0m\u001b[0;34m,\u001b[0m \u001b[0mconnection_factory\u001b[0m\u001b[0;34m=\u001b[0m\u001b[0mconnection_factory\u001b[0m\u001b[0;34m,\u001b[0m \u001b[0;34m**\u001b[0m\u001b[0mkwasync\u001b[0m\u001b[0;34m)\u001b[0m\u001b[0;34m\u001b[0m\u001b[0m\n\u001b[0m\u001b[1;32m    131\u001b[0m     \u001b[0;32mif\u001b[0m \u001b[0mcursor_factory\u001b[0m \u001b[0;32mis\u001b[0m \u001b[0;32mnot\u001b[0m \u001b[0;32mNone\u001b[0m\u001b[0;34m:\u001b[0m\u001b[0;34m\u001b[0m\u001b[0m\n\u001b[1;32m    132\u001b[0m         \u001b[0mconn\u001b[0m\u001b[0;34m.\u001b[0m\u001b[0mcursor_factory\u001b[0m \u001b[0;34m=\u001b[0m \u001b[0mcursor_factory\u001b[0m\u001b[0;34m\u001b[0m\u001b[0m\n",
      "\u001b[0;31mOperationalError\u001b[0m: could not connect to server: Operation timed out\n\tIs the server running on host \"mtg-capstone.chi9modwkqyt.us-west-2.rds.amazonaws.com\" (34.214.169.143) and accepting\n\tTCP/IP connections on port 5432?\n"
     ]
    }
   ],
   "source": [
    "dbname = os.environ['CAPSTONE_DB_DBNAME']\n",
    "host = os.environ['CAPSTONE_DB_HOST']\n",
    "username = os.environ['CAPSTONE_DB_USERNAME']\n",
    "\n",
    "conn = psycopg2.connect('dbname={} host={} user={}'.format(dbname, host, username))\n",
    "cursor = conn.cursor()"
   ]
  },
  {
   "cell_type": "code",
   "execution_count": 140,
   "metadata": {
    "collapsed": true
   },
   "outputs": [],
   "source": [
    "cursor.execute('CREATE TABLE user_card_counts (user_id int, card_name varchar, card_count int)')"
   ]
  },
  {
   "cell_type": "code",
   "execution_count": 155,
   "metadata": {},
   "outputs": [],
   "source": [
    "conn.commit()"
   ]
  },
  {
   "cell_type": "code",
   "execution_count": 159,
   "metadata": {},
   "outputs": [],
   "source": [
    "add_item_db(user_card_count[3])"
   ]
  },
  {
   "cell_type": "code",
   "execution_count": 164,
   "metadata": {},
   "outputs": [
    {
     "data": {
      "text/plain": [
       "[(293927, 'Eldritch Evolution', 3), (293927, 'Oath of Nissa', 4)]"
      ]
     },
     "execution_count": 164,
     "metadata": {},
     "output_type": "execute_result"
    }
   ],
   "source": [
    "cursor.execute('SELECT * FROM user_card_counts')\n",
    "cursor.fetchall()"
   ]
  },
  {
   "cell_type": "code",
   "execution_count": 154,
   "metadata": {},
   "outputs": [
    {
     "data": {
      "text/plain": [
       "\"INSERT INTO user_card_counts (user_id, card_name, card_count)\\n               VALUES (293927, 'Mana Leak', 1)\\n            \""
      ]
     },
     "execution_count": 154,
     "metadata": {},
     "output_type": "execute_result"
    }
   ],
   "source": [
    "\"\"\"INSERT INTO user_card_counts (user_id, card_name, card_count)\n",
    "               VALUES ({user_id}, '{card_name}', {card_count})\n",
    "            \"\"\".format(user_id=user_card_count[0][0], card_name=user_card_count[0][1],\n",
    "                       card_count=user_card_count[0][2])"
   ]
  },
  {
   "cell_type": "code",
   "execution_count": 165,
   "metadata": {
    "collapsed": true
   },
   "outputs": [],
   "source": [
    "s3 = boto3.client('s3')\n",
    "\n",
    "bucketname = 'mtg-capstone'\n",
    "path = 'data/raw_deck_lists/'"
   ]
  },
  {
   "cell_type": "code",
   "execution_count": 170,
   "metadata": {},
   "outputs": [],
   "source": [
    "file_names = []\n",
    "\n",
    "response = s3.list_objects_v2(Bucket=bucketname, Prefix=path)\n",
    "file_names += [item['Key'] for item in response['Contents']]\n",
    "\n",
    "\n",
    "while response['IsTruncated']:\n",
    "    continuation = response['NextContinuationToken']\n",
    "    \n",
    "    response = s3.list_objects_v2(Bucket=bucketname, Prefix=path, ContinuationToken=continuation)\n",
    "    \n",
    "    file_names += [item['Key'] for item in response['Contents']]\n",
    "\n",
    "    \n",
    "    "
   ]
  },
  {
   "cell_type": "code",
   "execution_count": 172,
   "metadata": {},
   "outputs": [
    {
     "data": {
      "text/plain": [
       "6698"
      ]
     },
     "execution_count": 172,
     "metadata": {},
     "output_type": "execute_result"
    }
   ],
   "source": [
    "len(file_names)"
   ]
  },
  {
   "cell_type": "code",
   "execution_count": null,
   "metadata": {
    "collapsed": true
   },
   "outputs": [],
   "source": [
    "for file_name in file_names:\n",
    "    raw_deck_list = read_deck_list(file_name)\n",
    "    deck_list = format_deck(raw_deck_list)\n",
    "    deck_id = get_deck_id(file_name)\n",
    "    user_card_count = make_user_card_counts(deck_id, deck_list)\n",
    "    add_item_db(user_card_count)"
   ]
  },
  {
   "cell_type": "code",
   "execution_count": 167,
   "metadata": {
    "collapsed": true
   },
   "outputs": [],
   "source": [
    "response = s3.list_objects_v2(Bucket=bucketname, Prefix=path)"
   ]
  },
  {
   "cell_type": "code",
   "execution_count": 168,
   "metadata": {},
   "outputs": [
    {
     "data": {
      "text/plain": [
       "dict_keys(['ResponseMetadata', 'IsTruncated', 'Contents', 'Name', 'Prefix', 'MaxKeys', 'KeyCount', 'NextContinuationToken'])"
      ]
     },
     "execution_count": 168,
     "metadata": {},
     "output_type": "execute_result"
    }
   ],
   "source": [
    "response['']"
   ]
  },
  {
   "cell_type": "code",
   "execution_count": 177,
   "metadata": {},
   "outputs": [
    {
     "ename": "ParamValidationError",
     "evalue": "Parameter validation failed:\nInvalid type for parameter Body, value: [], type: <class 'list'>, valid types: <class 'bytes'>, <class 'bytearray'>, file-like object",
     "output_type": "error",
     "traceback": [
      "\u001b[0;31m---------------------------------------------------------------------------\u001b[0m",
      "\u001b[0;31mParamValidationError\u001b[0m                      Traceback (most recent call last)",
      "\u001b[0;32m<ipython-input-177-3015f9619475>\u001b[0m in \u001b[0;36m<module>\u001b[0;34m()\u001b[0m\n\u001b[0;32m----> 1\u001b[0;31m \u001b[0ms3\u001b[0m\u001b[0;34m.\u001b[0m\u001b[0mput_object\u001b[0m\u001b[0;34m(\u001b[0m\u001b[0mBucket\u001b[0m\u001b[0;34m=\u001b[0m\u001b[0;34m'mtg-capstone'\u001b[0m\u001b[0;34m,\u001b[0m \u001b[0mKey\u001b[0m\u001b[0;34m=\u001b[0m\u001b[0;34m'data/scraped_events.json'\u001b[0m\u001b[0;34m,\u001b[0m \u001b[0mBody\u001b[0m\u001b[0;34m=\u001b[0m\u001b[0;34m[\u001b[0m\u001b[0;34m]\u001b[0m\u001b[0;34m)\u001b[0m\u001b[0;34m\u001b[0m\u001b[0m\n\u001b[0m",
      "\u001b[0;32m~/anaconda2/envs/py36/lib/python3.6/site-packages/botocore/client.py\u001b[0m in \u001b[0;36m_api_call\u001b[0;34m(self, *args, **kwargs)\u001b[0m\n\u001b[1;32m    315\u001b[0m                     \"%s() only accepts keyword arguments.\" % py_operation_name)\n\u001b[1;32m    316\u001b[0m             \u001b[0;31m# The \"self\" in this scope is referring to the BaseClient.\u001b[0m\u001b[0;34m\u001b[0m\u001b[0;34m\u001b[0m\u001b[0m\n\u001b[0;32m--> 317\u001b[0;31m             \u001b[0;32mreturn\u001b[0m \u001b[0mself\u001b[0m\u001b[0;34m.\u001b[0m\u001b[0m_make_api_call\u001b[0m\u001b[0;34m(\u001b[0m\u001b[0moperation_name\u001b[0m\u001b[0;34m,\u001b[0m \u001b[0mkwargs\u001b[0m\u001b[0;34m)\u001b[0m\u001b[0;34m\u001b[0m\u001b[0m\n\u001b[0m\u001b[1;32m    318\u001b[0m \u001b[0;34m\u001b[0m\u001b[0m\n\u001b[1;32m    319\u001b[0m         \u001b[0m_api_call\u001b[0m\u001b[0;34m.\u001b[0m\u001b[0m__name__\u001b[0m \u001b[0;34m=\u001b[0m \u001b[0mstr\u001b[0m\u001b[0;34m(\u001b[0m\u001b[0mpy_operation_name\u001b[0m\u001b[0;34m)\u001b[0m\u001b[0;34m\u001b[0m\u001b[0m\n",
      "\u001b[0;32m~/anaconda2/envs/py36/lib/python3.6/site-packages/botocore/client.py\u001b[0m in \u001b[0;36m_make_api_call\u001b[0;34m(self, operation_name, api_params)\u001b[0m\n\u001b[1;32m    587\u001b[0m         }\n\u001b[1;32m    588\u001b[0m         request_dict = self._convert_to_request_dict(\n\u001b[0;32m--> 589\u001b[0;31m             api_params, operation_model, context=request_context)\n\u001b[0m\u001b[1;32m    590\u001b[0m \u001b[0;34m\u001b[0m\u001b[0m\n\u001b[1;32m    591\u001b[0m         handler, event_response = self.meta.events.emit_until_response(\n",
      "\u001b[0;32m~/anaconda2/envs/py36/lib/python3.6/site-packages/botocore/client.py\u001b[0m in \u001b[0;36m_convert_to_request_dict\u001b[0;34m(self, api_params, operation_model, context)\u001b[0m\n\u001b[1;32m    642\u001b[0m \u001b[0;34m\u001b[0m\u001b[0m\n\u001b[1;32m    643\u001b[0m         request_dict = self._serializer.serialize_to_request(\n\u001b[0;32m--> 644\u001b[0;31m             api_params, operation_model)\n\u001b[0m\u001b[1;32m    645\u001b[0m         prepare_request_dict(request_dict, endpoint_url=self._endpoint.host,\n\u001b[1;32m    646\u001b[0m                              \u001b[0muser_agent\u001b[0m\u001b[0;34m=\u001b[0m\u001b[0mself\u001b[0m\u001b[0;34m.\u001b[0m\u001b[0m_client_config\u001b[0m\u001b[0;34m.\u001b[0m\u001b[0muser_agent\u001b[0m\u001b[0;34m,\u001b[0m\u001b[0;34m\u001b[0m\u001b[0m\n",
      "\u001b[0;32m~/anaconda2/envs/py36/lib/python3.6/site-packages/botocore/validate.py\u001b[0m in \u001b[0;36mserialize_to_request\u001b[0;34m(self, parameters, operation_model)\u001b[0m\n\u001b[1;32m    289\u001b[0m                                                     operation_model.input_shape)\n\u001b[1;32m    290\u001b[0m             \u001b[0;32mif\u001b[0m \u001b[0mreport\u001b[0m\u001b[0;34m.\u001b[0m\u001b[0mhas_errors\u001b[0m\u001b[0;34m(\u001b[0m\u001b[0;34m)\u001b[0m\u001b[0;34m:\u001b[0m\u001b[0;34m\u001b[0m\u001b[0m\n\u001b[0;32m--> 291\u001b[0;31m                 \u001b[0;32mraise\u001b[0m \u001b[0mParamValidationError\u001b[0m\u001b[0;34m(\u001b[0m\u001b[0mreport\u001b[0m\u001b[0;34m=\u001b[0m\u001b[0mreport\u001b[0m\u001b[0;34m.\u001b[0m\u001b[0mgenerate_report\u001b[0m\u001b[0;34m(\u001b[0m\u001b[0;34m)\u001b[0m\u001b[0;34m)\u001b[0m\u001b[0;34m\u001b[0m\u001b[0m\n\u001b[0m\u001b[1;32m    292\u001b[0m         return self._serializer.serialize_to_request(parameters,\n\u001b[1;32m    293\u001b[0m                                                      operation_model)\n",
      "\u001b[0;31mParamValidationError\u001b[0m: Parameter validation failed:\nInvalid type for parameter Body, value: [], type: <class 'list'>, valid types: <class 'bytes'>, <class 'bytearray'>, file-like object"
     ]
    }
   ],
   "source": [
    "s3.put_object(Bucket='mtg-capstone', Key='data/scraped_events.json', Body=[])"
   ]
  },
  {
   "cell_type": "code",
   "execution_count": 178,
   "metadata": {
    "collapsed": true
   },
   "outputs": [],
   "source": [
    "with open('scraped_events.json', 'w') as f:\n",
    "    json.dump([], f)"
   ]
  },
  {
   "cell_type": "code",
   "execution_count": 201,
   "metadata": {},
   "outputs": [],
   "source": [
    "response = s3.get_object(Bucket='mtg-capstone', Key='data/scraped_events.json')"
   ]
  },
  {
   "cell_type": "code",
   "execution_count": 202,
   "metadata": {},
   "outputs": [
    {
     "data": {
      "text/plain": [
       "'[]'"
      ]
     },
     "execution_count": 202,
     "metadata": {},
     "output_type": "execute_result"
    }
   ],
   "source": [
    "response['Body'].read().decode()"
   ]
  },
  {
   "cell_type": "code",
   "execution_count": 198,
   "metadata": {},
   "outputs": [
    {
     "data": {
      "text/plain": [
       "[]"
      ]
     },
     "execution_count": 198,
     "metadata": {},
     "output_type": "execute_result"
    }
   ],
   "source": [
    "json.loads(response['Body'].read().decode())"
   ]
  },
  {
   "cell_type": "code",
   "execution_count": null,
   "metadata": {
    "collapsed": true
   },
   "outputs": [],
   "source": []
  },
  {
   "cell_type": "code",
   "execution_count": null,
   "metadata": {
    "collapsed": true
   },
   "outputs": [],
   "source": []
  },
  {
   "cell_type": "code",
   "execution_count": 187,
   "metadata": {},
   "outputs": [
    {
     "ename": "ParamValidationError",
     "evalue": "Parameter validation failed:\nInvalid type for parameter Body, value: [], type: <class 'list'>, valid types: <class 'bytes'>, <class 'bytearray'>, file-like object",
     "output_type": "error",
     "traceback": [
      "\u001b[0;31m---------------------------------------------------------------------------\u001b[0m",
      "\u001b[0;31mParamValidationError\u001b[0m                      Traceback (most recent call last)",
      "\u001b[0;32m<ipython-input-187-3015f9619475>\u001b[0m in \u001b[0;36m<module>\u001b[0;34m()\u001b[0m\n\u001b[0;32m----> 1\u001b[0;31m \u001b[0ms3\u001b[0m\u001b[0;34m.\u001b[0m\u001b[0mput_object\u001b[0m\u001b[0;34m(\u001b[0m\u001b[0mBucket\u001b[0m\u001b[0;34m=\u001b[0m\u001b[0;34m'mtg-capstone'\u001b[0m\u001b[0;34m,\u001b[0m \u001b[0mKey\u001b[0m\u001b[0;34m=\u001b[0m\u001b[0;34m'data/scraped_events.json'\u001b[0m\u001b[0;34m,\u001b[0m \u001b[0mBody\u001b[0m\u001b[0;34m=\u001b[0m\u001b[0;34m[\u001b[0m\u001b[0;34m]\u001b[0m\u001b[0;34m)\u001b[0m\u001b[0;34m\u001b[0m\u001b[0m\n\u001b[0m",
      "\u001b[0;32m~/anaconda2/envs/py36/lib/python3.6/site-packages/botocore/client.py\u001b[0m in \u001b[0;36m_api_call\u001b[0;34m(self, *args, **kwargs)\u001b[0m\n\u001b[1;32m    315\u001b[0m                     \"%s() only accepts keyword arguments.\" % py_operation_name)\n\u001b[1;32m    316\u001b[0m             \u001b[0;31m# The \"self\" in this scope is referring to the BaseClient.\u001b[0m\u001b[0;34m\u001b[0m\u001b[0;34m\u001b[0m\u001b[0m\n\u001b[0;32m--> 317\u001b[0;31m             \u001b[0;32mreturn\u001b[0m \u001b[0mself\u001b[0m\u001b[0;34m.\u001b[0m\u001b[0m_make_api_call\u001b[0m\u001b[0;34m(\u001b[0m\u001b[0moperation_name\u001b[0m\u001b[0;34m,\u001b[0m \u001b[0mkwargs\u001b[0m\u001b[0;34m)\u001b[0m\u001b[0;34m\u001b[0m\u001b[0m\n\u001b[0m\u001b[1;32m    318\u001b[0m \u001b[0;34m\u001b[0m\u001b[0m\n\u001b[1;32m    319\u001b[0m         \u001b[0m_api_call\u001b[0m\u001b[0;34m.\u001b[0m\u001b[0m__name__\u001b[0m \u001b[0;34m=\u001b[0m \u001b[0mstr\u001b[0m\u001b[0;34m(\u001b[0m\u001b[0mpy_operation_name\u001b[0m\u001b[0;34m)\u001b[0m\u001b[0;34m\u001b[0m\u001b[0m\n",
      "\u001b[0;32m~/anaconda2/envs/py36/lib/python3.6/site-packages/botocore/client.py\u001b[0m in \u001b[0;36m_make_api_call\u001b[0;34m(self, operation_name, api_params)\u001b[0m\n\u001b[1;32m    587\u001b[0m         }\n\u001b[1;32m    588\u001b[0m         request_dict = self._convert_to_request_dict(\n\u001b[0;32m--> 589\u001b[0;31m             api_params, operation_model, context=request_context)\n\u001b[0m\u001b[1;32m    590\u001b[0m \u001b[0;34m\u001b[0m\u001b[0m\n\u001b[1;32m    591\u001b[0m         handler, event_response = self.meta.events.emit_until_response(\n",
      "\u001b[0;32m~/anaconda2/envs/py36/lib/python3.6/site-packages/botocore/client.py\u001b[0m in \u001b[0;36m_convert_to_request_dict\u001b[0;34m(self, api_params, operation_model, context)\u001b[0m\n\u001b[1;32m    642\u001b[0m \u001b[0;34m\u001b[0m\u001b[0m\n\u001b[1;32m    643\u001b[0m         request_dict = self._serializer.serialize_to_request(\n\u001b[0;32m--> 644\u001b[0;31m             api_params, operation_model)\n\u001b[0m\u001b[1;32m    645\u001b[0m         prepare_request_dict(request_dict, endpoint_url=self._endpoint.host,\n\u001b[1;32m    646\u001b[0m                              \u001b[0muser_agent\u001b[0m\u001b[0;34m=\u001b[0m\u001b[0mself\u001b[0m\u001b[0;34m.\u001b[0m\u001b[0m_client_config\u001b[0m\u001b[0;34m.\u001b[0m\u001b[0muser_agent\u001b[0m\u001b[0;34m,\u001b[0m\u001b[0;34m\u001b[0m\u001b[0m\n",
      "\u001b[0;32m~/anaconda2/envs/py36/lib/python3.6/site-packages/botocore/validate.py\u001b[0m in \u001b[0;36mserialize_to_request\u001b[0;34m(self, parameters, operation_model)\u001b[0m\n\u001b[1;32m    289\u001b[0m                                                     operation_model.input_shape)\n\u001b[1;32m    290\u001b[0m             \u001b[0;32mif\u001b[0m \u001b[0mreport\u001b[0m\u001b[0;34m.\u001b[0m\u001b[0mhas_errors\u001b[0m\u001b[0;34m(\u001b[0m\u001b[0;34m)\u001b[0m\u001b[0;34m:\u001b[0m\u001b[0;34m\u001b[0m\u001b[0m\n\u001b[0;32m--> 291\u001b[0;31m                 \u001b[0;32mraise\u001b[0m \u001b[0mParamValidationError\u001b[0m\u001b[0;34m(\u001b[0m\u001b[0mreport\u001b[0m\u001b[0;34m=\u001b[0m\u001b[0mreport\u001b[0m\u001b[0;34m.\u001b[0m\u001b[0mgenerate_report\u001b[0m\u001b[0;34m(\u001b[0m\u001b[0;34m)\u001b[0m\u001b[0;34m)\u001b[0m\u001b[0;34m\u001b[0m\u001b[0m\n\u001b[0m\u001b[1;32m    292\u001b[0m         return self._serializer.serialize_to_request(parameters,\n\u001b[1;32m    293\u001b[0m                                                      operation_model)\n",
      "\u001b[0;31mParamValidationError\u001b[0m: Parameter validation failed:\nInvalid type for parameter Body, value: [], type: <class 'list'>, valid types: <class 'bytes'>, <class 'bytearray'>, file-like object"
     ]
    }
   ],
   "source": [
    "s3.put_object(Bucket='mtg-capstone', Key='data/scraped_events.json', Body=[])"
   ]
  },
  {
   "cell_type": "code",
   "execution_count": null,
   "metadata": {
    "collapsed": true
   },
   "outputs": [],
   "source": []
  }
 ],
 "metadata": {
  "kernelspec": {
   "display_name": "Python 3",
   "language": "python",
   "name": "python3"
  },
  "language_info": {
   "codemirror_mode": {
    "name": "ipython",
    "version": 3
   },
   "file_extension": ".py",
   "mimetype": "text/x-python",
   "name": "python",
   "nbconvert_exporter": "python",
   "pygments_lexer": "ipython3",
   "version": "3.6.3"
  }
 },
 "nbformat": 4,
 "nbformat_minor": 2
}
