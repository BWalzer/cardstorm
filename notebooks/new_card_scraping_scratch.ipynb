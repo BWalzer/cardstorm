{
 "cells": [
  {
   "cell_type": "code",
   "execution_count": 3,
   "metadata": {
    "collapsed": true
   },
   "outputs": [],
   "source": [
    "import requests\n",
    "import json\n",
    "import psycopg2\n",
    "import os\n",
    "from bs4 import BeautifulSoup"
   ]
  },
  {
   "cell_type": "code",
   "execution_count": 5,
   "metadata": {
    "collapsed": true
   },
   "outputs": [],
   "source": [
    "hostname = os.environ['CAPSTONE_DB_HOST']\n",
    "dbname = os.environ['CAPSTONE_DB_DBNAME']\n",
    "username = os.environ['CAPSTONE_DB_USERNAME']\n",
    "password = os.environ['CAPSTONE_DB_PASSWORD']"
   ]
  },
  {
   "cell_type": "code",
   "execution_count": 6,
   "metadata": {},
   "outputs": [
    {
     "data": {
      "text/plain": [
       "200"
      ]
     },
     "execution_count": 6,
     "metadata": {},
     "output_type": "execute_result"
    }
   ],
   "source": [
    "response = requests.get('https://api.scryfall.com/cards/search?q=format:modern')\n",
    "response.status_code"
   ]
  },
  {
   "cell_type": "code",
   "execution_count": 7,
   "metadata": {},
   "outputs": [
    {
     "data": {
      "text/plain": [
       "dict_keys(['object', 'total_cards', 'has_more', 'next_page', 'data'])"
      ]
     },
     "execution_count": 7,
     "metadata": {},
     "output_type": "execute_result"
    }
   ],
   "source": [
    "json_response = json.loads(response.text)\n",
    "\n",
    "json_response.keys()"
   ]
  },
  {
   "cell_type": "code",
   "execution_count": null,
   "metadata": {
    "collapsed": true
   },
   "outputs": [],
   "source": [
    "json_re"
   ]
  },
  {
   "cell_type": "code",
   "execution_count": null,
   "metadata": {
    "collapsed": true
   },
   "outputs": [],
   "source": [
    "sample_card = json_response['data'][1]\n",
    "sample_card"
   ]
  },
  {
   "cell_type": "code",
   "execution_count": null,
   "metadata": {
    "collapsed": true
   },
   "outputs": [],
   "source": [
    "conn = psycopg2.connect('dbname={} host={} user={} password={}'.format(dbname, hostname, username, password))"
   ]
  },
  {
   "cell_type": "code",
   "execution_count": null,
   "metadata": {
    "collapsed": true
   },
   "outputs": [],
   "source": [
    "cursor = conn.cursor()"
   ]
  },
  {
   "cell_type": "code",
   "execution_count": null,
   "metadata": {
    "collapsed": true
   },
   "outputs": [],
   "source": [
    "wanted_keys = ['cmc', 'collector_number', 'color_identity', 'id', 'mana_cost', 'name', 'set', 'type_line', \n",
    "               'object', 'multiverse_ids', 'mtgo_id', 'oracle_text', 'artist', 'set_name']"
   ]
  },
  {
   "cell_type": "code",
   "execution_count": null,
   "metadata": {
    "collapsed": true
   },
   "outputs": [],
   "source": [
    "filtered_card = {wanted_key: sample_card[wanted_key] for wanted_key in wanted_keys}"
   ]
  },
  {
   "cell_type": "code",
   "execution_count": null,
   "metadata": {
    "collapsed": true
   },
   "outputs": [],
   "source": [
    "data = [sample_card[wanted_key] for wanted_key in wanted_keys]"
   ]
  },
  {
   "cell_type": "code",
   "execution_count": null,
   "metadata": {
    "collapsed": true
   },
   "outputs": [],
   "source": [
    "template = ', '.join(['%s'] * len(data))\n",
    "template"
   ]
  },
  {
   "cell_type": "code",
   "execution_count": null,
   "metadata": {
    "collapsed": true
   },
   "outputs": [],
   "source": [
    "query = '''INSERT INTO cards \n",
    "(cmc, collector_number, color_identity, scryfall_id, mana_cost, name, \n",
    "set, type_line, object, multiverse_ids, mtgo_id, oracle_text, artist, set_name)\n",
    "VALUES ({})'''.format(template)\n"
   ]
  },
  {
   "cell_type": "code",
   "execution_count": null,
   "metadata": {
    "collapsed": true
   },
   "outputs": [],
   "source": [
    "query.split('\\n')"
   ]
  },
  {
   "cell_type": "code",
   "execution_count": null,
   "metadata": {
    "collapsed": true
   },
   "outputs": [],
   "source": [
    "data[0]"
   ]
  },
  {
   "cell_type": "code",
   "execution_count": null,
   "metadata": {
    "collapsed": true
   },
   "outputs": [],
   "source": [
    "cursor.execute(query=query, vars=data)"
   ]
  },
  {
   "cell_type": "code",
   "execution_count": null,
   "metadata": {
    "collapsed": true
   },
   "outputs": [],
   "source": []
  },
  {
   "cell_type": "code",
   "execution_count": null,
   "metadata": {
    "collapsed": true
   },
   "outputs": [],
   "source": [
    "conn.commit()"
   ]
  },
  {
   "cell_type": "code",
   "execution_count": null,
   "metadata": {
    "collapsed": true
   },
   "outputs": [],
   "source": []
  },
  {
   "cell_type": "code",
   "execution_count": null,
   "metadata": {
    "collapsed": true
   },
   "outputs": [],
   "source": [
    "def upload_card(card, cursor, verbose=False):\n",
    "    '''\n",
    "    Uploads a card to the PSQL databse 'cards'.\n",
    "    \n",
    "    INPUT:\n",
    "        - card: dictionary, magic the gathering card taken from scryfall.com\n",
    "        - cursor: psycopg2 cursor object, used to insert card into db\n",
    "        \n",
    "    OUTPUT:\n",
    "        - success: bool, True if no problems were encountered when inserting into db\n",
    "    '''\n",
    "    print(card['name'])\n",
    "    # the wanted data fields from the card\n",
    "    wanted_keys = ['cmc', 'collector_number', 'color_identity', 'id', 'mana_cost', 'name', 'set', 'type_line', \n",
    "                   'object', 'oracle_text', 'set_name']\n",
    "    \n",
    "    # filtering out unwanted keys\n",
    "    data = [card[wanted_key] for wanted_key in wanted_keys]\n",
    "    \n",
    "    # creating the template to insert into sql\n",
    "    template = ', '.join(['%s'] * len(data))\n",
    "    \n",
    "    # create sql query\n",
    "    query = '''INSERT INTO cards \n",
    "                (cmc, collector_number, color_identity, scryfall_id, mana_cost, name, \n",
    "                set, type_line, object, oracle_text, set_name)\n",
    "                VALUES ({})'''.format(template)\n",
    "    \n",
    "    # add data into the db\n",
    "#     try:\n",
    "    cursor.execute(query=query, vars=data)\n",
    "#     except:\n",
    "#         if verbose: print('could not insert card into db')\n",
    "#         return False\n",
    "    \n",
    "    return True"
   ]
  },
  {
   "cell_type": "code",
   "execution_count": 11,
   "metadata": {
    "collapsed": true
   },
   "outputs": [],
   "source": [
    "conn = psycopg2.connect('dbname={} host={} user={} password={}'.format(dbname, hostname, username, password))"
   ]
  },
  {
   "cell_type": "code",
   "execution_count": 12,
   "metadata": {
    "collapsed": true
   },
   "outputs": [],
   "source": [
    "cursor = conn.cursor()"
   ]
  },
  {
   "cell_type": "code",
   "execution_count": null,
   "metadata": {
    "collapsed": true
   },
   "outputs": [],
   "source": [
    "for card in json_response['data']:\n",
    "    if 'card_faces' in card.keys():\n",
    "        print(card['name'])"
   ]
  },
  {
   "cell_type": "code",
   "execution_count": null,
   "metadata": {
    "collapsed": true
   },
   "outputs": [],
   "source": [
    "card = (json_response['data'][173])\n",
    "card['legalities']\n",
    "\n",
    "legalities = [k for k, v in card['legalities'].items() if v == 'legal']\n",
    "\n",
    "legalities"
   ]
  },
  {
   "cell_type": "code",
   "execution_count": null,
   "metadata": {
    "collapsed": true
   },
   "outputs": [],
   "source": [
    "front_face = card['card_faces'][0]\n",
    "front_face"
   ]
  },
  {
   "cell_type": "code",
   "execution_count": null,
   "metadata": {
    "collapsed": true
   },
   "outputs": [],
   "source": [
    "def format_card(card):\n",
    "    '''\n",
    "    Formats cards in a db friendly manner. If the card is multifaced, the first face is used for missing fields\n",
    "    \n",
    "    INPUT:\n",
    "        - card: dictionary, magic card from scryfall.com\n",
    "        \n",
    "    OUTPUT: \n",
    "        - formatted_card: list, attributes of each card in the following order:\n",
    "                            [name, cmc, type_line, oracle_text, mana_cost, power, toughness, colors, \n",
    "                            color_identity, legalities, set_code, set_name, collector_number, scryfall_id]\n",
    "    '''\n",
    "    keys = card.keys()\n",
    "    formatted_card = []\n",
    "    if 'card_faces' in keys:\n",
    "        # multifaced card\n",
    "        front_face = card['card_faces'][0]\n",
    "        front_keys = front_face.keys()\n",
    "        \n",
    "        formatted_card.append(card['name'])\n",
    "        formatted_card.append(card['cmc'])\n",
    "        formatted_card.append(front_face['type_line'])\n",
    "        \n",
    "        if 'oracle_text' in front_keys:\n",
    "            formatted_card.append(front_face['oracle_text'])\n",
    "        else:\n",
    "            formatted_card.append(None)\n",
    "        \n",
    "        formatted_card.append(front_face['mana_cost'])\n",
    "        \n",
    "        if 'power' in front_keys:\n",
    "            formatted_card.append(front_face['power'])\n",
    "        else:\n",
    "            formatted_card.append(None)\n",
    "        \n",
    "        if 'toughness' in front_keys:\n",
    "            formatted_card.append(front_face['toughness'])\n",
    "        else:\n",
    "            formatted_card.append(None)\n",
    "            \n",
    "        if 'colors' in keys:\n",
    "            formatted_card.append(card['colors'])\n",
    "        else:\n",
    "            formatted_card.append(front_face['colors'])\n",
    "            \n",
    "        formatted_card.append(card['color_identity'])\n",
    "        \n",
    "        legalities = [k for k, v in card['legalities'].items() if v == 'legal']\n",
    "        formatted_card.append(legalities)\n",
    "        \n",
    "        formatted_card.append(card['set'])\n",
    "        formatted_card.append(card['set_name'])\n",
    "        formatted_card.append(card['collector_number'])\n",
    "        formatted_card.append(card['id'])\n",
    "                                  \n",
    "    else:\n",
    "        # single faced card\n",
    "        formatted_card.append(card['name'])\n",
    "        formatted_card.append(card['cmc'])\n",
    "        formatted_card.append(card['type_line'])\n",
    "        \n",
    "        if 'oracle_text' in keys: \n",
    "            formatted_card.append(card['oracle_text'])\n",
    "        else:\n",
    "            formatted_card.append(None)\n",
    "            \n",
    "        formatted_card.append(card['mana_cost'])\n",
    "        \n",
    "        if 'power' in keys:\n",
    "            formatted_card.append(card['power'])\n",
    "        else: \n",
    "            formatted_card.append(None)\n",
    "        \n",
    "        if 'toughness' in keys: \n",
    "            formatted_card.append(card['toughness'])\n",
    "        else: \n",
    "            formatted_card.append(None)\n",
    "        \n",
    "        formatted_card.append(card['colors'])\n",
    "        formatted_card.append(card['color_identity'])\n",
    "        \n",
    "        legalities = [k for k, v in card['legalities'].items() if v == 'legal']\n",
    "        formatted_card.append(legalities)\n",
    "        formatted_card.append(card['set'])\n",
    "        formatted_card.append(card['set_name'])\n",
    "        formatted_card.append(card['collector_number'])\n",
    "        formatted_card.append(card['id'])\n",
    "    \n",
    "    return formatted_card"
   ]
  },
  {
   "cell_type": "code",
   "execution_count": null,
   "metadata": {
    "collapsed": true
   },
   "outputs": [],
   "source": [
    "cards = []\n",
    "for idx, raw_card in enumerate(json_response['data']):\n",
    "    card = format_card(raw_card)\n",
    "\n",
    "    cards.append(card)\n",
    "    \n",
    "cards"
   ]
  },
  {
   "cell_type": "code",
   "execution_count": null,
   "metadata": {
    "collapsed": true
   },
   "outputs": [],
   "source": [
    "def upload_card(card, cursor, verbose=False):\n",
    "    '''\n",
    "    Uploads a card to the PSQL databse 'cards'.\n",
    "    \n",
    "    INPUT:\n",
    "        - card: dictionary, magic the gathering card taken from scryfall.com\n",
    "        - cursor: psycopg2 cursor object, used to insert card into db\n",
    "        \n",
    "    OUTPUT:\n",
    "        - success: bool, True if no problems were encountered when inserting into db\n",
    "    '''\n",
    "    print(card['name'])\n",
    "    # the wanted data fields from the card\n",
    "    wanted_keys = ['cmc', 'collector_number', 'color_identity', 'id', 'mana_cost', 'name', 'set', 'type_line', \n",
    "                   'object', 'oracle_text', 'set_name']\n",
    "    \n",
    "    # filtering out unwanted keys\n",
    "    data = [card[wanted_key] for wanted_key in wanted_keys]\n",
    "    \n",
    "    # creating the template to insert into sql\n",
    "    template = ', '.join(['%s'] * len(data))\n",
    "    \n",
    "    # create sql query\n",
    "    query = '''INSERT INTO cards \n",
    "                (cmc, collector_number, color_identity, scryfall_id, mana_cost, name, \n",
    "                set, type_line, object, oracle_text, set_name)\n",
    "                VALUES ({})'''.format(template)\n",
    "    \n",
    "    # add data into the db\n",
    "#     try:\n",
    "    cursor.execute(query=query, vars=data)\n",
    "#     except:\n",
    "#         if verbose: print('could not insert card into db')\n",
    "#         return False\n",
    "    \n",
    "    return True"
   ]
  },
  {
   "cell_type": "code",
   "execution_count": 21,
   "metadata": {
    "collapsed": true
   },
   "outputs": [],
   "source": [
    "conn = psycopg2.connect('dbname={} host={} user={} password={}'.format(dbname, hostname, username, password))"
   ]
  },
  {
   "cell_type": "code",
   "execution_count": 22,
   "metadata": {
    "collapsed": true
   },
   "outputs": [],
   "source": [
    "cursor = conn.cursor()"
   ]
  },
  {
   "cell_type": "code",
   "execution_count": null,
   "metadata": {
    "collapsed": true
   },
   "outputs": [],
   "source": [
    "cards[0]"
   ]
  },
  {
   "cell_type": "code",
   "execution_count": null,
   "metadata": {
    "collapsed": true
   },
   "outputs": [],
   "source": [
    "template = ', '.join(['%s'] * len(cards[0]))\n",
    "\n",
    "template"
   ]
  },
  {
   "cell_type": "code",
   "execution_count": null,
   "metadata": {
    "collapsed": true
   },
   "outputs": [],
   "source": [
    "query = '''INSERT INTO cards (name, cmc, type_line, oracle_text, mana_cost, power, toughness, colors, \n",
    "                              color_identity, legalities, set_id, set_name, collector_number, scryfall_id)\n",
    "           VALUES ({})'''.format(template)\n",
    "\n",
    "query"
   ]
  },
  {
   "cell_type": "code",
   "execution_count": null,
   "metadata": {
    "collapsed": true
   },
   "outputs": [],
   "source": [
    "cursor.execute(query, cards[0])"
   ]
  },
  {
   "cell_type": "code",
   "execution_count": null,
   "metadata": {
    "collapsed": true
   },
   "outputs": [],
   "source": [
    "conn.commit()"
   ]
  },
  {
   "cell_type": "code",
   "execution_count": null,
   "metadata": {
    "collapsed": true
   },
   "outputs": [],
   "source": [
    "cursor.execute('SELECT * FROM cards;')"
   ]
  },
  {
   "cell_type": "code",
   "execution_count": null,
   "metadata": {
    "collapsed": true
   },
   "outputs": [],
   "source": [
    "cursor.fetchall()"
   ]
  },
  {
   "cell_type": "code",
   "execution_count": null,
   "metadata": {
    "collapsed": true
   },
   "outputs": [],
   "source": [
    "def upload_card(card, cursor, verbose=False):\n",
    "    \n",
    "    template = ', '.join(['%s'] * len(card))\n",
    "    \n",
    "    query = '''INSERT INTO cards (name, cmc, type_line, oracle_text, mana_cost, power, toughness, colors, \n",
    "                              color_identity, legalities, set_id, set_name, collector_number, scryfall_id)\n",
    "           VALUES ({})'''.format(template)\n",
    "\n",
    "    try:\n",
    "        cursor.execute(query, card)\n",
    "        conn.commit()\n",
    "        return True\n",
    "    \n",
    "    except psycopg2.IntegrityError:\n",
    "        if verbose: print('duplicate card detected')\n",
    "        return False\n"
   ]
  },
  {
   "cell_type": "code",
   "execution_count": null,
   "metadata": {
    "collapsed": true,
    "scrolled": true
   },
   "outputs": [],
   "source": [
    "conn = psycopg2.connect('dbname={} host={} user={} password={}'.format(dbname, hostname, username, password))\n",
    "cursor = conn.cursor()\n",
    "for idx, card in enumerate(cards):\n",
    "    status = upload_card(card, cursor, verbose=True)\n",
    "    if not status:\n",
    "        conn = psycopg2.connect('dbname={} host={} user={} password={}'.format(dbname, hostname, username, password))\n",
    "        cursor = conn.cursor()"
   ]
  },
  {
   "cell_type": "code",
   "execution_count": null,
   "metadata": {
    "collapsed": true
   },
   "outputs": [],
   "source": [
    "url = 'https://api.scryfall.com/cards/search?q=format:modern'\n",
    "response = requests.get(url)\n",
    "json_response = json.loads(response.text)"
   ]
  },
  {
   "cell_type": "code",
   "execution_count": null,
   "metadata": {
    "collapsed": true
   },
   "outputs": [],
   "source": [
    "json_response['next_page']"
   ]
  },
  {
   "cell_type": "code",
   "execution_count": null,
   "metadata": {
    "collapsed": true
   },
   "outputs": [],
   "source": [
    "def get_modern_cards(verbose=False):\n",
    "    '''Gets all modern legal cards from scryfall.com api'''\n",
    "    \n",
    "    conn = psycopg2.connect('dbname={} host={} user={} password={}'.format(dbname, hostname, username, password))\n",
    "    cursor = conn.cursor()\n",
    "\n",
    "    url = 'https://api.scryfall.com/cards/search?q=format:modern'\n",
    "    \n",
    "    while True:\n",
    "        response = requests.get(url)\n",
    "        raw_cards = json.loads(response.text)\n",
    "        \n",
    "        for idx, raw_card in enumerate(raw_cards['data']):\n",
    "            card = format_card(raw_card)\n",
    "            status = upload_card(card, cursor, verbose=True)\n",
    "            if not status:\n",
    "                print('{}'.format(idx))\n",
    "                conn = psycopg2.connect('dbname={} host={} user={} password={}'.format(dbname, hostname, username, password))\n",
    "                cursor = conn.cursor()\n",
    "        if not raw_cards['has_more']:\n",
    "            # no more cards to get\n",
    "            if verbose: print('All done')\n",
    "            break\n",
    "        \n",
    "        "
   ]
  },
  {
   "cell_type": "code",
   "execution_count": 1,
   "metadata": {},
   "outputs": [
    {
     "ename": "NameError",
     "evalue": "name 'json_response' is not defined",
     "output_type": "error",
     "traceback": [
      "\u001b[0;31m---------------------------------------------------------------------------\u001b[0m",
      "\u001b[0;31mNameError\u001b[0m                                 Traceback (most recent call last)",
      "\u001b[0;32m<ipython-input-1-71a2de80dff8>\u001b[0m in \u001b[0;36m<module>\u001b[0;34m()\u001b[0m\n\u001b[0;32m----> 1\u001b[0;31m \u001b[0mjson_response\u001b[0m\u001b[0;34m.\u001b[0m\u001b[0mkeys\u001b[0m\u001b[0;34m(\u001b[0m\u001b[0;34m)\u001b[0m\u001b[0;34m\u001b[0m\u001b[0m\n\u001b[0m",
      "\u001b[0;31mNameError\u001b[0m: name 'json_response' is not defined"
     ]
    }
   ],
   "source": [
    "json_response.keys()"
   ]
  },
  {
   "cell_type": "code",
   "execution_count": 9,
   "metadata": {
    "collapsed": true
   },
   "outputs": [],
   "source": [
    "from src.deck_scraping import get_cardstorm_id"
   ]
  },
  {
   "cell_type": "code",
   "execution_count": 28,
   "metadata": {},
   "outputs": [
    {
     "data": {
      "text/plain": [
       "(20578, True)"
      ]
     },
     "execution_count": 28,
     "metadata": {},
     "output_type": "execute_result"
    }
   ],
   "source": [
    "get_cardstorm_id('Snapcaster Mage', cursor, verbose=True)"
   ]
  },
  {
   "cell_type": "code",
   "execution_count": 59,
   "metadata": {
    "collapsed": true
   },
   "outputs": [],
   "source": [
    "conn = psycopg2.connect('dbname={} host={} user={} password={}'.format(dbname, hostname, username, password))\n",
    "cursor = conn.cursor()"
   ]
  },
  {
   "cell_type": "code",
   "execution_count": 52,
   "metadata": {},
   "outputs": [
    {
     "data": {
      "text/plain": [
       "'SELECT cardstorm_id\\n           FROM cards\\n           WHERE name=%s'"
      ]
     },
     "execution_count": 52,
     "metadata": {},
     "output_type": "execute_result"
    }
   ],
   "source": [
    "query = \"\"\"SELECT cardstorm_id\n",
    "           FROM cards\n",
    "           WHERE name=%s\"\"\"\n",
    "\n",
    "query"
   ]
  },
  {
   "cell_type": "code",
   "execution_count": 53,
   "metadata": {
    "collapsed": true
   },
   "outputs": [],
   "source": [
    "cursor.execute(query, [\"Gryff's Boon\"])"
   ]
  },
  {
   "cell_type": "code",
   "execution_count": 54,
   "metadata": {},
   "outputs": [
    {
     "data": {
      "text/plain": [
       "[(10425,)]"
      ]
     },
     "execution_count": 54,
     "metadata": {},
     "output_type": "execute_result"
    }
   ],
   "source": [
    "cursor.fetchall()"
   ]
  },
  {
   "cell_type": "code",
   "execution_count": 29,
   "metadata": {
    "collapsed": true
   },
   "outputs": [],
   "source": [
    "from src.deck_scraping import *"
   ]
  },
  {
   "cell_type": "code",
   "execution_count": 32,
   "metadata": {},
   "outputs": [
    {
     "name": "stdout",
     "output_type": "stream",
     "text": [
      "requesting front page number 0\n"
     ]
    }
   ],
   "source": [
    "front_page = BeautifulSoup(modern_front_page_request(page_number=0, verbose=True).text, 'html.parser')"
   ]
  },
  {
   "cell_type": "code",
   "execution_count": 33,
   "metadata": {},
   "outputs": [
    {
     "name": "stdout",
     "output_type": "stream",
     "text": [
      "    getting event ids from a front page\n"
     ]
    }
   ],
   "source": [
    "event_ids = get_event_ids(front_page, True)"
   ]
  },
  {
   "cell_type": "code",
   "execution_count": 35,
   "metadata": {},
   "outputs": [
    {
     "name": "stdout",
     "output_type": "stream",
     "text": [
      "    event request for event id 18206\n"
     ]
    }
   ],
   "source": [
    "event_page = BeautifulSoup(event_request(event_ids[0], True).text, 'html.parser')"
   ]
  },
  {
   "cell_type": "code",
   "execution_count": 36,
   "metadata": {
    "collapsed": true
   },
   "outputs": [],
   "source": [
    "deck_ids = get_deck_ids(event_page, True)"
   ]
  },
  {
   "cell_type": "code",
   "execution_count": 37,
   "metadata": {},
   "outputs": [
    {
     "name": "stdout",
     "output_type": "stream",
     "text": [
      "        deck request for deck id 312786\n"
     ]
    }
   ],
   "source": [
    "raw_deck_list = deck_request(deck_ids[0], True)"
   ]
  },
  {
   "cell_type": "code",
   "execution_count": 38,
   "metadata": {
    "collapsed": true
   },
   "outputs": [],
   "source": [
    "deck_list = format_deck(raw_deck_list)"
   ]
  },
  {
   "cell_type": "code",
   "execution_count": 65,
   "metadata": {
    "collapsed": true
   },
   "outputs": [],
   "source": [
    "def make_user_card_counts_2(event_id, deck_id, deck_list, cursor, verbose=False):\n",
    "    \"\"\"\n",
    "    Takes a deck_id and deck_list and returns user-card-count tuples.\n",
    "\n",
    "    INPUT:\n",
    "        - event_id: the unique identifier for the event this deck came from\n",
    "        - deck_id: the unique identifier for the deck\n",
    "        - deck_list: the deck list read from a file, formatted\n",
    "        - cursor: psycopg2 cursor object, used to get cardstorm_id from db\n",
    "        - verbose: bool, if true status messages will be printed\n",
    "    OUTPUT:\n",
    "        - user_card_count: a tuple containing the deck_id, card_name and\n",
    "                           card_count for each card in the deck.\n",
    "    \"\"\"\n",
    "    \n",
    "    user_card_count = []\n",
    "    for card_string in deck_list:\n",
    "        parse_success, card_name, card_count = parse_card_string(card_string)\n",
    "        cardstorm_id, cardstorm_success = get_cardstorm_id(card_name, cursor, verbose=verbose)\n",
    "        if parse_success:\n",
    "            user_card_count.append((int(event_id), int(deck_id), cardstorm_id, card_name, card_count))\n",
    "\n",
    "    return user_card_count\n"
   ]
  },
  {
   "cell_type": "code",
   "execution_count": 66,
   "metadata": {
    "collapsed": true
   },
   "outputs": [],
   "source": [
    "user_card_counts = make_user_card_counts_2(event_ids[0], deck_ids[0], deck_list, cursor)"
   ]
  },
  {
   "cell_type": "code",
   "execution_count": 67,
   "metadata": {},
   "outputs": [
    {
     "data": {
      "text/plain": [
       "[(18206, 312786, 8901, 'Dryad Arbor', 1),\n",
       " (18206, 312786, 10042, 'Gladecover Scout', 4),\n",
       " (18206, 312786, 11559, 'Kor Spiritdancer', 2),\n",
       " (18206, 312786, 20334, 'Silhana Ledgewalker', 2),\n",
       " (18206, 312786, 20527, 'Slippery Bogle', 4),\n",
       " (18206, 312786, 18590, 'Path to Exile', 2),\n",
       " (18206, 312786, 5606, 'Cartouche of Solidarity', 1),\n",
       " (18206, 312786, 8379, 'Daybreak Coronet', 4),\n",
       " (18206, 312786, 9242, 'Ethereal Armor', 4),\n",
       " (18206, 312786, 10425, \"Gryff's Boon\", 2),\n",
       " (18206, 312786, 10913, 'Hyena Umbra', 3),\n",
       " (18206, 312786, 17059, 'Leyline of Sanctity', 2),\n",
       " (18206, 312786, 19168, 'Rancor', 4),\n",
       " (18206, 312786, 20785, 'Spider Umbra', 3),\n",
       " (18206, 312786, 20827, 'Spirit Mantle', 2),\n",
       " (18206, 312786, 21859, 'Triclopean Sight', 2),\n",
       " (18206, 312786, 9700, 'Forest', 1),\n",
       " (18206, 312786, 10812, 'Horizon Canopy', 4),\n",
       " (18206, 312786, 18769, 'Plains', 2),\n",
       " (18206, 312786, 19218, 'Razorverge Thicket', 3),\n",
       " (18206, 312786, 21431, 'Temple Garden', 3),\n",
       " (18206, 312786, 22710, 'Windswept Heath', 3),\n",
       " (18206, 312786, 22769, 'Wooded Foothills', 2)]"
      ]
     },
     "execution_count": 67,
     "metadata": {},
     "output_type": "execute_result"
    }
   ],
   "source": [
    "user_card_counts"
   ]
  },
  {
   "cell_type": "code",
   "execution_count": 68,
   "metadata": {},
   "outputs": [
    {
     "data": {
      "text/plain": [
       "60"
      ]
     },
     "execution_count": 68,
     "metadata": {},
     "output_type": "execute_result"
    }
   ],
   "source": [
    "sum([x[-1] for x in user_card_counts])"
   ]
  },
  {
   "cell_type": "code",
   "execution_count": 70,
   "metadata": {},
   "outputs": [
    {
     "name": "stdout",
     "output_type": "stream",
     "text": [
      "Duskwatch Recruiter\n"
     ]
    },
    {
     "ename": "IndexError",
     "evalue": "list index out of range",
     "output_type": "error",
     "traceback": [
      "\u001b[0;31m---------------------------------------------------------------------------\u001b[0m",
      "\u001b[0;31mIndexError\u001b[0m                                Traceback (most recent call last)",
      "\u001b[0;32m<ipython-input-70-148812949450>\u001b[0m in \u001b[0;36m<module>\u001b[0;34m()\u001b[0m\n\u001b[0;32m----> 1\u001b[0;31m \u001b[0mget_cardstorm_id\u001b[0m\u001b[0;34m(\u001b[0m\u001b[0;34m'Duskwatch Recruiter'\u001b[0m\u001b[0;34m,\u001b[0m \u001b[0mcursor\u001b[0m\u001b[0;34m,\u001b[0m \u001b[0;32mTrue\u001b[0m\u001b[0;34m)\u001b[0m\u001b[0;34m\u001b[0m\u001b[0m\n\u001b[0m",
      "\u001b[0;32m~/Documents/Galvanize/mtg-capstone/src/deck_scraping.py\u001b[0m in \u001b[0;36mget_cardstorm_id\u001b[0;34m(card_name, cursor, verbose)\u001b[0m\n\u001b[1;32m    145\u001b[0m         \u001b[0;32mreturn\u001b[0m \u001b[0;34m''\u001b[0m\u001b[0;34m,\u001b[0m \u001b[0;32mFalse\u001b[0m\u001b[0;34m\u001b[0m\u001b[0m\n\u001b[1;32m    146\u001b[0m     \u001b[0;32mif\u001b[0m \u001b[0mverbose\u001b[0m\u001b[0;34m:\u001b[0m \u001b[0mprint\u001b[0m\u001b[0;34m(\u001b[0m\u001b[0mcard_name\u001b[0m\u001b[0;34m)\u001b[0m\u001b[0;34m\u001b[0m\u001b[0m\n\u001b[0;32m--> 147\u001b[0;31m     \u001b[0;32mreturn\u001b[0m \u001b[0mcursor\u001b[0m\u001b[0;34m.\u001b[0m\u001b[0mfetchall\u001b[0m\u001b[0;34m(\u001b[0m\u001b[0;34m)\u001b[0m\u001b[0;34m[\u001b[0m\u001b[0;36m0\u001b[0m\u001b[0;34m]\u001b[0m\u001b[0;34m[\u001b[0m\u001b[0;36m0\u001b[0m\u001b[0;34m]\u001b[0m\u001b[0;34m,\u001b[0m \u001b[0;32mTrue\u001b[0m\u001b[0;34m\u001b[0m\u001b[0m\n\u001b[0m\u001b[1;32m    148\u001b[0m \u001b[0;34m\u001b[0m\u001b[0m\n\u001b[1;32m    149\u001b[0m \u001b[0;31m################################################################################\u001b[0m\u001b[0;34m\u001b[0m\u001b[0;34m\u001b[0m\u001b[0m\n",
      "\u001b[0;31mIndexError\u001b[0m: list index out of range"
     ]
    }
   ],
   "source": [
    "get_cardstorm_id('Duskwatch Recruiter', cursor, True)"
   ]
  },
  {
   "cell_type": "code",
   "execution_count": 71,
   "metadata": {},
   "outputs": [
    {
     "data": {
      "text/plain": [
       "200"
      ]
     },
     "execution_count": 71,
     "metadata": {},
     "output_type": "execute_result"
    }
   ],
   "source": [
    "url = 'https://api.scryfall.com/cards/named?exact=Duskwatch Recruiter'\n",
    "response = requests.get(url)\n",
    "\n",
    "response.status_code"
   ]
  },
  {
   "cell_type": "code",
   "execution_count": 73,
   "metadata": {
    "collapsed": true
   },
   "outputs": [],
   "source": [
    "duskwatch_recruiter = json.loads(response.text)"
   ]
  },
  {
   "cell_type": "code",
   "execution_count": 75,
   "metadata": {},
   "outputs": [
    {
     "data": {
      "text/plain": [
       "{'artist': 'Craig J Spearing',\n",
       " 'border_color': 'black',\n",
       " 'card_faces': [{'colors': ['G'],\n",
       "   'illustration_id': '7c7c6edf-7046-465d-93ff-1f13bbf3db73',\n",
       "   'image_uris': {'art_crop': 'https://img.scryfall.com/cards/art_crop/en/soi/203a.jpg?1509844803',\n",
       "    'border_crop': 'https://img.scryfall.com/cards/border_crop/en/soi/203a.jpg?1509844803',\n",
       "    'large': 'https://img.scryfall.com/cards/large/en/soi/203a.jpg?1509844803',\n",
       "    'normal': 'https://img.scryfall.com/cards/normal/en/soi/203a.jpg?1509844803',\n",
       "    'png': 'https://img.scryfall.com/cards/png/en/soi/203a.png?1509844803',\n",
       "    'small': 'https://img.scryfall.com/cards/small/en/soi/203a.jpg?1509844803'},\n",
       "   'mana_cost': '{1}{G}',\n",
       "   'name': 'Duskwatch Recruiter',\n",
       "   'object': 'card_face',\n",
       "   'oracle_text': '{2}{G}: Look at the top three cards of your library. You may reveal a creature card from among them and put it into your hand. Put the rest on the bottom of your library in any order.\\nAt the beginning of each upkeep, if no spells were cast last turn, transform Duskwatch Recruiter.',\n",
       "   'power': '2',\n",
       "   'toughness': '2',\n",
       "   'type_line': 'Creature — Human Warrior Werewolf'},\n",
       "  {'color_indicator': ['G'],\n",
       "   'colors': ['G'],\n",
       "   'illustration_id': '02f4e677-adb6-4389-81ae-c2e67047b86f',\n",
       "   'image_uris': {'art_crop': 'https://img.scryfall.com/cards/art_crop/en/soi/203b.jpg?1509844803',\n",
       "    'border_crop': 'https://img.scryfall.com/cards/border_crop/en/soi/203b.jpg?1509844803',\n",
       "    'large': 'https://img.scryfall.com/cards/large/en/soi/203b.jpg?1509844803',\n",
       "    'normal': 'https://img.scryfall.com/cards/normal/en/soi/203b.jpg?1509844803',\n",
       "    'png': 'https://img.scryfall.com/cards/png/en/soi/203b.png?1509844803',\n",
       "    'small': 'https://img.scryfall.com/cards/small/en/soi/203b.jpg?1509844803'},\n",
       "   'mana_cost': '',\n",
       "   'name': 'Krallenhorde Howler',\n",
       "   'object': 'card_face',\n",
       "   'oracle_text': 'Creature spells you cast cost {1} less to cast.\\nAt the beginning of each upkeep, if a player cast two or more spells last turn, transform Krallenhorde Howler.',\n",
       "   'power': '3',\n",
       "   'toughness': '3',\n",
       "   'type_line': 'Creature — Werewolf'}],\n",
       " 'cmc': 2.0,\n",
       " 'collector_number': '203',\n",
       " 'color_identity': ['G'],\n",
       " 'colorshifted': False,\n",
       " 'digital': False,\n",
       " 'edhrec_rank': 1777,\n",
       " 'eur': '0.91',\n",
       " 'frame': '2015',\n",
       " 'full_art': False,\n",
       " 'futureshifted': False,\n",
       " 'highres_image': True,\n",
       " 'id': 'e1915d93-c7dd-4bb7-bd5c-63a359a02b97',\n",
       " 'layout': 'transform',\n",
       " 'legalities': {'1v1': 'legal',\n",
       "  'commander': 'legal',\n",
       "  'duel': 'legal',\n",
       "  'frontier': 'legal',\n",
       "  'future': 'not_legal',\n",
       "  'legacy': 'legal',\n",
       "  'modern': 'legal',\n",
       "  'pauper': 'not_legal',\n",
       "  'penny': 'not_legal',\n",
       "  'standard': 'not_legal',\n",
       "  'vintage': 'legal'},\n",
       " 'mtgo_foil_id': 60301,\n",
       " 'mtgo_id': 60300,\n",
       " 'multiverse_ids': [409961, 409962],\n",
       " 'name': 'Duskwatch Recruiter // Krallenhorde Howler',\n",
       " 'object': 'card',\n",
       " 'prints_search_uri': 'https://api.scryfall.com/cards/search?order=set&q=%2B%2B%21%22Duskwatch+Recruiter+%2F%2F+Krallenhorde+Howler%22',\n",
       " 'purchase_uris': {'amazon': 'https://www.amazon.com/gp/search?ie=UTF8&index=toys-and-games&keywords=Duskwatch+Recruiter&tag=scryfall-20',\n",
       "  'card_kingdom': 'https://www.cardkingdom.com/catalog/item/205795?partner=scryfall&utm_campaign=affiliate&utm_medium=scryfall&utm_source=scryfall',\n",
       "  'cardhoarder': 'https://www.cardhoarder.com/cards/60300?affiliate_id=scryfall&ref=card-profile&utm_campaign=affiliate&utm_medium=card&utm_source=scryfall',\n",
       "  'coolstuffinc': 'http://www.coolstuffinc.com/p/Magic%3A+The+Gathering/Duskwatch+Recruiter+%2F%2F+Krallenhorde+Howler?utm_source=scryfall',\n",
       "  'ebay': 'http://rover.ebay.com/rover/1/711-53200-19255-0/1?campid=5337966903&icep_catId=19107&icep_ff3=10&icep_sortBy=12&icep_uq=Duskwatch+Recruiter&icep_vectorid=229466&ipn=psmain&kw=lg&kwid=902099&mtid=824&pub=5575230669&toolid=10001',\n",
       "  'magiccardmarket': 'https://www.cardmarket.com/Magic/Products/Singles/Shadows+over+Innistrad/Duskwatch+Recruiter+%2F+Krallenhorde+Howler?referrer=scryfall',\n",
       "  'mtgo_traders': 'http://www.mtgotraders.com/deck/ref.php?id=60300&referral=scryfall',\n",
       "  'tcgplayer': 'http://store.tcgplayer.com/magic/shadows-over-innistrad/duskwatch-recruiter?partner=Scryfall'},\n",
       " 'rarity': 'uncommon',\n",
       " 'related_uris': {'edhrec': 'http://edhrec.com/route/?cc=Duskwatch+Recruiter',\n",
       "  'gatherer': 'http://gatherer.wizards.com/Pages/Card/Details.aspx?multiverseid=409961',\n",
       "  'mtgtop8': 'http://mtgtop8.com/search?MD_check=1&SB_check=1&cards=Duskwatch+Recruiter',\n",
       "  'tcgplayer_decks': 'http://decks.tcgplayer.com/magic/deck/search?contains=Duskwatch+Recruiter&page=1&partner=Scryfall'},\n",
       " 'reprint': False,\n",
       " 'reserved': False,\n",
       " 'rulings_uri': 'https://api.scryfall.com/cards/soi/203/rulings',\n",
       " 'scryfall_set_uri': 'https://scryfall.com/sets/soi?utm_source=api',\n",
       " 'scryfall_uri': 'https://scryfall.com/card/soi/203?utm_source=api',\n",
       " 'set': 'soi',\n",
       " 'set_name': 'Shadows over Innistrad',\n",
       " 'set_search_uri': 'https://api.scryfall.com/cards/search?q=%2B%2Be%3Asoi',\n",
       " 'set_uri': 'https://api.scryfall.com/cards/search?q=%2B%2Be%3Asoi',\n",
       " 'timeshifted': False,\n",
       " 'tix': '0.01',\n",
       " 'uri': 'https://api.scryfall.com/cards/soi/203',\n",
       " 'usd': '0.79'}"
      ]
     },
     "execution_count": 75,
     "metadata": {},
     "output_type": "execute_result"
    }
   ],
   "source": [
    "duskwatch_recruiter"
   ]
  },
  {
   "cell_type": "code",
   "execution_count": 76,
   "metadata": {},
   "outputs": [
    {
     "data": {
      "text/plain": [
       "200"
      ]
     },
     "execution_count": 76,
     "metadata": {},
     "output_type": "execute_result"
    }
   ],
   "source": [
    "url = 'https://api.scryfall.com/cards/named?exact=Dusk // Dawn'\n",
    "response = requests.get(url)\n",
    "\n",
    "response.status_code"
   ]
  },
  {
   "cell_type": "code",
   "execution_count": 77,
   "metadata": {},
   "outputs": [
    {
     "data": {
      "text/plain": [
       "{'artist': 'Noah Bradley',\n",
       " 'border_color': 'black',\n",
       " 'card_faces': [{'illustration_id': 'f3d63aed-2784-4ef5-9676-846b1e65e040',\n",
       "   'mana_cost': '{2}{W}{W}',\n",
       "   'name': 'Dusk',\n",
       "   'object': 'card_face',\n",
       "   'oracle_text': 'Destroy all creatures with power 3 or greater.',\n",
       "   'type_line': 'Sorcery'},\n",
       "  {'mana_cost': '{3}{W}{W}',\n",
       "   'name': 'Dawn',\n",
       "   'object': 'card_face',\n",
       "   'oracle_text': 'Aftermath (Cast this spell only from your graveyard. Then exile it.)\\nReturn all creature cards with power 2 or less from your graveyard to your hand.',\n",
       "   'type_line': 'Sorcery'}],\n",
       " 'cmc': 9.0,\n",
       " 'collector_number': '210',\n",
       " 'color_identity': ['W'],\n",
       " 'colors': ['W'],\n",
       " 'colorshifted': False,\n",
       " 'digital': False,\n",
       " 'edhrec_rank': 984,\n",
       " 'eur': '0.83',\n",
       " 'frame': '2015',\n",
       " 'full_art': False,\n",
       " 'futureshifted': False,\n",
       " 'highres_image': True,\n",
       " 'id': '937dbc51-b589-4237-9fce-ea5c757f7c48',\n",
       " 'illustration_id': 'f3d63aed-2784-4ef5-9676-846b1e65e040',\n",
       " 'image_uris': {'art_crop': 'https://img.scryfall.com/cards/art_crop/en/akh/210a.jpg?1509810296',\n",
       "  'border_crop': 'https://img.scryfall.com/cards/border_crop/en/akh/210a.jpg?1509810296',\n",
       "  'large': 'https://img.scryfall.com/cards/large/en/akh/210a.jpg?1509810296',\n",
       "  'normal': 'https://img.scryfall.com/cards/normal/en/akh/210a.jpg?1509810296',\n",
       "  'png': 'https://img.scryfall.com/cards/png/en/akh/210a.png?1509810296',\n",
       "  'small': 'https://img.scryfall.com/cards/small/en/akh/210a.jpg?1509810296'},\n",
       " 'layout': 'split',\n",
       " 'legalities': {'1v1': 'legal',\n",
       "  'commander': 'legal',\n",
       "  'duel': 'legal',\n",
       "  'frontier': 'legal',\n",
       "  'future': 'legal',\n",
       "  'legacy': 'legal',\n",
       "  'modern': 'legal',\n",
       "  'pauper': 'not_legal',\n",
       "  'penny': 'not_legal',\n",
       "  'standard': 'legal',\n",
       "  'vintage': 'legal'},\n",
       " 'mana_cost': '{2}{W}{W} // {3}{W}{W}',\n",
       " 'mtgo_foil_id': 64023,\n",
       " 'mtgo_id': 64022,\n",
       " 'multiverse_ids': [426912],\n",
       " 'name': 'Dusk // Dawn',\n",
       " 'object': 'card',\n",
       " 'prints_search_uri': 'https://api.scryfall.com/cards/search?order=set&q=%2B%2B%21%22Dusk+%2F%2F+Dawn%22',\n",
       " 'purchase_uris': {'amazon': 'https://www.amazon.com/gp/search?ie=UTF8&index=toys-and-games&keywords=Dusk+%2F%2F+Dawn&tag=scryfall-20',\n",
       "  'card_kingdom': 'https://www.cardkingdom.com/catalog/item/211842?partner=scryfall&utm_campaign=affiliate&utm_medium=scryfall&utm_source=scryfall',\n",
       "  'cardhoarder': 'https://www.cardhoarder.com/cards/64022?affiliate_id=scryfall&ref=card-profile&utm_campaign=affiliate&utm_medium=card&utm_source=scryfall',\n",
       "  'coolstuffinc': 'http://www.coolstuffinc.com/p/Magic%3A+The+Gathering/Dusk+%2F%2F+Dawn?utm_source=scryfall',\n",
       "  'ebay': 'http://rover.ebay.com/rover/1/711-53200-19255-0/1?campid=5337966903&icep_catId=19107&icep_ff3=10&icep_sortBy=12&icep_uq=Dusk+%2F%2F+Dawn&icep_vectorid=229466&ipn=psmain&kw=lg&kwid=902099&mtid=824&pub=5575230669&toolid=10001',\n",
       "  'magiccardmarket': 'https://www.cardmarket.com/Magic/Products/Singles/Amonkhet/Dusk+%2F%2F+Dawn?referrer=scryfall',\n",
       "  'mtgo_traders': 'http://www.mtgotraders.com/deck/ref.php?id=64022&referral=scryfall',\n",
       "  'tcgplayer': 'http://store.tcgplayer.com/magic/amonkhet/dusk-dawn?partner=Scryfall'},\n",
       " 'rarity': 'rare',\n",
       " 'related_uris': {'edhrec': 'http://edhrec.com/route/?cc=Dusk+%2F%2F+Dawn',\n",
       "  'gatherer': 'http://gatherer.wizards.com/Pages/Card/Details.aspx?multiverseid=426912',\n",
       "  'mtgtop8': 'http://mtgtop8.com/search?MD_check=1&SB_check=1&cards=Dusk+%2F%2F+Dawn',\n",
       "  'tcgplayer_decks': 'http://decks.tcgplayer.com/magic/deck/search?contains=Dusk+%2F%2F+Dawn&page=1&partner=Scryfall'},\n",
       " 'reprint': False,\n",
       " 'reserved': False,\n",
       " 'rulings_uri': 'https://api.scryfall.com/cards/akh/210/rulings',\n",
       " 'scryfall_set_uri': 'https://scryfall.com/sets/akh?utm_source=api',\n",
       " 'scryfall_uri': 'https://scryfall.com/card/akh/210?utm_source=api',\n",
       " 'set': 'akh',\n",
       " 'set_name': 'Amonkhet',\n",
       " 'set_search_uri': 'https://api.scryfall.com/cards/search?q=%2B%2Be%3Aakh',\n",
       " 'set_uri': 'https://api.scryfall.com/cards/search?q=%2B%2Be%3Aakh',\n",
       " 'timeshifted': False,\n",
       " 'uri': 'https://api.scryfall.com/cards/akh/210',\n",
       " 'usd': '0.99'}"
      ]
     },
     "execution_count": 77,
     "metadata": {},
     "output_type": "execute_result"
    }
   ],
   "source": [
    "dusk_dawn = json.loads(response.text)\n",
    "\n",
    "dusk_dawn"
   ]
  },
  {
   "cell_type": "code",
   "execution_count": 78,
   "metadata": {},
   "outputs": [
    {
     "data": {
      "text/plain": [
       "200"
      ]
     },
     "execution_count": 78,
     "metadata": {},
     "output_type": "execute_result"
    }
   ],
   "source": [
    "url = 'https://api.scryfall.com/cards/named?exact=Echo Mage'\n",
    "response = requests.get(url)\n",
    "\n",
    "response.status_code"
   ]
  },
  {
   "cell_type": "code",
   "execution_count": 79,
   "metadata": {},
   "outputs": [
    {
     "data": {
      "text/plain": [
       "{'artist': 'Matt Stewart',\n",
       " 'border_color': 'black',\n",
       " 'cmc': 3.0,\n",
       " 'collector_number': '43',\n",
       " 'color_identity': ['U'],\n",
       " 'colors': ['U'],\n",
       " 'colorshifted': False,\n",
       " 'digital': False,\n",
       " 'edhrec_rank': 2621,\n",
       " 'eur': '0.28',\n",
       " 'frame': '2003',\n",
       " 'full_art': False,\n",
       " 'futureshifted': False,\n",
       " 'highres_image': True,\n",
       " 'id': '8b76ba96-9630-44fb-849e-3c3848c03876',\n",
       " 'illustration_id': 'e94e9826-ada9-4754-980a-4f1eb1c4f1e1',\n",
       " 'image_uris': {'art_crop': 'https://img.scryfall.com/cards/art_crop/en/c13/43.jpg?1510051939',\n",
       "  'border_crop': 'https://img.scryfall.com/cards/border_crop/en/c13/43.jpg?1510051939',\n",
       "  'large': 'https://img.scryfall.com/cards/large/en/c13/43.jpg?1510051939',\n",
       "  'normal': 'https://img.scryfall.com/cards/normal/en/c13/43.jpg?1510051939',\n",
       "  'png': 'https://img.scryfall.com/cards/png/en/c13/43.png?1510051939',\n",
       "  'small': 'https://img.scryfall.com/cards/small/en/c13/43.jpg?1510051939'},\n",
       " 'layout': 'leveler',\n",
       " 'legalities': {'1v1': 'legal',\n",
       "  'commander': 'legal',\n",
       "  'duel': 'legal',\n",
       "  'frontier': 'not_legal',\n",
       "  'future': 'not_legal',\n",
       "  'legacy': 'legal',\n",
       "  'modern': 'legal',\n",
       "  'pauper': 'not_legal',\n",
       "  'penny': 'legal',\n",
       "  'standard': 'not_legal',\n",
       "  'vintage': 'legal'},\n",
       " 'mana_cost': '{1}{U}{U}',\n",
       " 'mtgo_foil_id': 51073,\n",
       " 'mtgo_id': 51072,\n",
       " 'multiverse_ids': [376318],\n",
       " 'name': 'Echo Mage',\n",
       " 'object': 'card',\n",
       " 'oracle_text': 'Level up {1}{U} ({1}{U}: Put a level counter on this. Level up only as a sorcery.)\\nLEVEL 2-3\\n2/4\\n{U}{U}, {T}: Copy target instant or sorcery spell. You may choose new targets for the copy.\\nLEVEL 4+\\n2/5\\n{U}{U}, {T}: Copy target instant or sorcery spell twice. You may choose new targets for the copies.',\n",
       " 'power': '2',\n",
       " 'prints_search_uri': 'https://api.scryfall.com/cards/search?order=set&q=%2B%2B%21%22Echo+Mage%22',\n",
       " 'purchase_uris': {'amazon': 'https://www.amazon.com/gp/search?ie=UTF8&index=toys-and-games&keywords=Echo+Mage&tag=scryfall-20',\n",
       "  'card_kingdom': 'https://www.cardkingdom.com/catalog/item/191840?partner=scryfall&utm_campaign=affiliate&utm_medium=scryfall&utm_source=scryfall',\n",
       "  'cardhoarder': 'https://www.cardhoarder.com/cards/51072?affiliate_id=scryfall&ref=card-profile&utm_campaign=affiliate&utm_medium=card&utm_source=scryfall',\n",
       "  'coolstuffinc': 'http://www.coolstuffinc.com/p/Magic%3A+The+Gathering/Echo+Mage?utm_source=scryfall',\n",
       "  'ebay': 'http://rover.ebay.com/rover/1/711-53200-19255-0/1?campid=5337966903&icep_catId=19107&icep_ff3=10&icep_sortBy=12&icep_uq=Echo+Mage&icep_vectorid=229466&ipn=psmain&kw=lg&kwid=902099&mtid=824&pub=5575230669&toolid=10001',\n",
       "  'magiccardmarket': 'https://www.cardmarket.com/Magic/Products/Singles/Commander+2013/Echo+Mage?referrer=scryfall',\n",
       "  'mtgo_traders': 'http://www.mtgotraders.com/deck/ref.php?id=51072&referral=scryfall',\n",
       "  'tcgplayer': 'http://store.tcgplayer.com/magic/commander-2013/echo-mage?partner=Scryfall'},\n",
       " 'rarity': 'rare',\n",
       " 'related_uris': {'edhrec': 'http://edhrec.com/route/?cc=Echo+Mage',\n",
       "  'gatherer': 'http://gatherer.wizards.com/Pages/Card/Details.aspx?multiverseid=376318',\n",
       "  'mtgtop8': 'http://mtgtop8.com/search?MD_check=1&SB_check=1&cards=Echo+Mage',\n",
       "  'tcgplayer_decks': 'http://decks.tcgplayer.com/magic/deck/search?contains=Echo+Mage&page=1&partner=Scryfall'},\n",
       " 'reprint': True,\n",
       " 'reserved': False,\n",
       " 'rulings_uri': 'https://api.scryfall.com/cards/c13/43/rulings',\n",
       " 'scryfall_set_uri': 'https://scryfall.com/sets/c13?utm_source=api',\n",
       " 'scryfall_uri': 'https://scryfall.com/card/c13/43?utm_source=api',\n",
       " 'set': 'c13',\n",
       " 'set_name': 'Commander 2013',\n",
       " 'set_search_uri': 'https://api.scryfall.com/cards/search?q=%2B%2Be%3Ac13',\n",
       " 'set_uri': 'https://api.scryfall.com/cards/search?q=%2B%2Be%3Ac13',\n",
       " 'timeshifted': False,\n",
       " 'tix': '0.02',\n",
       " 'toughness': '3',\n",
       " 'type_line': 'Creature — Human Wizard',\n",
       " 'uri': 'https://api.scryfall.com/cards/c13/43',\n",
       " 'usd': '0.35'}"
      ]
     },
     "execution_count": 79,
     "metadata": {},
     "output_type": "execute_result"
    }
   ],
   "source": [
    "echo_mage = json.loads(response.text)\n",
    "\n",
    "echo_mage"
   ]
  },
  {
   "cell_type": "code",
   "execution_count": 91,
   "metadata": {
    "collapsed": true
   },
   "outputs": [],
   "source": [
    "def format_card(card):\n",
    "    '''\n",
    "    Formats cards in a db friendly manner. If the card is multifaced, the first face is used for missing fields\n",
    "    \n",
    "    INPUT:\n",
    "        - card: dictionary, magic card from scryfall.com\n",
    "        \n",
    "    OUTPUT: \n",
    "        - formatted_card: list, attributes of each card in the following order:\n",
    "                            [name, cmc, type_line, oracle_text, mana_cost, power, toughness, colors, \n",
    "                            color_identity, legalities, set_code, set_name, collector_number, scryfall_id]\n",
    "    '''\n",
    "    formatted_card = []\n",
    "    layout = card['layout']\n",
    "    keys = card.keys()\n",
    "    \n",
    "    if layout == 'normal':\n",
    "        # normal layout, i.e, Lightning Bolt\n",
    "        formatted_card.append(card['name'])\n",
    "        formatted_card.append(card['cmc'])\n",
    "        formatted_card.append(card['type_line'])\n",
    "        \n",
    "        if 'oracle_text' in keys: \n",
    "            formatted_card.append(card['oracle_text'])\n",
    "        else:\n",
    "            formatted_card.append(None)\n",
    "            \n",
    "        formatted_card.append(card['mana_cost'])\n",
    "        \n",
    "        if 'power' in keys:\n",
    "            formatted_card.append(card['power'])\n",
    "        else: \n",
    "            formatted_card.append(None)\n",
    "        \n",
    "        if 'toughness' in keys: \n",
    "            formatted_card.append(card['toughness'])\n",
    "        else: \n",
    "            formatted_card.append(None)\n",
    "        \n",
    "        formatted_card.append(card['colors'])\n",
    "        formatted_card.append(card['color_identity'])\n",
    "        \n",
    "        legalities = [k for k, v in card['legalities'].items() if v == 'legal']\n",
    "        formatted_card.append(legalities)\n",
    "        formatted_card.append(card['set'])\n",
    "        formatted_card.append(card['set_name'])\n",
    "        formatted_card.append(card['collector_number'])\n",
    "        formatted_card.append(card['id'])\n",
    "        \n",
    "    elif layout == 'split':\n",
    "        # split layout, i.e, (Dusk // Dawn), (Boom // Bust)\n",
    "        side_a = card['card_faces'][0]\n",
    "        side_b = card['card_faces'][1]\n",
    "        \n",
    "        formatted_card.append(card['name'])\n",
    "        formatted_card.append(card['cmc'])\n",
    "        formatted_card.append(' // '.join([side_a['type_line'], side_b['type_line']]))\n",
    "        formatted_card.append(' // '.join([side_a['oracle_text'], side_b['oracle_text']]))\n",
    "        formatted_card.append(card['mana_cost'])\n",
    "        formatted_card.append(None)\n",
    "        formatted_card.append(None)\n",
    "        formatted_card.append(card['colors'])\n",
    "        formatted_card.append(card['color_identity'])\n",
    "        legalities = [k for k, v in card['legalities'].items() if v == 'legal']\n",
    "        formatted_card.append(legalities)\n",
    "        formatted_card.append(card['set'])\n",
    "        formatted_card.append(card['set_name'])\n",
    "        formatted_card.append(card['collector_number'])\n",
    "        formatted_card.append(card['id'])\n",
    "        \n",
    "    elif layout == 'flip':\n",
    "        # flip layout, i.e, Akki Lavarunner\n",
    "        side_a = card['card_faces'][0]\n",
    "        side_b = card['card_faces'][1]\n",
    "        \n",
    "        formatted_card.append(card['name'])\n",
    "        formatted_card.append(card['cmc'])\n",
    "        formatted_card.append(' // '.join([side_a['type_line'], side_b['type_line']]))\n",
    "        formatted_card.append(' // '.join([side_a['oracle_text'], side_b['oracle_text']]))\n",
    "        formatted_card.append(card['mana_cost'])\n",
    "        formatted_card.append(side_a['power'])\n",
    "        formatted_card.append(side_b['toughness'])\n",
    "        formatted_card.append(card['colors'])\n",
    "        formatted_card.append(card['color_identity'])\n",
    "        legalities = [k for k, v in card['legalities'].items() if v == 'legal']\n",
    "        formatted_card.append(legalities)\n",
    "        formatted_card.append(card['set'])\n",
    "        formatted_card.append(card['set_name'])\n",
    "        formatted_card.append(card['collector_number'])\n",
    "        formatted_card.append(card['id'])\n",
    "        \n",
    "    elif layout == 'transform':\n",
    "        # transform layout, i.e, Delver of Secrets\n",
    "        side_a = card['card_faces'][0]\n",
    "        side_b = card['card_faces'][1]\n",
    "        \n",
    "        formatted_card.append(side_a['name'])\n",
    "        formatted_card.append(card['cmc'])\n",
    "        formatted_card.append(' // '.join([side_a['type_line'], side_b['type_line']]))\n",
    "        formatted_card.append(' // '.join([side_a['oracle_text'], side_b['oracle_text']]))\n",
    "        formatted_card.append(card['mana_cost'])\n",
    "        formatted_card.append(side_a['power'])\n",
    "        formatted_card.append(side_b['toughness'])\n",
    "        formatted_card.append(side_a['colors'] + side_b['colors'])  \n",
    "        formatted_card.append(card['color_identity'])\n",
    "        legalities = [k for k, v in card['legalities'].items() if v == 'legal']\n",
    "        formatted_card.append(legalities)\n",
    "        formatted_card.append(card['set'])\n",
    "        formatted_card.append(card['set_name'])\n",
    "        formatted_card.append(card['collector_number'])\n",
    "        formatted_card.append(card['id'])\n",
    "        \n",
    "    elif layout == 'meld':\n",
    "        # meld layout, i.e, Bruna, the Fading Light\n",
    "        # this layout turns out to be pretty much the same as a normal card\n",
    "        formatted_card.append(card['name'])\n",
    "        formatted_card.append(card['cmc'])\n",
    "        formatted_card.append(card['type_line'])\n",
    "        \n",
    "        if 'oracle_text' in keys: \n",
    "            formatted_card.append(card['oracle_text'])\n",
    "        else:\n",
    "            formatted_card.append(None)\n",
    "            \n",
    "        formatted_card.append(card['mana_cost'])\n",
    "        \n",
    "        if 'power' in keys:\n",
    "            formatted_card.append(card['power'])\n",
    "        else: \n",
    "            formatted_card.append(None)\n",
    "        \n",
    "        if 'toughness' in keys: \n",
    "            formatted_card.append(card['toughness'])\n",
    "        else: \n",
    "            formatted_card.append(None)\n",
    "        \n",
    "        formatted_card.append(card['colors'])\n",
    "        formatted_card.append(card['color_identity'])\n",
    "        \n",
    "        legalities = [k for k, v in card['legalities'].items() if v == 'legal']\n",
    "        formatted_card.append(legalities)\n",
    "        formatted_card.append(card['set'])\n",
    "        formatted_card.append(card['set_name'])\n",
    "        formatted_card.append(card['collector_number'])\n",
    "        formatted_card.append(card['id'])\n",
    "\n",
    "    return formatted_card"
   ]
  },
  {
   "cell_type": "code",
   "execution_count": 116,
   "metadata": {},
   "outputs": [
    {
     "data": {
      "text/plain": [
       "200"
      ]
     },
     "execution_count": 116,
     "metadata": {},
     "output_type": "execute_result"
    }
   ],
   "source": [
    "url = 'https://api.scryfall.com/cards/named?exact=Beastbreaker of Bala Ged'\n",
    "response = requests.get(url)\n",
    "\n",
    "response.status_code"
   ]
  },
  {
   "cell_type": "code",
   "execution_count": 117,
   "metadata": {},
   "outputs": [],
   "source": [
    "card = json.loads(response.content)"
   ]
  },
  {
   "cell_type": "code",
   "execution_count": 118,
   "metadata": {},
   "outputs": [
    {
     "data": {
      "text/plain": [
       "{'artist': 'Karl Kopinski',\n",
       " 'border_color': 'black',\n",
       " 'cmc': 2.0,\n",
       " 'collector_number': '10',\n",
       " 'color_identity': ['G'],\n",
       " 'colors': ['G'],\n",
       " 'colorshifted': False,\n",
       " 'digital': False,\n",
       " 'edhrec_rank': 12673,\n",
       " 'eur': '0.04',\n",
       " 'frame': '2015',\n",
       " 'full_art': False,\n",
       " 'futureshifted': False,\n",
       " 'highres_image': True,\n",
       " 'id': '9499b38f-5030-4348-a0ff-9002b0e46f2a',\n",
       " 'illustration_id': '00b0b7fb-b87e-446c-be8f-fd6cd9f777cc',\n",
       " 'image_uris': {'art_crop': 'https://img.scryfall.com/cards/art_crop/en/ddp/10.jpg?1509842264',\n",
       "  'border_crop': 'https://img.scryfall.com/cards/border_crop/en/ddp/10.jpg?1509842264',\n",
       "  'large': 'https://img.scryfall.com/cards/large/en/ddp/10.jpg?1509842264',\n",
       "  'normal': 'https://img.scryfall.com/cards/normal/en/ddp/10.jpg?1509842264',\n",
       "  'png': 'https://img.scryfall.com/cards/png/en/ddp/10.png?1509842264',\n",
       "  'small': 'https://img.scryfall.com/cards/small/en/ddp/10.jpg?1509842264'},\n",
       " 'layout': 'leveler',\n",
       " 'legalities': {'1v1': 'legal',\n",
       "  'commander': 'legal',\n",
       "  'duel': 'legal',\n",
       "  'frontier': 'not_legal',\n",
       "  'future': 'not_legal',\n",
       "  'legacy': 'legal',\n",
       "  'modern': 'legal',\n",
       "  'pauper': 'not_legal',\n",
       "  'penny': 'legal',\n",
       "  'standard': 'not_legal',\n",
       "  'vintage': 'legal'},\n",
       " 'mana_cost': '{1}{G}',\n",
       " 'multiverse_ids': [401652],\n",
       " 'name': 'Beastbreaker of Bala Ged',\n",
       " 'object': 'card',\n",
       " 'oracle_text': 'Level up {2}{G} ({2}{G}: Put a level counter on this. Level up only as a sorcery.)\\nLEVEL 1-3\\n4/4\\nLEVEL 4+\\n6/6\\nTrample',\n",
       " 'power': '2',\n",
       " 'prints_search_uri': 'https://api.scryfall.com/cards/search?order=set&q=%2B%2B%21%22Beastbreaker+of+Bala+Ged%22',\n",
       " 'purchase_uris': {'amazon': 'https://www.amazon.com/gp/search?ie=UTF8&index=toys-and-games&keywords=Beastbreaker+of+Bala+Ged&tag=scryfall-20',\n",
       "  'card_kingdom': 'https://www.cardkingdom.com/catalog/item/202329?partner=scryfall&utm_campaign=affiliate&utm_medium=scryfall&utm_source=scryfall',\n",
       "  'cardhoarder': 'https://www.cardhoarder.com/cards?affiliate_id=scryfall&data%5Bsearch%5D=Beastbreaker+of+Bala+Ged&ref=card-profile&utm_campaign=affiliate&utm_medium=card&utm_source=scryfall',\n",
       "  'coolstuffinc': 'http://www.coolstuffinc.com/p/Magic%3A+The+Gathering/Beastbreaker+of+Bala+Ged?utm_source=scryfall',\n",
       "  'ebay': 'http://rover.ebay.com/rover/1/711-53200-19255-0/1?campid=5337966903&icep_catId=19107&icep_ff3=10&icep_sortBy=12&icep_uq=Beastbreaker+of+Bala+Ged&icep_vectorid=229466&ipn=psmain&kw=lg&kwid=902099&mtid=824&pub=5575230669&toolid=10001',\n",
       "  'magiccardmarket': 'https://www.cardmarket.com/Magic/Products/Singles/Duel+Decks%3A+Zendikar+vs.+Eldrazi/Beastbreaker+of+Bala+Ged?referrer=scryfall',\n",
       "  'mtgo_traders': 'http://www.mtgotraders.com/store/search.php?q=Beastbreaker+of+Bala+Ged&referral=scryfall',\n",
       "  'tcgplayer': 'http://store.tcgplayer.com/magic/duel-decks-zendikar-vs-eldrazi/beastbreaker-of-bala-ged?partner=Scryfall'},\n",
       " 'rarity': 'uncommon',\n",
       " 'related_uris': {'edhrec': 'http://edhrec.com/route/?cc=Beastbreaker+of+Bala+Ged',\n",
       "  'gatherer': 'http://gatherer.wizards.com/Pages/Card/Details.aspx?multiverseid=401652',\n",
       "  'mtgtop8': 'http://mtgtop8.com/search?MD_check=1&SB_check=1&cards=Beastbreaker+of+Bala+Ged',\n",
       "  'tcgplayer_decks': 'http://decks.tcgplayer.com/magic/deck/search?contains=Beastbreaker+of+Bala+Ged&page=1&partner=Scryfall'},\n",
       " 'reprint': True,\n",
       " 'reserved': False,\n",
       " 'rulings_uri': 'https://api.scryfall.com/cards/ddp/10/rulings',\n",
       " 'scryfall_set_uri': 'https://scryfall.com/sets/ddp?utm_source=api',\n",
       " 'scryfall_uri': 'https://scryfall.com/card/ddp/10?utm_source=api',\n",
       " 'set': 'ddp',\n",
       " 'set_name': 'Duel Decks: Zendikar vs. Eldrazi',\n",
       " 'set_search_uri': 'https://api.scryfall.com/cards/search?q=%2B%2Be%3Addp',\n",
       " 'set_uri': 'https://api.scryfall.com/cards/search?q=%2B%2Be%3Addp',\n",
       " 'timeshifted': False,\n",
       " 'toughness': '2',\n",
       " 'type_line': 'Creature — Human Warrior',\n",
       " 'uri': 'https://api.scryfall.com/cards/ddp/10',\n",
       " 'usd': '0.14'}"
      ]
     },
     "execution_count": 118,
     "metadata": {},
     "output_type": "execute_result"
    }
   ],
   "source": [
    "card"
   ]
  },
  {
   "cell_type": "code",
   "execution_count": 115,
   "metadata": {
    "collapsed": true
   },
   "outputs": [],
   "source": [
    "from src.card_scraping import *"
   ]
  },
  {
   "cell_type": "code",
   "execution_count": 119,
   "metadata": {},
   "outputs": [
    {
     "name": "stdout",
     "output_type": "stream",
     "text": [
      "formatting card Beastbreaker of Bala Ged\n"
     ]
    },
    {
     "data": {
      "text/plain": [
       "[]"
      ]
     },
     "execution_count": 119,
     "metadata": {},
     "output_type": "execute_result"
    }
   ],
   "source": [
    "format_card_2(card)"
   ]
  },
  {
   "cell_type": "code",
   "execution_count": 120,
   "metadata": {},
   "outputs": [
    {
     "name": "stderr",
     "output_type": "stream",
     "text": [
      "[autoreload of src.card_scraping failed: Traceback (most recent call last):\n",
      "  File \"/Users/benjaminwalzer/anaconda2/envs/py36/lib/python3.6/site-packages/IPython/extensions/autoreload.py\", line 246, in check\n",
      "    superreload(m, reload, self.old_objects)\n",
      "  File \"/Users/benjaminwalzer/anaconda2/envs/py36/lib/python3.6/site-packages/IPython/extensions/autoreload.py\", line 369, in superreload\n",
      "    module = reload(module)\n",
      "  File \"/Users/benjaminwalzer/anaconda2/envs/py36/lib/python3.6/imp.py\", line 315, in reload\n",
      "    return importlib.reload(module)\n",
      "  File \"/Users/benjaminwalzer/anaconda2/envs/py36/lib/python3.6/importlib/__init__.py\", line 166, in reload\n",
      "    _bootstrap._exec(spec, module)\n",
      "  File \"<frozen importlib._bootstrap>\", line 618, in _exec\n",
      "  File \"<frozen importlib._bootstrap_external>\", line 674, in exec_module\n",
      "  File \"<frozen importlib._bootstrap_external>\", line 781, in get_code\n",
      "  File \"<frozen importlib._bootstrap_external>\", line 741, in source_to_code\n",
      "  File \"<frozen importlib._bootstrap>\", line 219, in _call_with_frames_removed\n",
      "  File \"/Users/benjaminwalzer/Documents/Galvanize/mtg-capstone/src/card_scraping.py\", line 130\n",
      "    elif layout == 'meld':\n",
      "       ^\n",
      "SyntaxError: invalid syntax\n",
      "]\n"
     ]
    },
    {
     "ename": "TypeError",
     "evalue": "sequence item 0: expected str instance, NoneType found",
     "output_type": "error",
     "traceback": [
      "\u001b[0;31m---------------------------------------------------------------------------\u001b[0m",
      "\u001b[0;31mTypeError\u001b[0m                                 Traceback (most recent call last)",
      "\u001b[0;32m<ipython-input-120-3b306f025d67>\u001b[0m in \u001b[0;36m<module>\u001b[0;34m()\u001b[0m\n\u001b[0;32m----> 1\u001b[0;31m \u001b[0;34m' // '\u001b[0m\u001b[0;34m.\u001b[0m\u001b[0mjoin\u001b[0m\u001b[0;34m(\u001b[0m\u001b[0;34m[\u001b[0m\u001b[0;32mNone\u001b[0m\u001b[0;34m,\u001b[0m \u001b[0;34m'abcd'\u001b[0m\u001b[0;34m]\u001b[0m\u001b[0;34m)\u001b[0m\u001b[0;34m\u001b[0m\u001b[0m\n\u001b[0m",
      "\u001b[0;31mTypeError\u001b[0m: sequence item 0: expected str instance, NoneType found"
     ]
    }
   ],
   "source": [
    "' // '.join([None, 'abcd'])"
   ]
  },
  {
   "cell_type": "code",
   "execution_count": 123,
   "metadata": {
    "collapsed": true
   },
   "outputs": [],
   "source": [
    "def get_cardstorm_id(card_name):\n",
    "    cardstorm_id = ''\n",
    "    for letter in card_name:\n",
    "        cardstorm_id += str(ord(letter))\n",
    "        \n",
    "    return int(cardstorm_id)"
   ]
  },
  {
   "cell_type": "code",
   "execution_count": 127,
   "metadata": {},
   "outputs": [
    {
     "data": {
      "text/plain": [
       "1151109711299971151161011143210997103101"
      ]
     },
     "execution_count": 127,
     "metadata": {},
     "output_type": "execute_result"
    }
   ],
   "source": [
    "get_cardstorm_id('snapcaster mage')"
   ]
  },
  {
   "cell_type": "code",
   "execution_count": 130,
   "metadata": {},
   "outputs": [
    {
     "data": {
      "text/plain": [
       "'abcd'"
      ]
     },
     "execution_count": 130,
     "metadata": {},
     "output_type": "execute_result"
    }
   ],
   "source": [
    "'ABCD'.lower()"
   ]
  },
  {
   "cell_type": "code",
   "execution_count": 132,
   "metadata": {
    "collapsed": true
   },
   "outputs": [],
   "source": [
    "hostname = os.environ['CAPSTONE_DB_HOST']\n",
    "dbname = os.environ['CAPSTONE_DB_DBNAME']\n",
    "username = os.environ['CAPSTONE_DB_USERNAME']\n",
    "password = os.environ['CAPSTONE_DB_PASSWORD']"
   ]
  },
  {
   "cell_type": "code",
   "execution_count": 133,
   "metadata": {
    "collapsed": true
   },
   "outputs": [],
   "source": [
    "conn = psycopg2.connect('dbname={} host={} user={} password={}'.format(dbname, hostname, username, password))"
   ]
  },
  {
   "cell_type": "code",
   "execution_count": 134,
   "metadata": {
    "collapsed": true
   },
   "outputs": [],
   "source": [
    "cursor = conn.cursor()"
   ]
  },
  {
   "cell_type": "code",
   "execution_count": 139,
   "metadata": {
    "collapsed": true
   },
   "outputs": [],
   "source": [
    "query = \"\"\"SELECT cardstorm_id\n",
    "           FROM cards\n",
    "           WHERE name=%s\"\"\"\n",
    "cursor.execute(query, ['delvr of secrets'])"
   ]
  },
  {
   "cell_type": "code",
   "execution_count": 141,
   "metadata": {},
   "outputs": [
    {
     "data": {
      "text/plain": [
       "False"
      ]
     },
     "execution_count": 141,
     "metadata": {},
     "output_type": "execute_result"
    }
   ],
   "source": [
    "bool(cursor.fetchall())"
   ]
  },
  {
   "cell_type": "code",
   "execution_count": 163,
   "metadata": {
    "collapsed": true
   },
   "outputs": [],
   "source": [
    "def get_cardstorm_id_2(card_name, cursor, verbose=False):\n",
    "    '''\n",
    "    Turns a card name into its' unique cardstorm id\n",
    "\n",
    "    INPUT:\n",
    "        - card_name: string, the name of a magic card\n",
    "        - cursor: psycopg2 cursor object\n",
    "\n",
    "    OUTPUT:\n",
    "        - cardstorm_id: int, unique id for the card\n",
    "        - success: bool, True if no exceptions were thrown\n",
    "    '''\n",
    "\n",
    "    query = \"\"\"SELECT cardstorm_id\n",
    "               FROM cards\n",
    "               WHERE name=%s\"\"\"\n",
    "\n",
    "    try:\n",
    "        cursor.execute(query=query, vars=[card_name.lower()])\n",
    "\n",
    "    except:\n",
    "        if verbose: print('could not find cardstorm_id for {}'.format(card_name))\n",
    "        return '', False\n",
    "    if verbose: print(card_name)\n",
    "\n",
    "    response = cursor.fetchone()[0]\n",
    "\n",
    "    # if not response: # card was not found\n",
    "    #     return None, False\n",
    "    return response, True\n"
   ]
  },
  {
   "cell_type": "code",
   "execution_count": 164,
   "metadata": {},
   "outputs": [
    {
     "name": "stdout",
     "output_type": "stream",
     "text": [
      "Dryad Arbor\n"
     ]
    },
    {
     "data": {
      "text/plain": [
       "(2654, True)"
      ]
     },
     "execution_count": 164,
     "metadata": {},
     "output_type": "execute_result"
    }
   ],
   "source": [
    "get_cardstorm_id_2('Dryad Arbor', cursor, True)"
   ]
  },
  {
   "cell_type": "code",
   "execution_count": 146,
   "metadata": {
    "collapsed": true
   },
   "outputs": [],
   "source": [
    "card_name = 'Dryad Arbor'"
   ]
  },
  {
   "cell_type": "code",
   "execution_count": 147,
   "metadata": {},
   "outputs": [
    {
     "data": {
      "text/plain": [
       "'dryad arbor'"
      ]
     },
     "execution_count": 147,
     "metadata": {},
     "output_type": "execute_result"
    }
   ],
   "source": [
    "card_name.lower()"
   ]
  },
  {
   "cell_type": "code",
   "execution_count": 154,
   "metadata": {
    "collapsed": true
   },
   "outputs": [],
   "source": [
    "card_name = 'Dryad Arbor'"
   ]
  },
  {
   "cell_type": "code",
   "execution_count": 155,
   "metadata": {},
   "outputs": [
    {
     "data": {
      "text/plain": [
       "[(2654,)]"
      ]
     },
     "execution_count": 155,
     "metadata": {},
     "output_type": "execute_result"
    }
   ],
   "source": [
    "query = '''SELECT DISTINCT card_name, \n",
    "           FROM cards\n",
    "           WHERE name=%s'''\n",
    "\n",
    "cursor.execute(query, [card_name.lower()])\n",
    "cursor.fetchall()"
   ]
  },
  {
   "cell_type": "code",
   "execution_count": 166,
   "metadata": {
    "collapsed": true
   },
   "outputs": [],
   "source": [
    "test = 'Rise / Fall'\n",
    "\n",
    "a, b = test.split(' / ')"
   ]
  },
  {
   "cell_type": "code",
   "execution_count": 167,
   "metadata": {},
   "outputs": [
    {
     "data": {
      "text/plain": [
       "'Rise'"
      ]
     },
     "execution_count": 167,
     "metadata": {},
     "output_type": "execute_result"
    }
   ],
   "source": [
    "a"
   ]
  },
  {
   "cell_type": "code",
   "execution_count": 170,
   "metadata": {},
   "outputs": [
    {
     "data": {
      "text/plain": [
       "'Rise // Fall'"
      ]
     },
     "execution_count": 170,
     "metadata": {},
     "output_type": "execute_result"
    }
   ],
   "source": [
    "' // '.join(test.split(' / '))"
   ]
  },
  {
   "cell_type": "code",
   "execution_count": 171,
   "metadata": {},
   "outputs": [
    {
     "data": {
      "text/plain": [
       "'Rise // Fall'"
      ]
     },
     "execution_count": 171,
     "metadata": {},
     "output_type": "execute_result"
    }
   ],
   "source": [
    "test.replace(' / ', ' // ')"
   ]
  },
  {
   "cell_type": "code",
   "execution_count": 172,
   "metadata": {},
   "outputs": [
    {
     "data": {
      "text/plain": [
       "'Rise / Fall'"
      ]
     },
     "execution_count": 172,
     "metadata": {},
     "output_type": "execute_result"
    }
   ],
   "source": [
    "test"
   ]
  },
  {
   "cell_type": "code",
   "execution_count": 173,
   "metadata": {
    "collapsed": true
   },
   "outputs": [],
   "source": [
    "import re"
   ]
  },
  {
   "cell_type": "code",
   "execution_count": 197,
   "metadata": {},
   "outputs": [
    {
     "data": {
      "text/plain": [
       "'12'"
      ]
     },
     "execution_count": 197,
     "metadata": {},
     "output_type": "execute_result"
    }
   ],
   "source": [
    "re.search(\"(\\d+)\", '12 Lightning Bolt').group(1)"
   ]
  },
  {
   "cell_type": "code",
   "execution_count": 196,
   "metadata": {},
   "outputs": [
    {
     "data": {
      "text/plain": [
       "'Lightning Bolt'"
      ]
     },
     "execution_count": 196,
     "metadata": {},
     "output_type": "execute_result"
    }
   ],
   "source": [
    "re.search(\" (\\D+)\", '12 Lightning Bolt').group(1)"
   ]
  },
  {
   "cell_type": "code",
   "execution_count": 181,
   "metadata": {},
   "outputs": [
    {
     "ename": "AttributeError",
     "evalue": "'NoneType' object has no attribute 'group'",
     "output_type": "error",
     "traceback": [
      "\u001b[0;31m---------------------------------------------------------------------------\u001b[0m",
      "\u001b[0;31mAttributeError\u001b[0m                            Traceback (most recent call last)",
      "\u001b[0;32m<ipython-input-181-9c2ad7fe932e>\u001b[0m in \u001b[0;36m<module>\u001b[0;34m()\u001b[0m\n\u001b[0;32m----> 1\u001b[0;31m \u001b[0mre\u001b[0m\u001b[0;34m.\u001b[0m\u001b[0msearch\u001b[0m\u001b[0;34m(\u001b[0m\u001b[0;34m\" (\\a+)\"\u001b[0m\u001b[0;34m,\u001b[0m \u001b[0;34m'12 Lightning Bolt'\u001b[0m\u001b[0;34m)\u001b[0m\u001b[0;34m.\u001b[0m\u001b[0mgroup\u001b[0m\u001b[0;34m(\u001b[0m\u001b[0;36m1\u001b[0m\u001b[0;34m)\u001b[0m\u001b[0;34m\u001b[0m\u001b[0m\n\u001b[0m",
      "\u001b[0;31mAttributeError\u001b[0m: 'NoneType' object has no attribute 'group'"
     ]
    }
   ],
   "source": [
    "re.search(\"\", '12 Lightning Bolt').group(1)"
   ]
  },
  {
   "cell_type": "code",
   "execution_count": 188,
   "metadata": {},
   "outputs": [
    {
     "data": {
      "text/plain": [
       "['']"
      ]
     },
     "execution_count": 188,
     "metadata": {},
     "output_type": "execute_result"
    }
   ],
   "source": [
    "re.findall('[0123456789]{0,3}', '12 Lightning Bolt')"
   ]
  },
  {
   "cell_type": "code",
   "execution_count": 279,
   "metadata": {
    "collapsed": true
   },
   "outputs": [],
   "source": [
    "class CardDict():\n",
    "    \n",
    "    def __init__(self):\n",
    "        self._dict = {}\n",
    "    \n",
    "    def __setitem__(self, key, val):\n",
    "        self._dict[key] = val\n",
    "        self._dict[val] = key\n",
    "        \n",
    "    def __getitem__(self, key):\n",
    "        return self._dict[key]\n",
    "    \n",
    "    def keys(self):\n",
    "        return self._dict.keys()\n",
    "    \n",
    "    def __contains__(self, key):\n",
    "        return key in self._dict\n",
    "    \n",
    "    def get_cards(self):\n",
    "        query = 'Select name, cardstorm_id FROM cards'\n",
    "        \n",
    "        try:\n",
    "            cursor.execute(query)\n",
    "\n",
    "            for name, cardstorm_id in cursor.fetchall():\n",
    "                self[name] = cardstorm_id\n",
    "        except:\n",
    "            return False\n",
    "        \n",
    "        return True"
   ]
  },
  {
   "cell_type": "code",
   "execution_count": 283,
   "metadata": {
    "collapsed": true
   },
   "outputs": [],
   "source": [
    "card_dict = CardDict()"
   ]
  },
  {
   "cell_type": "code",
   "execution_count": 285,
   "metadata": {},
   "outputs": [
    {
     "data": {
      "text/plain": [
       "True"
      ]
     },
     "execution_count": 285,
     "metadata": {},
     "output_type": "execute_result"
    }
   ],
   "source": [
    "card_dict.get_cards()"
   ]
  },
  {
   "cell_type": "code",
   "execution_count": 286,
   "metadata": {},
   "outputs": [
    {
     "data": {
      "text/plain": [
       "'delver of secrets'"
      ]
     },
     "execution_count": 286,
     "metadata": {},
     "output_type": "execute_result"
    }
   ],
   "source": [
    "card_dict[2259]"
   ]
  },
  {
   "cell_type": "code",
   "execution_count": 322,
   "metadata": {
    "collapsed": true
   },
   "outputs": [],
   "source": [
    "dbname = os.environ['CAPSTONE_DB_DBNAME']\n",
    "host = os.environ['CAPSTONE_DB_HOST']\n",
    "username = os.environ['CAPSTONE_DB_USERNAME']\n",
    "password = os.environ['CAPSTONE_DB_PASSWORD']\n",
    "\n",
    "conn = psycopg2.connect('dbname={} host={} user={} password={}'.format(dbname, host, username, password))"
   ]
  },
  {
   "cell_type": "code",
   "execution_count": 323,
   "metadata": {
    "collapsed": true
   },
   "outputs": [],
   "source": [
    "cursor = conn.cursor()"
   ]
  },
  {
   "cell_type": "code",
   "execution_count": 294,
   "metadata": {},
   "outputs": [
    {
     "ename": "InternalError",
     "evalue": "current transaction is aborted, commands ignored until end of transaction block\n",
     "output_type": "error",
     "traceback": [
      "\u001b[0;31m---------------------------------------------------------------------------\u001b[0m",
      "\u001b[0;31mInternalError\u001b[0m                             Traceback (most recent call last)",
      "\u001b[0;32m<ipython-input-294-436e870dc5ef>\u001b[0m in \u001b[0;36m<module>\u001b[0;34m()\u001b[0m\n\u001b[1;32m      2\u001b[0m            FROM cardsasdf'''\n\u001b[1;32m      3\u001b[0m \u001b[0;34m\u001b[0m\u001b[0m\n\u001b[0;32m----> 4\u001b[0;31m \u001b[0mcursor\u001b[0m\u001b[0;34m.\u001b[0m\u001b[0mexecute\u001b[0m\u001b[0;34m(\u001b[0m\u001b[0mquery\u001b[0m\u001b[0;34m)\u001b[0m\u001b[0;34m\u001b[0m\u001b[0m\n\u001b[0m",
      "\u001b[0;31mInternalError\u001b[0m: current transaction is aborted, commands ignored until end of transaction block\n"
     ]
    }
   ],
   "source": [
    "query = '''SELECT name, cardstorm_id\n",
    "           FROM cardsasdf'''\n",
    "\n",
    "cursor.execute(query)"
   ]
  },
  {
   "cell_type": "code",
   "execution_count": 277,
   "metadata": {},
   "outputs": [],
   "source": [
    "card_dict = CardDict()\n",
    "for name, cardstorm_id in cursor.fetchall():\n",
    "    card_dict[name] = cardstorm_id"
   ]
  },
  {
   "cell_type": "code",
   "execution_count": 278,
   "metadata": {},
   "outputs": [
    {
     "data": {
      "text/plain": [
       "'delver of secrets'"
      ]
     },
     "execution_count": 278,
     "metadata": {},
     "output_type": "execute_result"
    }
   ],
   "source": [
    "card_dict[2259]"
   ]
  },
  {
   "cell_type": "code",
   "execution_count": 324,
   "metadata": {},
   "outputs": [],
   "source": [
    "cursor.execute('SELECT DISTINCT deck_id FROM decks')"
   ]
  },
  {
   "cell_type": "code",
   "execution_count": 311,
   "metadata": {},
   "outputs": [],
   "source": [
    "response = cursor.fetchall()"
   ]
  },
  {
   "cell_type": "code",
   "execution_count": 325,
   "metadata": {},
   "outputs": [],
   "source": [
    "deck_ids = {_[0] for _ in cursor.fetchall()}"
   ]
  },
  {
   "cell_type": "code",
   "execution_count": 326,
   "metadata": {},
   "outputs": [
    {
     "data": {
      "text/plain": [
       "{307307,\n",
       " 307308,\n",
       " 307309,\n",
       " 307310,\n",
       " 307311,\n",
       " 307312,\n",
       " 307313,\n",
       " 307314,\n",
       " 307377,\n",
       " 307577,\n",
       " 307578,\n",
       " 307579,\n",
       " 307580,\n",
       " 307581,\n",
       " 307639,\n",
       " 307640,\n",
       " 307641,\n",
       " 307642,\n",
       " 307643,\n",
       " 307644,\n",
       " 307645,\n",
       " 307646,\n",
       " 307851,\n",
       " 307852,\n",
       " 307853,\n",
       " 307854,\n",
       " 307855,\n",
       " 307856,\n",
       " 307857,\n",
       " 307858,\n",
       " 307859,\n",
       " 307860,\n",
       " 307861,\n",
       " 307862,\n",
       " 307863,\n",
       " 307864,\n",
       " 307865,\n",
       " 307866,\n",
       " 307867,\n",
       " 307868,\n",
       " 307896,\n",
       " 307897,\n",
       " 307898,\n",
       " 307899,\n",
       " 307900,\n",
       " 307901,\n",
       " 307902,\n",
       " 307903,\n",
       " 307904,\n",
       " 307905,\n",
       " 307906,\n",
       " 307907,\n",
       " 307908,\n",
       " 307909,\n",
       " 307910,\n",
       " 307911,\n",
       " 307912,\n",
       " 307913,\n",
       " 307914,\n",
       " 307915,\n",
       " 307916,\n",
       " 307917,\n",
       " 307918,\n",
       " 307919,\n",
       " 307920,\n",
       " 307921,\n",
       " 307922,\n",
       " 307923,\n",
       " 307924,\n",
       " 307925,\n",
       " 307926,\n",
       " 307927,\n",
       " 307928,\n",
       " 307929,\n",
       " 307930,\n",
       " 307931,\n",
       " 307977,\n",
       " 307978,\n",
       " 307979,\n",
       " 307980,\n",
       " 307981,\n",
       " 307982,\n",
       " 307983,\n",
       " 307984,\n",
       " 308065,\n",
       " 308066,\n",
       " 308067,\n",
       " 308068,\n",
       " 308069,\n",
       " 308070,\n",
       " 308071,\n",
       " 308072,\n",
       " 308073,\n",
       " 308074,\n",
       " 308075,\n",
       " 308076,\n",
       " 308077,\n",
       " 308078,\n",
       " 308079,\n",
       " 308080,\n",
       " 308081,\n",
       " 308082,\n",
       " 308083,\n",
       " 308084,\n",
       " 308085,\n",
       " 308086,\n",
       " 308089,\n",
       " 308090,\n",
       " 308091,\n",
       " 308092,\n",
       " 308093,\n",
       " 308094,\n",
       " 308095,\n",
       " 308270,\n",
       " 308271,\n",
       " 308272,\n",
       " 308273,\n",
       " 308274,\n",
       " 308443,\n",
       " 308444,\n",
       " 308445,\n",
       " 308446,\n",
       " 308447,\n",
       " 308448,\n",
       " 308449,\n",
       " 308450,\n",
       " 308499,\n",
       " 308500,\n",
       " 308501,\n",
       " 308502,\n",
       " 308503,\n",
       " 308504,\n",
       " 308505,\n",
       " 308506,\n",
       " 308549,\n",
       " 308550,\n",
       " 308551,\n",
       " 308552,\n",
       " 308553,\n",
       " 308555,\n",
       " 308557,\n",
       " 308560,\n",
       " 308561,\n",
       " 308564,\n",
       " 308565,\n",
       " 308566,\n",
       " 308567,\n",
       " 308568,\n",
       " 308651,\n",
       " 308652,\n",
       " 308653,\n",
       " 308654,\n",
       " 308655,\n",
       " 308664,\n",
       " 308665,\n",
       " 308666,\n",
       " 308667,\n",
       " 308668,\n",
       " 308767,\n",
       " 308768,\n",
       " 308769,\n",
       " 308770,\n",
       " 308771,\n",
       " 308772,\n",
       " 308773,\n",
       " 308774,\n",
       " 308839,\n",
       " 308840,\n",
       " 308841,\n",
       " 308842,\n",
       " 308843,\n",
       " 308844,\n",
       " 308845,\n",
       " 308846,\n",
       " 308962,\n",
       " 308963,\n",
       " 308964,\n",
       " 308965,\n",
       " 308966,\n",
       " 308967,\n",
       " 308968,\n",
       " 308969,\n",
       " 308970,\n",
       " 308971,\n",
       " 308972,\n",
       " 308973,\n",
       " 308974,\n",
       " 308975,\n",
       " 308976,\n",
       " 308977,\n",
       " 308978,\n",
       " 308979,\n",
       " 308980,\n",
       " 308981,\n",
       " 308982,\n",
       " 308983,\n",
       " 308984,\n",
       " 308985,\n",
       " 308986,\n",
       " 308987,\n",
       " 309038,\n",
       " 309039,\n",
       " 309040,\n",
       " 309041,\n",
       " 309042,\n",
       " 309043,\n",
       " 309044,\n",
       " 309045,\n",
       " 309056,\n",
       " 309057,\n",
       " 309058,\n",
       " 309059,\n",
       " 309060,\n",
       " 309061,\n",
       " 309062,\n",
       " 309063,\n",
       " 309064,\n",
       " 309065,\n",
       " 309066,\n",
       " 309067,\n",
       " 309068,\n",
       " 309069,\n",
       " 309070,\n",
       " 309071,\n",
       " 309078,\n",
       " 309082,\n",
       " 309083,\n",
       " 309084,\n",
       " 309085,\n",
       " 309086,\n",
       " 309087,\n",
       " 309088,\n",
       " 309154,\n",
       " 309155,\n",
       " 309156,\n",
       " 309157,\n",
       " 309158,\n",
       " 309184,\n",
       " 309185,\n",
       " 309186,\n",
       " 309187,\n",
       " 309188,\n",
       " 309237,\n",
       " 309240,\n",
       " 309243,\n",
       " 309252,\n",
       " 309253,\n",
       " 309254,\n",
       " 309255,\n",
       " 309256,\n",
       " 309270,\n",
       " 309271,\n",
       " 309272,\n",
       " 309273,\n",
       " 309274,\n",
       " 309275,\n",
       " 309276,\n",
       " 309277,\n",
       " 309278,\n",
       " 309279,\n",
       " 309371,\n",
       " 309372,\n",
       " 309373,\n",
       " 309374,\n",
       " 309375,\n",
       " 309376,\n",
       " 309377,\n",
       " 309378,\n",
       " 309379,\n",
       " 309380,\n",
       " 309381,\n",
       " 309382,\n",
       " 309383,\n",
       " 309386,\n",
       " 309387,\n",
       " 309388,\n",
       " 309390,\n",
       " 309391,\n",
       " 309401,\n",
       " 309402,\n",
       " 309403,\n",
       " 309476,\n",
       " 309477,\n",
       " 309478,\n",
       " 309479,\n",
       " 309480,\n",
       " 309481,\n",
       " 309482,\n",
       " 309483,\n",
       " 309484,\n",
       " 309485,\n",
       " 309486,\n",
       " 309487,\n",
       " 309488,\n",
       " 309497,\n",
       " 309498,\n",
       " 309499,\n",
       " 309500,\n",
       " 309501,\n",
       " 309502,\n",
       " 309503,\n",
       " 309504,\n",
       " 309506,\n",
       " 309507,\n",
       " 309515,\n",
       " 309518,\n",
       " 309519,\n",
       " 309525,\n",
       " 309526,\n",
       " 309531,\n",
       " 309560,\n",
       " 309562,\n",
       " 309563,\n",
       " 309564,\n",
       " 309565,\n",
       " 309566,\n",
       " 309567,\n",
       " 309568,\n",
       " 309611,\n",
       " 309612,\n",
       " 309676,\n",
       " 309677,\n",
       " 309678,\n",
       " 309679,\n",
       " 309680,\n",
       " 309696,\n",
       " 309697,\n",
       " 309698,\n",
       " 309699,\n",
       " 309701,\n",
       " 309702,\n",
       " 309703,\n",
       " 309704,\n",
       " 309706,\n",
       " 309707,\n",
       " 309708,\n",
       " 309710,\n",
       " 309755,\n",
       " 309756,\n",
       " 309757,\n",
       " 309758,\n",
       " 309767,\n",
       " 309768,\n",
       " 309769,\n",
       " 309770,\n",
       " 309771,\n",
       " 309772,\n",
       " 309773,\n",
       " 309774,\n",
       " 309775,\n",
       " 309776,\n",
       " 309777,\n",
       " 309778,\n",
       " 309779,\n",
       " 309780,\n",
       " 309781,\n",
       " 309782,\n",
       " 309783,\n",
       " 309784,\n",
       " 309785,\n",
       " 309786,\n",
       " 309787,\n",
       " 309788,\n",
       " 309789,\n",
       " 309790,\n",
       " 309791,\n",
       " 309792,\n",
       " 309793,\n",
       " 309794,\n",
       " 309795,\n",
       " 309796,\n",
       " 309797,\n",
       " 309798,\n",
       " 309988,\n",
       " 309989,\n",
       " 309990,\n",
       " 309991,\n",
       " 309992,\n",
       " 309993,\n",
       " 309994,\n",
       " 309995,\n",
       " 310000,\n",
       " 310005,\n",
       " 310006,\n",
       " 310007,\n",
       " 310008,\n",
       " 310009,\n",
       " 310010,\n",
       " 310011,\n",
       " 310012,\n",
       " 310013,\n",
       " 310014,\n",
       " 310015,\n",
       " 310016,\n",
       " 310017,\n",
       " 310018,\n",
       " 310019,\n",
       " 310020,\n",
       " 310139,\n",
       " 310141,\n",
       " 310142,\n",
       " 310143,\n",
       " 310144,\n",
       " 310145,\n",
       " 310146,\n",
       " 310147,\n",
       " 310148,\n",
       " 310149,\n",
       " 310150,\n",
       " 310151,\n",
       " 310152,\n",
       " 310153,\n",
       " 310154,\n",
       " 310155,\n",
       " 310156,\n",
       " 310157,\n",
       " 310158,\n",
       " 310221,\n",
       " 310222,\n",
       " 310223,\n",
       " 310224,\n",
       " 310225,\n",
       " 310226,\n",
       " 310227,\n",
       " 310228,\n",
       " 310229,\n",
       " 310230,\n",
       " 310231,\n",
       " 310232,\n",
       " 310233,\n",
       " 310234,\n",
       " 310235,\n",
       " 310236,\n",
       " 310237,\n",
       " 310238,\n",
       " 310239,\n",
       " 310240,\n",
       " 310244,\n",
       " 310248,\n",
       " 310249,\n",
       " 310251,\n",
       " 310255,\n",
       " 310258,\n",
       " 310259,\n",
       " 310260,\n",
       " 310261,\n",
       " 310262,\n",
       " 310263,\n",
       " 310318,\n",
       " 310319,\n",
       " 310320,\n",
       " 310321,\n",
       " 310322,\n",
       " 310323,\n",
       " 310324,\n",
       " 310325,\n",
       " 310326,\n",
       " 310327,\n",
       " 310328,\n",
       " 310329,\n",
       " 310330,\n",
       " 310331,\n",
       " 310332,\n",
       " 310333,\n",
       " 310334,\n",
       " 310335,\n",
       " 310336,\n",
       " 310337,\n",
       " 310338,\n",
       " 310351,\n",
       " 310352,\n",
       " 310353,\n",
       " 310354,\n",
       " 310355,\n",
       " 310356,\n",
       " 310357,\n",
       " 310358,\n",
       " 310374,\n",
       " 310375,\n",
       " 310376,\n",
       " 310377,\n",
       " 310378,\n",
       " 310379,\n",
       " 310380,\n",
       " 310381,\n",
       " 310382,\n",
       " 310383,\n",
       " 310421,\n",
       " 310422,\n",
       " 310423,\n",
       " 310424,\n",
       " 310425,\n",
       " 310426,\n",
       " 310427,\n",
       " 310436,\n",
       " 310437,\n",
       " 310438,\n",
       " 310439,\n",
       " 310440,\n",
       " 310441,\n",
       " 310472,\n",
       " 310473,\n",
       " 310474,\n",
       " 310475,\n",
       " 310476,\n",
       " 310477,\n",
       " 310478,\n",
       " 310479,\n",
       " 310482,\n",
       " 310483,\n",
       " 310484,\n",
       " 310485,\n",
       " 310486,\n",
       " 310487,\n",
       " 310491,\n",
       " 310492,\n",
       " 310493,\n",
       " 310494,\n",
       " 310495,\n",
       " 310496,\n",
       " 310568,\n",
       " 310569,\n",
       " 310570,\n",
       " 310571,\n",
       " 310572,\n",
       " 310573,\n",
       " 310574,\n",
       " 310575,\n",
       " 310576,\n",
       " 310577,\n",
       " 310578,\n",
       " 310579,\n",
       " 310580,\n",
       " 310581,\n",
       " 310582,\n",
       " 310665,\n",
       " 310666,\n",
       " 310667,\n",
       " 310668,\n",
       " 310669,\n",
       " 310687,\n",
       " 310688,\n",
       " 310689,\n",
       " 310690,\n",
       " 310691,\n",
       " 310692,\n",
       " 310693,\n",
       " 310694,\n",
       " 310695,\n",
       " 310696,\n",
       " 310697,\n",
       " 310698,\n",
       " 310699,\n",
       " 310716,\n",
       " 310717,\n",
       " 310718,\n",
       " 310719,\n",
       " 310720,\n",
       " 310839,\n",
       " 310840,\n",
       " 310841,\n",
       " 310842,\n",
       " 310843,\n",
       " 310844,\n",
       " 310845,\n",
       " 310846,\n",
       " 310852,\n",
       " 310853,\n",
       " 310854,\n",
       " 310855,\n",
       " 310856,\n",
       " 310857,\n",
       " 310858,\n",
       " 310859,\n",
       " 310860,\n",
       " 310861,\n",
       " 310862,\n",
       " 310863,\n",
       " 310864,\n",
       " 310865,\n",
       " 310866,\n",
       " 310867,\n",
       " 310868,\n",
       " 310869,\n",
       " 310870,\n",
       " 310871,\n",
       " 310872,\n",
       " 310904,\n",
       " 310905,\n",
       " 310906,\n",
       " 310907,\n",
       " 310908,\n",
       " 310909,\n",
       " 310910,\n",
       " 310911,\n",
       " 310912,\n",
       " 310913,\n",
       " 310914,\n",
       " 310915,\n",
       " 310928,\n",
       " 310929,\n",
       " 310930,\n",
       " 310931,\n",
       " 310932,\n",
       " 310933,\n",
       " 310934,\n",
       " 310935,\n",
       " 310996,\n",
       " 310997,\n",
       " 310998,\n",
       " 310999,\n",
       " 311000,\n",
       " 311106,\n",
       " 311107,\n",
       " 311108,\n",
       " 311109,\n",
       " 311110,\n",
       " 311111,\n",
       " 311112,\n",
       " 311113,\n",
       " 311114,\n",
       " 311115,\n",
       " 311116,\n",
       " 311117,\n",
       " 311118,\n",
       " 311146,\n",
       " 311147,\n",
       " 311148,\n",
       " 311149,\n",
       " 311150,\n",
       " 311151,\n",
       " 311155,\n",
       " 311162,\n",
       " 311181,\n",
       " 311182,\n",
       " 311183,\n",
       " 311184,\n",
       " 311192,\n",
       " 311195,\n",
       " 311196,\n",
       " 311197,\n",
       " 311198,\n",
       " 311201,\n",
       " 311202,\n",
       " 311204,\n",
       " 311297,\n",
       " 311298,\n",
       " 311299,\n",
       " 311300,\n",
       " 311301,\n",
       " 311302,\n",
       " 311303,\n",
       " 311304,\n",
       " 311305,\n",
       " 311306,\n",
       " 311320,\n",
       " 311321,\n",
       " 311322,\n",
       " 311323,\n",
       " 311324,\n",
       " 311370,\n",
       " 311372,\n",
       " 311373,\n",
       " 311374,\n",
       " 311375,\n",
       " 311376,\n",
       " 311377,\n",
       " 311378,\n",
       " 311394,\n",
       " 311395,\n",
       " 311396,\n",
       " 311397,\n",
       " 311398,\n",
       " 311449,\n",
       " 311450,\n",
       " 311451,\n",
       " 311452,\n",
       " 311453,\n",
       " 311488,\n",
       " 311489,\n",
       " 311490,\n",
       " 311491,\n",
       " 311492,\n",
       " 311493,\n",
       " 311494,\n",
       " 311495,\n",
       " 311539,\n",
       " 311540,\n",
       " 311541,\n",
       " 311542,\n",
       " 311543,\n",
       " 311584,\n",
       " 311585,\n",
       " 311586,\n",
       " 311587,\n",
       " 311588,\n",
       " 311589,\n",
       " 311590,\n",
       " 311591,\n",
       " 311592,\n",
       " 311593,\n",
       " 311744,\n",
       " 311745,\n",
       " 311746,\n",
       " 311747,\n",
       " 311748,\n",
       " 311749,\n",
       " 311750,\n",
       " 311751,\n",
       " 311752,\n",
       " 311753,\n",
       " 311754,\n",
       " 311755,\n",
       " 311756,\n",
       " 311757,\n",
       " 311758,\n",
       " 311759,\n",
       " 311760,\n",
       " 311761,\n",
       " 311774,\n",
       " 311775,\n",
       " 311776,\n",
       " 311777,\n",
       " 311778,\n",
       " 311779,\n",
       " 311780,\n",
       " 311781,\n",
       " 311782,\n",
       " 311783,\n",
       " 311784,\n",
       " 311785,\n",
       " 311786,\n",
       " 311787,\n",
       " 311788,\n",
       " 311789,\n",
       " 311790,\n",
       " 311791,\n",
       " 311858,\n",
       " 311859,\n",
       " 311860,\n",
       " 311861,\n",
       " 311862,\n",
       " 311895,\n",
       " 311896,\n",
       " 311897,\n",
       " 311898,\n",
       " 311899,\n",
       " 311900,\n",
       " 311901,\n",
       " 311902,\n",
       " 311903,\n",
       " 311904,\n",
       " 311951,\n",
       " 311952,\n",
       " 311953,\n",
       " 311954,\n",
       " 312021,\n",
       " 312022,\n",
       " 312023,\n",
       " 312024,\n",
       " 312025,\n",
       " 312026,\n",
       " 312027,\n",
       " 312028,\n",
       " 312029,\n",
       " 312030,\n",
       " 312031,\n",
       " 312034,\n",
       " 312035,\n",
       " 312036,\n",
       " 312037,\n",
       " 312038,\n",
       " 312049,\n",
       " 312050,\n",
       " 312051,\n",
       " 312052,\n",
       " 312053,\n",
       " 312054,\n",
       " 312055,\n",
       " 312056,\n",
       " 312057,\n",
       " 312058,\n",
       " 312059,\n",
       " 312060,\n",
       " 312061,\n",
       " 312062,\n",
       " 312063,\n",
       " 312064,\n",
       " 312125,\n",
       " 312126,\n",
       " 312127,\n",
       " 312128,\n",
       " 312129,\n",
       " 312130,\n",
       " 312131,\n",
       " 312132,\n",
       " 312133,\n",
       " 312134,\n",
       " 312135,\n",
       " 312136,\n",
       " 312137,\n",
       " 312138,\n",
       " 312139,\n",
       " 312140,\n",
       " 312141,\n",
       " 312142,\n",
       " 312143,\n",
       " 312144,\n",
       " 312145,\n",
       " 312227,\n",
       " 312228,\n",
       " 312229,\n",
       " 312230,\n",
       " 312231,\n",
       " 312232,\n",
       " 312233,\n",
       " 312234,\n",
       " 312235,\n",
       " 312236,\n",
       " 312237,\n",
       " 312238,\n",
       " 312239,\n",
       " 312240,\n",
       " 312241,\n",
       " 312242,\n",
       " 312247,\n",
       " 312248,\n",
       " 312249,\n",
       " 312250,\n",
       " 312251,\n",
       " 312252,\n",
       " 312253,\n",
       " 312254,\n",
       " 312255,\n",
       " 312257,\n",
       " 312258,\n",
       " 312259,\n",
       " 312260,\n",
       " 312261,\n",
       " 312262,\n",
       " 312263,\n",
       " 312264,\n",
       " 312265,\n",
       " 312266,\n",
       " 312267,\n",
       " 312268,\n",
       " 312269,\n",
       " 312270,\n",
       " 312271,\n",
       " 312272,\n",
       " 312274,\n",
       " 312279,\n",
       " 312280,\n",
       " 312281,\n",
       " 312282,\n",
       " 312389,\n",
       " 312390,\n",
       " 312391,\n",
       " 312392,\n",
       " 312393,\n",
       " 312394,\n",
       " 312395,\n",
       " 312396,\n",
       " 312397,\n",
       " 312398,\n",
       " 312453,\n",
       " 312454,\n",
       " 312455,\n",
       " 312456,\n",
       " 312459,\n",
       " 312460,\n",
       " 312461,\n",
       " 312462,\n",
       " 312463,\n",
       " 312464,\n",
       " 312465,\n",
       " 312466,\n",
       " 312467,\n",
       " 312468,\n",
       " 312477,\n",
       " 312478,\n",
       " 312479,\n",
       " 312480,\n",
       " 312481,\n",
       " 312482,\n",
       " 312483,\n",
       " 312486,\n",
       " 312527,\n",
       " 312528,\n",
       " 312529,\n",
       " 312530,\n",
       " 312536,\n",
       " 312537,\n",
       " 312538,\n",
       " 312539,\n",
       " 312540,\n",
       " 312590,\n",
       " 312591,\n",
       " 312592,\n",
       " 312683,\n",
       " 312684,\n",
       " 312685,\n",
       " 312686,\n",
       " 312687,\n",
       " 312688,\n",
       " 312689,\n",
       " 312690,\n",
       " 312692,\n",
       " 312693,\n",
       " 312772,\n",
       " 312773,\n",
       " 312774,\n",
       " 312775,\n",
       " 312776,\n",
       " 312777,\n",
       " 312778,\n",
       " 312779}"
      ]
     },
     "execution_count": 326,
     "metadata": {},
     "output_type": "execute_result"
    }
   ],
   "source": [
    "deck_ids"
   ]
  },
  {
   "cell_type": "code",
   "execution_count": 320,
   "metadata": {},
   "outputs": [
    {
     "data": {
      "text/plain": [
       "False"
      ]
     },
     "execution_count": 320,
     "metadata": {},
     "output_type": "execute_result"
    }
   ],
   "source": [
    "1 in deck_ids"
   ]
  },
  {
   "cell_type": "code",
   "execution_count": null,
   "metadata": {
    "collapsed": true
   },
   "outputs": [],
   "source": []
  }
 ],
 "metadata": {
  "kernelspec": {
   "display_name": "Python 3",
   "language": "python",
   "name": "python3"
  },
  "language_info": {
   "codemirror_mode": {
    "name": "ipython",
    "version": 3
   },
   "file_extension": ".py",
   "mimetype": "text/x-python",
   "name": "python",
   "nbconvert_exporter": "python",
   "pygments_lexer": "ipython3",
   "version": "3.6.3"
  }
 },
 "nbformat": 4,
 "nbformat_minor": 2
}
