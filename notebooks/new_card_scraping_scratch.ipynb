{
 "cells": [
  {
   "cell_type": "code",
   "execution_count": 3,
   "metadata": {
    "collapsed": true
   },
   "outputs": [],
   "source": [
    "import requests\n",
    "import json\n",
    "import psycopg2\n",
    "import os\n",
    "from bs4 import BeautifulSoup"
   ]
  },
  {
   "cell_type": "code",
   "execution_count": 4,
   "metadata": {},
   "outputs": [
    {
     "data": {
      "text/plain": [
       "<function print>"
      ]
     },
     "execution_count": 4,
     "metadata": {},
     "output_type": "execute_result"
    }
   ],
   "source": [
    "print"
   ]
  },
  {
   "cell_type": "code",
   "execution_count": 5,
   "metadata": {
    "collapsed": true
   },
   "outputs": [],
   "source": [
    "hostname = os.environ['CAPSTONE_DB_HOST']\n",
    "dbname = os.environ['CAPSTONE_DB_DBNAME']\n",
    "username = os.environ['CAPSTONE_DB_USERNAME']\n",
    "password = os.environ['CAPSTONE_DB_PASSWORD']"
   ]
  },
  {
   "cell_type": "code",
   "execution_count": 6,
   "metadata": {},
   "outputs": [
    {
     "data": {
      "text/plain": [
       "200"
      ]
     },
     "execution_count": 6,
     "metadata": {},
     "output_type": "execute_result"
    }
   ],
   "source": [
    "response = requests.get('https://api.scryfall.com/cards/search?q=format:modern')\n",
    "response.status_code"
   ]
  },
  {
   "cell_type": "code",
   "execution_count": 7,
   "metadata": {},
   "outputs": [
    {
     "data": {
      "text/plain": [
       "dict_keys(['object', 'total_cards', 'has_more', 'next_page', 'data'])"
      ]
     },
     "execution_count": 7,
     "metadata": {},
     "output_type": "execute_result"
    }
   ],
   "source": [
    "json_response = json.loads(response.text)\n",
    "\n",
    "json_response.keys()"
   ]
  },
  {
   "cell_type": "code",
   "execution_count": null,
   "metadata": {
    "collapsed": true
   },
   "outputs": [],
   "source": [
    "json_re"
   ]
  },
  {
   "cell_type": "code",
   "execution_count": null,
   "metadata": {
    "collapsed": true
   },
   "outputs": [],
   "source": [
    "sample_card = json_response['data'][1]\n",
    "sample_card"
   ]
  },
  {
   "cell_type": "code",
   "execution_count": null,
   "metadata": {
    "collapsed": true
   },
   "outputs": [],
   "source": [
    "conn = psycopg2.connect('dbname={} host={} user={} password={}'.format(dbname, hostname, username, password))"
   ]
  },
  {
   "cell_type": "code",
   "execution_count": null,
   "metadata": {
    "collapsed": true
   },
   "outputs": [],
   "source": [
    "cursor = conn.cursor()"
   ]
  },
  {
   "cell_type": "code",
   "execution_count": null,
   "metadata": {
    "collapsed": true
   },
   "outputs": [],
   "source": [
    "wanted_keys = ['cmc', 'collector_number', 'color_identity', 'id', 'mana_cost', 'name', 'set', 'type_line', \n",
    "               'object', 'multiverse_ids', 'mtgo_id', 'oracle_text', 'artist', 'set_name']"
   ]
  },
  {
   "cell_type": "code",
   "execution_count": null,
   "metadata": {
    "collapsed": true
   },
   "outputs": [],
   "source": [
    "filtered_card = {wanted_key: sample_card[wanted_key] for wanted_key in wanted_keys}"
   ]
  },
  {
   "cell_type": "code",
   "execution_count": null,
   "metadata": {
    "collapsed": true
   },
   "outputs": [],
   "source": [
    "data = [sample_card[wanted_key] for wanted_key in wanted_keys]"
   ]
  },
  {
   "cell_type": "code",
   "execution_count": null,
   "metadata": {
    "collapsed": true
   },
   "outputs": [],
   "source": [
    "template = ', '.join(['%s'] * len(data))\n",
    "template"
   ]
  },
  {
   "cell_type": "code",
   "execution_count": null,
   "metadata": {
    "collapsed": true
   },
   "outputs": [],
   "source": [
    "query = '''INSERT INTO cards \n",
    "(cmc, collector_number, color_identity, scryfall_id, mana_cost, name, \n",
    "set, type_line, object, multiverse_ids, mtgo_id, oracle_text, artist, set_name)\n",
    "VALUES ({})'''.format(template)\n"
   ]
  },
  {
   "cell_type": "code",
   "execution_count": null,
   "metadata": {
    "collapsed": true
   },
   "outputs": [],
   "source": [
    "query.split('\\n')"
   ]
  },
  {
   "cell_type": "code",
   "execution_count": null,
   "metadata": {
    "collapsed": true
   },
   "outputs": [],
   "source": [
    "data[0]"
   ]
  },
  {
   "cell_type": "code",
   "execution_count": null,
   "metadata": {
    "collapsed": true
   },
   "outputs": [],
   "source": [
    "cursor.execute(query=query, vars=data)"
   ]
  },
  {
   "cell_type": "code",
   "execution_count": null,
   "metadata": {
    "collapsed": true
   },
   "outputs": [],
   "source": []
  },
  {
   "cell_type": "code",
   "execution_count": null,
   "metadata": {
    "collapsed": true
   },
   "outputs": [],
   "source": [
    "conn.commit()"
   ]
  },
  {
   "cell_type": "code",
   "execution_count": null,
   "metadata": {
    "collapsed": true
   },
   "outputs": [],
   "source": []
  },
  {
   "cell_type": "code",
   "execution_count": null,
   "metadata": {
    "collapsed": true
   },
   "outputs": [],
   "source": [
    "def upload_card(card, cursor, verbose=False):\n",
    "    '''\n",
    "    Uploads a card to the PSQL databse 'cards'.\n",
    "    \n",
    "    INPUT:\n",
    "        - card: dictionary, magic the gathering card taken from scryfall.com\n",
    "        - cursor: psycopg2 cursor object, used to insert card into db\n",
    "        \n",
    "    OUTPUT:\n",
    "        - success: bool, True if no problems were encountered when inserting into db\n",
    "    '''\n",
    "    print(card['name'])\n",
    "    # the wanted data fields from the card\n",
    "    wanted_keys = ['cmc', 'collector_number', 'color_identity', 'id', 'mana_cost', 'name', 'set', 'type_line', \n",
    "                   'object', 'oracle_text', 'set_name']\n",
    "    \n",
    "    # filtering out unwanted keys\n",
    "    data = [card[wanted_key] for wanted_key in wanted_keys]\n",
    "    \n",
    "    # creating the template to insert into sql\n",
    "    template = ', '.join(['%s'] * len(data))\n",
    "    \n",
    "    # create sql query\n",
    "    query = '''INSERT INTO cards \n",
    "                (cmc, collector_number, color_identity, scryfall_id, mana_cost, name, \n",
    "                set, type_line, object, oracle_text, set_name)\n",
    "                VALUES ({})'''.format(template)\n",
    "    \n",
    "    # add data into the db\n",
    "#     try:\n",
    "    cursor.execute(query=query, vars=data)\n",
    "#     except:\n",
    "#         if verbose: print('could not insert card into db')\n",
    "#         return False\n",
    "    \n",
    "    return True"
   ]
  },
  {
   "cell_type": "code",
   "execution_count": 11,
   "metadata": {
    "collapsed": true
   },
   "outputs": [],
   "source": [
    "conn = psycopg2.connect('dbname={} host={} user={} password={}'.format(dbname, hostname, username, password))"
   ]
  },
  {
   "cell_type": "code",
   "execution_count": 12,
   "metadata": {
    "collapsed": true
   },
   "outputs": [],
   "source": [
    "cursor = conn.cursor()"
   ]
  },
  {
   "cell_type": "code",
   "execution_count": null,
   "metadata": {
    "collapsed": true
   },
   "outputs": [],
   "source": [
    "for card in json_response['data']:\n",
    "    if 'card_faces' in card.keys():\n",
    "        print(card['name'])"
   ]
  },
  {
   "cell_type": "code",
   "execution_count": null,
   "metadata": {
    "collapsed": true
   },
   "outputs": [],
   "source": [
    "card = (json_response['data'][173])\n",
    "card['legalities']\n",
    "\n",
    "legalities = [k for k, v in card['legalities'].items() if v == 'legal']\n",
    "\n",
    "legalities"
   ]
  },
  {
   "cell_type": "code",
   "execution_count": null,
   "metadata": {
    "collapsed": true
   },
   "outputs": [],
   "source": [
    "front_face = card['card_faces'][0]\n",
    "front_face"
   ]
  },
  {
   "cell_type": "code",
   "execution_count": null,
   "metadata": {
    "collapsed": true
   },
   "outputs": [],
   "source": [
    "def format_card(card):\n",
    "    '''\n",
    "    Formats cards in a db friendly manner. If the card is multifaced, the first face is used for missing fields\n",
    "    \n",
    "    INPUT:\n",
    "        - card: dictionary, magic card from scryfall.com\n",
    "        \n",
    "    OUTPUT: \n",
    "        - formatted_card: list, attributes of each card in the following order:\n",
    "                            [name, cmc, type_line, oracle_text, mana_cost, power, toughness, colors, \n",
    "                            color_identity, legalities, set_code, set_name, collector_number, scryfall_id]\n",
    "    '''\n",
    "    keys = card.keys()\n",
    "    formatted_card = []\n",
    "    if 'card_faces' in keys:\n",
    "        # multifaced card\n",
    "        front_face = card['card_faces'][0]\n",
    "        front_keys = front_face.keys()\n",
    "        \n",
    "        formatted_card.append(card['name'])\n",
    "        formatted_card.append(card['cmc'])\n",
    "        formatted_card.append(front_face['type_line'])\n",
    "        \n",
    "        if 'oracle_text' in front_keys:\n",
    "            formatted_card.append(front_face['oracle_text'])\n",
    "        else:\n",
    "            formatted_card.append(None)\n",
    "        \n",
    "        formatted_card.append(front_face['mana_cost'])\n",
    "        \n",
    "        if 'power' in front_keys:\n",
    "            formatted_card.append(front_face['power'])\n",
    "        else:\n",
    "            formatted_card.append(None)\n",
    "        \n",
    "        if 'toughness' in front_keys:\n",
    "            formatted_card.append(front_face['toughness'])\n",
    "        else:\n",
    "            formatted_card.append(None)\n",
    "            \n",
    "        if 'colors' in keys:\n",
    "            formatted_card.append(card['colors'])\n",
    "        else:\n",
    "            formatted_card.append(front_face['colors'])\n",
    "            \n",
    "        formatted_card.append(card['color_identity'])\n",
    "        \n",
    "        legalities = [k for k, v in card['legalities'].items() if v == 'legal']\n",
    "        formatted_card.append(legalities)\n",
    "        \n",
    "        formatted_card.append(card['set'])\n",
    "        formatted_card.append(card['set_name'])\n",
    "        formatted_card.append(card['collector_number'])\n",
    "        formatted_card.append(card['id'])\n",
    "                                  \n",
    "    else:\n",
    "        # single faced card\n",
    "        formatted_card.append(card['name'])\n",
    "        formatted_card.append(card['cmc'])\n",
    "        formatted_card.append(card['type_line'])\n",
    "        \n",
    "        if 'oracle_text' in keys: \n",
    "            formatted_card.append(card['oracle_text'])\n",
    "        else:\n",
    "            formatted_card.append(None)\n",
    "            \n",
    "        formatted_card.append(card['mana_cost'])\n",
    "        \n",
    "        if 'power' in keys:\n",
    "            formatted_card.append(card['power'])\n",
    "        else: \n",
    "            formatted_card.append(None)\n",
    "        \n",
    "        if 'toughness' in keys: \n",
    "            formatted_card.append(card['toughness'])\n",
    "        else: \n",
    "            formatted_card.append(None)\n",
    "        \n",
    "        formatted_card.append(card['colors'])\n",
    "        formatted_card.append(card['color_identity'])\n",
    "        \n",
    "        legalities = [k for k, v in card['legalities'].items() if v == 'legal']\n",
    "        formatted_card.append(legalities)\n",
    "        formatted_card.append(card['set'])\n",
    "        formatted_card.append(card['set_name'])\n",
    "        formatted_card.append(card['collector_number'])\n",
    "        formatted_card.append(card['id'])\n",
    "    \n",
    "    return formatted_card"
   ]
  },
  {
   "cell_type": "code",
   "execution_count": null,
   "metadata": {
    "collapsed": true
   },
   "outputs": [],
   "source": [
    "cards = []\n",
    "for idx, raw_card in enumerate(json_response['data']):\n",
    "    card = format_card(raw_card)\n",
    "\n",
    "    cards.append(card)\n",
    "    \n",
    "cards"
   ]
  },
  {
   "cell_type": "code",
   "execution_count": null,
   "metadata": {
    "collapsed": true
   },
   "outputs": [],
   "source": [
    "def upload_card(card, cursor, verbose=False):\n",
    "    '''\n",
    "    Uploads a card to the PSQL databse 'cards'.\n",
    "    \n",
    "    INPUT:\n",
    "        - card: dictionary, magic the gathering card taken from scryfall.com\n",
    "        - cursor: psycopg2 cursor object, used to insert card into db\n",
    "        \n",
    "    OUTPUT:\n",
    "        - success: bool, True if no problems were encountered when inserting into db\n",
    "    '''\n",
    "    print(card['name'])\n",
    "    # the wanted data fields from the card\n",
    "    wanted_keys = ['cmc', 'collector_number', 'color_identity', 'id', 'mana_cost', 'name', 'set', 'type_line', \n",
    "                   'object', 'oracle_text', 'set_name']\n",
    "    \n",
    "    # filtering out unwanted keys\n",
    "    data = [card[wanted_key] for wanted_key in wanted_keys]\n",
    "    \n",
    "    # creating the template to insert into sql\n",
    "    template = ', '.join(['%s'] * len(data))\n",
    "    \n",
    "    # create sql query\n",
    "    query = '''INSERT INTO cards \n",
    "                (cmc, collector_number, color_identity, scryfall_id, mana_cost, name, \n",
    "                set, type_line, object, oracle_text, set_name)\n",
    "                VALUES ({})'''.format(template)\n",
    "    \n",
    "    # add data into the db\n",
    "#     try:\n",
    "    cursor.execute(query=query, vars=data)\n",
    "#     except:\n",
    "#         if verbose: print('could not insert card into db')\n",
    "#         return False\n",
    "    \n",
    "    return True"
   ]
  },
  {
   "cell_type": "code",
   "execution_count": 21,
   "metadata": {
    "collapsed": true
   },
   "outputs": [],
   "source": [
    "conn = psycopg2.connect('dbname={} host={} user={} password={}'.format(dbname, hostname, username, password))"
   ]
  },
  {
   "cell_type": "code",
   "execution_count": 22,
   "metadata": {
    "collapsed": true
   },
   "outputs": [],
   "source": [
    "cursor = conn.cursor()"
   ]
  },
  {
   "cell_type": "code",
   "execution_count": null,
   "metadata": {
    "collapsed": true
   },
   "outputs": [],
   "source": [
    "cards[0]"
   ]
  },
  {
   "cell_type": "code",
   "execution_count": null,
   "metadata": {
    "collapsed": true
   },
   "outputs": [],
   "source": [
    "template = ', '.join(['%s'] * len(cards[0]))\n",
    "\n",
    "template"
   ]
  },
  {
   "cell_type": "code",
   "execution_count": null,
   "metadata": {
    "collapsed": true
   },
   "outputs": [],
   "source": [
    "query = '''INSERT INTO cards (name, cmc, type_line, oracle_text, mana_cost, power, toughness, colors, \n",
    "                              color_identity, legalities, set_id, set_name, collector_number, scryfall_id)\n",
    "           VALUES ({})'''.format(template)\n",
    "\n",
    "query"
   ]
  },
  {
   "cell_type": "code",
   "execution_count": null,
   "metadata": {
    "collapsed": true
   },
   "outputs": [],
   "source": [
    "cursor.execute(query, cards[0])"
   ]
  },
  {
   "cell_type": "code",
   "execution_count": null,
   "metadata": {
    "collapsed": true
   },
   "outputs": [],
   "source": [
    "conn.commit()"
   ]
  },
  {
   "cell_type": "code",
   "execution_count": null,
   "metadata": {
    "collapsed": true
   },
   "outputs": [],
   "source": [
    "cursor.execute('SELECT * FROM cards;')"
   ]
  },
  {
   "cell_type": "code",
   "execution_count": null,
   "metadata": {
    "collapsed": true
   },
   "outputs": [],
   "source": [
    "cursor.fetchall()"
   ]
  },
  {
   "cell_type": "code",
   "execution_count": null,
   "metadata": {
    "collapsed": true
   },
   "outputs": [],
   "source": [
    "def upload_card(card, cursor, verbose=False):\n",
    "    \n",
    "    template = ', '.join(['%s'] * len(card))\n",
    "    \n",
    "    query = '''INSERT INTO cards (name, cmc, type_line, oracle_text, mana_cost, power, toughness, colors, \n",
    "                              color_identity, legalities, set_id, set_name, collector_number, scryfall_id)\n",
    "           VALUES ({})'''.format(template)\n",
    "\n",
    "    try:\n",
    "        cursor.execute(query, card)\n",
    "        conn.commit()\n",
    "        return True\n",
    "    \n",
    "    except psycopg2.IntegrityError:\n",
    "        if verbose: print('duplicate card detected')\n",
    "        return False\n"
   ]
  },
  {
   "cell_type": "code",
   "execution_count": null,
   "metadata": {
    "collapsed": true,
    "scrolled": true
   },
   "outputs": [],
   "source": [
    "conn = psycopg2.connect('dbname={} host={} user={} password={}'.format(dbname, hostname, username, password))\n",
    "cursor = conn.cursor()\n",
    "for idx, card in enumerate(cards):\n",
    "    status = upload_card(card, cursor, verbose=True)\n",
    "    if not status:\n",
    "        conn = psycopg2.connect('dbname={} host={} user={} password={}'.format(dbname, hostname, username, password))\n",
    "        cursor = conn.cursor()"
   ]
  },
  {
   "cell_type": "code",
   "execution_count": null,
   "metadata": {
    "collapsed": true
   },
   "outputs": [],
   "source": [
    "url = 'https://api.scryfall.com/cards/search?q=format:modern'\n",
    "response = requests.get(url)\n",
    "json_response = json.loads(response.text)"
   ]
  },
  {
   "cell_type": "code",
   "execution_count": null,
   "metadata": {
    "collapsed": true
   },
   "outputs": [],
   "source": [
    "json_response['next_page']"
   ]
  },
  {
   "cell_type": "code",
   "execution_count": null,
   "metadata": {
    "collapsed": true
   },
   "outputs": [],
   "source": [
    "def get_modern_cards(verbose=False):\n",
    "    '''Gets all modern legal cards from scryfall.com api'''\n",
    "    \n",
    "    conn = psycopg2.connect('dbname={} host={} user={} password={}'.format(dbname, hostname, username, password))\n",
    "    cursor = conn.cursor()\n",
    "\n",
    "    url = 'https://api.scryfall.com/cards/search?q=format:modern'\n",
    "    \n",
    "    while True:\n",
    "        response = requests.get(url)\n",
    "        raw_cards = json.loads(response.text)\n",
    "        \n",
    "        for idx, raw_card in enumerate(raw_cards['data']):\n",
    "            card = format_card(raw_card)\n",
    "            status = upload_card(card, cursor, verbose=True)\n",
    "            if not status:\n",
    "                print('{}'.format(idx))\n",
    "                conn = psycopg2.connect('dbname={} host={} user={} password={}'.format(dbname, hostname, username, password))\n",
    "                cursor = conn.cursor()\n",
    "        if not raw_cards['has_more']:\n",
    "            # no more cards to get\n",
    "            if verbose: print('All done')\n",
    "            break\n",
    "        \n",
    "        "
   ]
  },
  {
   "cell_type": "code",
   "execution_count": 1,
   "metadata": {},
   "outputs": [
    {
     "ename": "NameError",
     "evalue": "name 'json_response' is not defined",
     "output_type": "error",
     "traceback": [
      "\u001b[0;31m---------------------------------------------------------------------------\u001b[0m",
      "\u001b[0;31mNameError\u001b[0m                                 Traceback (most recent call last)",
      "\u001b[0;32m<ipython-input-1-71a2de80dff8>\u001b[0m in \u001b[0;36m<module>\u001b[0;34m()\u001b[0m\n\u001b[0;32m----> 1\u001b[0;31m \u001b[0mjson_response\u001b[0m\u001b[0;34m.\u001b[0m\u001b[0mkeys\u001b[0m\u001b[0;34m(\u001b[0m\u001b[0;34m)\u001b[0m\u001b[0;34m\u001b[0m\u001b[0m\n\u001b[0m",
      "\u001b[0;31mNameError\u001b[0m: name 'json_response' is not defined"
     ]
    }
   ],
   "source": [
    "json_response.keys()"
   ]
  },
  {
   "cell_type": "code",
   "execution_count": 9,
   "metadata": {
    "collapsed": true
   },
   "outputs": [],
   "source": [
    "from src.deck_scraping import get_cardstorm_id"
   ]
  },
  {
   "cell_type": "code",
   "execution_count": 28,
   "metadata": {},
   "outputs": [
    {
     "data": {
      "text/plain": [
       "(20578, True)"
      ]
     },
     "execution_count": 28,
     "metadata": {},
     "output_type": "execute_result"
    }
   ],
   "source": [
    "get_cardstorm_id('Snapcaster Mage', cursor, verbose=True)"
   ]
  },
  {
   "cell_type": "code",
   "execution_count": 59,
   "metadata": {
    "collapsed": true
   },
   "outputs": [],
   "source": [
    "conn = psycopg2.connect('dbname={} host={} user={} password={}'.format(dbname, hostname, username, password))\n",
    "cursor = conn.cursor()"
   ]
  },
  {
   "cell_type": "code",
   "execution_count": 52,
   "metadata": {},
   "outputs": [
    {
     "data": {
      "text/plain": [
       "'SELECT cardstorm_id\\n           FROM cards\\n           WHERE name=%s'"
      ]
     },
     "execution_count": 52,
     "metadata": {},
     "output_type": "execute_result"
    }
   ],
   "source": [
    "query = \"\"\"SELECT cardstorm_id\n",
    "           FROM cards\n",
    "           WHERE name=%s\"\"\"\n",
    "\n",
    "query"
   ]
  },
  {
   "cell_type": "code",
   "execution_count": 53,
   "metadata": {
    "collapsed": true
   },
   "outputs": [],
   "source": [
    "cursor.execute(query, [\"Gryff's Boon\"])"
   ]
  },
  {
   "cell_type": "code",
   "execution_count": 54,
   "metadata": {},
   "outputs": [
    {
     "data": {
      "text/plain": [
       "[(10425,)]"
      ]
     },
     "execution_count": 54,
     "metadata": {},
     "output_type": "execute_result"
    }
   ],
   "source": [
    "cursor.fetchall()"
   ]
  },
  {
   "cell_type": "code",
   "execution_count": 29,
   "metadata": {
    "collapsed": true
   },
   "outputs": [],
   "source": [
    "from src.deck_scraping import *"
   ]
  },
  {
   "cell_type": "code",
   "execution_count": 32,
   "metadata": {},
   "outputs": [
    {
     "name": "stdout",
     "output_type": "stream",
     "text": [
      "requesting front page number 0\n"
     ]
    }
   ],
   "source": [
    "front_page = BeautifulSoup(modern_front_page_request(page_number=0, verbose=True).text, 'html.parser')"
   ]
  },
  {
   "cell_type": "code",
   "execution_count": 33,
   "metadata": {},
   "outputs": [
    {
     "name": "stdout",
     "output_type": "stream",
     "text": [
      "    getting event ids from a front page\n"
     ]
    }
   ],
   "source": [
    "event_ids = get_event_ids(front_page, True)"
   ]
  },
  {
   "cell_type": "code",
   "execution_count": 35,
   "metadata": {},
   "outputs": [
    {
     "name": "stdout",
     "output_type": "stream",
     "text": [
      "    event request for event id 18206\n"
     ]
    }
   ],
   "source": [
    "event_page = BeautifulSoup(event_request(event_ids[0], True).text, 'html.parser')"
   ]
  },
  {
   "cell_type": "code",
   "execution_count": 36,
   "metadata": {
    "collapsed": true
   },
   "outputs": [],
   "source": [
    "deck_ids = get_deck_ids(event_page, True)"
   ]
  },
  {
   "cell_type": "code",
   "execution_count": 37,
   "metadata": {},
   "outputs": [
    {
     "name": "stdout",
     "output_type": "stream",
     "text": [
      "        deck request for deck id 312786\n"
     ]
    }
   ],
   "source": [
    "raw_deck_list = deck_request(deck_ids[0], True)"
   ]
  },
  {
   "cell_type": "code",
   "execution_count": 38,
   "metadata": {
    "collapsed": true
   },
   "outputs": [],
   "source": [
    "deck_list = format_deck(raw_deck_list)"
   ]
  },
  {
   "cell_type": "code",
   "execution_count": 65,
   "metadata": {
    "collapsed": true
   },
   "outputs": [],
   "source": [
    "def make_user_card_counts_2(event_id, deck_id, deck_list, cursor, verbose=False):\n",
    "    \"\"\"\n",
    "    Takes a deck_id and deck_list and returns user-card-count tuples.\n",
    "\n",
    "    INPUT:\n",
    "        - event_id: the unique identifier for the event this deck came from\n",
    "        - deck_id: the unique identifier for the deck\n",
    "        - deck_list: the deck list read from a file, formatted\n",
    "        - cursor: psycopg2 cursor object, used to get cardstorm_id from db\n",
    "        - verbose: bool, if true status messages will be printed\n",
    "    OUTPUT:\n",
    "        - user_card_count: a tuple containing the deck_id, card_name and\n",
    "                           card_count for each card in the deck.\n",
    "    \"\"\"\n",
    "    \n",
    "    user_card_count = []\n",
    "    for card_string in deck_list:\n",
    "        parse_success, card_name, card_count = parse_card_string(card_string)\n",
    "        cardstorm_id, cardstorm_success = get_cardstorm_id(card_name, cursor, verbose=verbose)\n",
    "        if parse_success:\n",
    "            user_card_count.append((int(event_id), int(deck_id), cardstorm_id, card_name, card_count))\n",
    "\n",
    "    return user_card_count\n"
   ]
  },
  {
   "cell_type": "code",
   "execution_count": 66,
   "metadata": {
    "collapsed": true
   },
   "outputs": [],
   "source": [
    "user_card_counts = make_user_card_counts_2(event_ids[0], deck_ids[0], deck_list, cursor)"
   ]
  },
  {
   "cell_type": "code",
   "execution_count": 67,
   "metadata": {},
   "outputs": [
    {
     "data": {
      "text/plain": [
       "[(18206, 312786, 8901, 'Dryad Arbor', 1),\n",
       " (18206, 312786, 10042, 'Gladecover Scout', 4),\n",
       " (18206, 312786, 11559, 'Kor Spiritdancer', 2),\n",
       " (18206, 312786, 20334, 'Silhana Ledgewalker', 2),\n",
       " (18206, 312786, 20527, 'Slippery Bogle', 4),\n",
       " (18206, 312786, 18590, 'Path to Exile', 2),\n",
       " (18206, 312786, 5606, 'Cartouche of Solidarity', 1),\n",
       " (18206, 312786, 8379, 'Daybreak Coronet', 4),\n",
       " (18206, 312786, 9242, 'Ethereal Armor', 4),\n",
       " (18206, 312786, 10425, \"Gryff's Boon\", 2),\n",
       " (18206, 312786, 10913, 'Hyena Umbra', 3),\n",
       " (18206, 312786, 17059, 'Leyline of Sanctity', 2),\n",
       " (18206, 312786, 19168, 'Rancor', 4),\n",
       " (18206, 312786, 20785, 'Spider Umbra', 3),\n",
       " (18206, 312786, 20827, 'Spirit Mantle', 2),\n",
       " (18206, 312786, 21859, 'Triclopean Sight', 2),\n",
       " (18206, 312786, 9700, 'Forest', 1),\n",
       " (18206, 312786, 10812, 'Horizon Canopy', 4),\n",
       " (18206, 312786, 18769, 'Plains', 2),\n",
       " (18206, 312786, 19218, 'Razorverge Thicket', 3),\n",
       " (18206, 312786, 21431, 'Temple Garden', 3),\n",
       " (18206, 312786, 22710, 'Windswept Heath', 3),\n",
       " (18206, 312786, 22769, 'Wooded Foothills', 2)]"
      ]
     },
     "execution_count": 67,
     "metadata": {},
     "output_type": "execute_result"
    }
   ],
   "source": [
    "user_card_counts"
   ]
  },
  {
   "cell_type": "code",
   "execution_count": 68,
   "metadata": {},
   "outputs": [
    {
     "data": {
      "text/plain": [
       "60"
      ]
     },
     "execution_count": 68,
     "metadata": {},
     "output_type": "execute_result"
    }
   ],
   "source": [
    "sum([x[-1] for x in user_card_counts])"
   ]
  },
  {
   "cell_type": "code",
   "execution_count": 70,
   "metadata": {},
   "outputs": [
    {
     "name": "stdout",
     "output_type": "stream",
     "text": [
      "Duskwatch Recruiter\n"
     ]
    },
    {
     "ename": "IndexError",
     "evalue": "list index out of range",
     "output_type": "error",
     "traceback": [
      "\u001b[0;31m---------------------------------------------------------------------------\u001b[0m",
      "\u001b[0;31mIndexError\u001b[0m                                Traceback (most recent call last)",
      "\u001b[0;32m<ipython-input-70-148812949450>\u001b[0m in \u001b[0;36m<module>\u001b[0;34m()\u001b[0m\n\u001b[0;32m----> 1\u001b[0;31m \u001b[0mget_cardstorm_id\u001b[0m\u001b[0;34m(\u001b[0m\u001b[0;34m'Duskwatch Recruiter'\u001b[0m\u001b[0;34m,\u001b[0m \u001b[0mcursor\u001b[0m\u001b[0;34m,\u001b[0m \u001b[0;32mTrue\u001b[0m\u001b[0;34m)\u001b[0m\u001b[0;34m\u001b[0m\u001b[0m\n\u001b[0m",
      "\u001b[0;32m~/Documents/Galvanize/mtg-capstone/src/deck_scraping.py\u001b[0m in \u001b[0;36mget_cardstorm_id\u001b[0;34m(card_name, cursor, verbose)\u001b[0m\n\u001b[1;32m    145\u001b[0m         \u001b[0;32mreturn\u001b[0m \u001b[0;34m''\u001b[0m\u001b[0;34m,\u001b[0m \u001b[0;32mFalse\u001b[0m\u001b[0;34m\u001b[0m\u001b[0m\n\u001b[1;32m    146\u001b[0m     \u001b[0;32mif\u001b[0m \u001b[0mverbose\u001b[0m\u001b[0;34m:\u001b[0m \u001b[0mprint\u001b[0m\u001b[0;34m(\u001b[0m\u001b[0mcard_name\u001b[0m\u001b[0;34m)\u001b[0m\u001b[0;34m\u001b[0m\u001b[0m\n\u001b[0;32m--> 147\u001b[0;31m     \u001b[0;32mreturn\u001b[0m \u001b[0mcursor\u001b[0m\u001b[0;34m.\u001b[0m\u001b[0mfetchall\u001b[0m\u001b[0;34m(\u001b[0m\u001b[0;34m)\u001b[0m\u001b[0;34m[\u001b[0m\u001b[0;36m0\u001b[0m\u001b[0;34m]\u001b[0m\u001b[0;34m[\u001b[0m\u001b[0;36m0\u001b[0m\u001b[0;34m]\u001b[0m\u001b[0;34m,\u001b[0m \u001b[0;32mTrue\u001b[0m\u001b[0;34m\u001b[0m\u001b[0m\n\u001b[0m\u001b[1;32m    148\u001b[0m \u001b[0;34m\u001b[0m\u001b[0m\n\u001b[1;32m    149\u001b[0m \u001b[0;31m################################################################################\u001b[0m\u001b[0;34m\u001b[0m\u001b[0;34m\u001b[0m\u001b[0m\n",
      "\u001b[0;31mIndexError\u001b[0m: list index out of range"
     ]
    }
   ],
   "source": [
    "get_cardstorm_id('Duskwatch Recruiter', cursor, True)"
   ]
  },
  {
   "cell_type": "code",
   "execution_count": 71,
   "metadata": {},
   "outputs": [
    {
     "data": {
      "text/plain": [
       "200"
      ]
     },
     "execution_count": 71,
     "metadata": {},
     "output_type": "execute_result"
    }
   ],
   "source": [
    "url = 'https://api.scryfall.com/cards/named?exact=Duskwatch Recruiter'\n",
    "response = requests.get(url)\n",
    "\n",
    "response.status_code"
   ]
  },
  {
   "cell_type": "code",
   "execution_count": 73,
   "metadata": {
    "collapsed": true
   },
   "outputs": [],
   "source": [
    "duskwatch_recruiter = json.loads(response.text)"
   ]
  },
  {
   "cell_type": "code",
   "execution_count": 75,
   "metadata": {},
   "outputs": [
    {
     "data": {
      "text/plain": [
       "{'artist': 'Craig J Spearing',\n",
       " 'border_color': 'black',\n",
       " 'card_faces': [{'colors': ['G'],\n",
       "   'illustration_id': '7c7c6edf-7046-465d-93ff-1f13bbf3db73',\n",
       "   'image_uris': {'art_crop': 'https://img.scryfall.com/cards/art_crop/en/soi/203a.jpg?1509844803',\n",
       "    'border_crop': 'https://img.scryfall.com/cards/border_crop/en/soi/203a.jpg?1509844803',\n",
       "    'large': 'https://img.scryfall.com/cards/large/en/soi/203a.jpg?1509844803',\n",
       "    'normal': 'https://img.scryfall.com/cards/normal/en/soi/203a.jpg?1509844803',\n",
       "    'png': 'https://img.scryfall.com/cards/png/en/soi/203a.png?1509844803',\n",
       "    'small': 'https://img.scryfall.com/cards/small/en/soi/203a.jpg?1509844803'},\n",
       "   'mana_cost': '{1}{G}',\n",
       "   'name': 'Duskwatch Recruiter',\n",
       "   'object': 'card_face',\n",
       "   'oracle_text': '{2}{G}: Look at the top three cards of your library. You may reveal a creature card from among them and put it into your hand. Put the rest on the bottom of your library in any order.\\nAt the beginning of each upkeep, if no spells were cast last turn, transform Duskwatch Recruiter.',\n",
       "   'power': '2',\n",
       "   'toughness': '2',\n",
       "   'type_line': 'Creature — Human Warrior Werewolf'},\n",
       "  {'color_indicator': ['G'],\n",
       "   'colors': ['G'],\n",
       "   'illustration_id': '02f4e677-adb6-4389-81ae-c2e67047b86f',\n",
       "   'image_uris': {'art_crop': 'https://img.scryfall.com/cards/art_crop/en/soi/203b.jpg?1509844803',\n",
       "    'border_crop': 'https://img.scryfall.com/cards/border_crop/en/soi/203b.jpg?1509844803',\n",
       "    'large': 'https://img.scryfall.com/cards/large/en/soi/203b.jpg?1509844803',\n",
       "    'normal': 'https://img.scryfall.com/cards/normal/en/soi/203b.jpg?1509844803',\n",
       "    'png': 'https://img.scryfall.com/cards/png/en/soi/203b.png?1509844803',\n",
       "    'small': 'https://img.scryfall.com/cards/small/en/soi/203b.jpg?1509844803'},\n",
       "   'mana_cost': '',\n",
       "   'name': 'Krallenhorde Howler',\n",
       "   'object': 'card_face',\n",
       "   'oracle_text': 'Creature spells you cast cost {1} less to cast.\\nAt the beginning of each upkeep, if a player cast two or more spells last turn, transform Krallenhorde Howler.',\n",
       "   'power': '3',\n",
       "   'toughness': '3',\n",
       "   'type_line': 'Creature — Werewolf'}],\n",
       " 'cmc': 2.0,\n",
       " 'collector_number': '203',\n",
       " 'color_identity': ['G'],\n",
       " 'colorshifted': False,\n",
       " 'digital': False,\n",
       " 'edhrec_rank': 1777,\n",
       " 'eur': '0.91',\n",
       " 'frame': '2015',\n",
       " 'full_art': False,\n",
       " 'futureshifted': False,\n",
       " 'highres_image': True,\n",
       " 'id': 'e1915d93-c7dd-4bb7-bd5c-63a359a02b97',\n",
       " 'layout': 'transform',\n",
       " 'legalities': {'1v1': 'legal',\n",
       "  'commander': 'legal',\n",
       "  'duel': 'legal',\n",
       "  'frontier': 'legal',\n",
       "  'future': 'not_legal',\n",
       "  'legacy': 'legal',\n",
       "  'modern': 'legal',\n",
       "  'pauper': 'not_legal',\n",
       "  'penny': 'not_legal',\n",
       "  'standard': 'not_legal',\n",
       "  'vintage': 'legal'},\n",
       " 'mtgo_foil_id': 60301,\n",
       " 'mtgo_id': 60300,\n",
       " 'multiverse_ids': [409961, 409962],\n",
       " 'name': 'Duskwatch Recruiter // Krallenhorde Howler',\n",
       " 'object': 'card',\n",
       " 'prints_search_uri': 'https://api.scryfall.com/cards/search?order=set&q=%2B%2B%21%22Duskwatch+Recruiter+%2F%2F+Krallenhorde+Howler%22',\n",
       " 'purchase_uris': {'amazon': 'https://www.amazon.com/gp/search?ie=UTF8&index=toys-and-games&keywords=Duskwatch+Recruiter&tag=scryfall-20',\n",
       "  'card_kingdom': 'https://www.cardkingdom.com/catalog/item/205795?partner=scryfall&utm_campaign=affiliate&utm_medium=scryfall&utm_source=scryfall',\n",
       "  'cardhoarder': 'https://www.cardhoarder.com/cards/60300?affiliate_id=scryfall&ref=card-profile&utm_campaign=affiliate&utm_medium=card&utm_source=scryfall',\n",
       "  'coolstuffinc': 'http://www.coolstuffinc.com/p/Magic%3A+The+Gathering/Duskwatch+Recruiter+%2F%2F+Krallenhorde+Howler?utm_source=scryfall',\n",
       "  'ebay': 'http://rover.ebay.com/rover/1/711-53200-19255-0/1?campid=5337966903&icep_catId=19107&icep_ff3=10&icep_sortBy=12&icep_uq=Duskwatch+Recruiter&icep_vectorid=229466&ipn=psmain&kw=lg&kwid=902099&mtid=824&pub=5575230669&toolid=10001',\n",
       "  'magiccardmarket': 'https://www.cardmarket.com/Magic/Products/Singles/Shadows+over+Innistrad/Duskwatch+Recruiter+%2F+Krallenhorde+Howler?referrer=scryfall',\n",
       "  'mtgo_traders': 'http://www.mtgotraders.com/deck/ref.php?id=60300&referral=scryfall',\n",
       "  'tcgplayer': 'http://store.tcgplayer.com/magic/shadows-over-innistrad/duskwatch-recruiter?partner=Scryfall'},\n",
       " 'rarity': 'uncommon',\n",
       " 'related_uris': {'edhrec': 'http://edhrec.com/route/?cc=Duskwatch+Recruiter',\n",
       "  'gatherer': 'http://gatherer.wizards.com/Pages/Card/Details.aspx?multiverseid=409961',\n",
       "  'mtgtop8': 'http://mtgtop8.com/search?MD_check=1&SB_check=1&cards=Duskwatch+Recruiter',\n",
       "  'tcgplayer_decks': 'http://decks.tcgplayer.com/magic/deck/search?contains=Duskwatch+Recruiter&page=1&partner=Scryfall'},\n",
       " 'reprint': False,\n",
       " 'reserved': False,\n",
       " 'rulings_uri': 'https://api.scryfall.com/cards/soi/203/rulings',\n",
       " 'scryfall_set_uri': 'https://scryfall.com/sets/soi?utm_source=api',\n",
       " 'scryfall_uri': 'https://scryfall.com/card/soi/203?utm_source=api',\n",
       " 'set': 'soi',\n",
       " 'set_name': 'Shadows over Innistrad',\n",
       " 'set_search_uri': 'https://api.scryfall.com/cards/search?q=%2B%2Be%3Asoi',\n",
       " 'set_uri': 'https://api.scryfall.com/cards/search?q=%2B%2Be%3Asoi',\n",
       " 'timeshifted': False,\n",
       " 'tix': '0.01',\n",
       " 'uri': 'https://api.scryfall.com/cards/soi/203',\n",
       " 'usd': '0.79'}"
      ]
     },
     "execution_count": 75,
     "metadata": {},
     "output_type": "execute_result"
    }
   ],
   "source": [
    "duskwatch_recruiter"
   ]
  },
  {
   "cell_type": "code",
   "execution_count": 76,
   "metadata": {},
   "outputs": [
    {
     "data": {
      "text/plain": [
       "200"
      ]
     },
     "execution_count": 76,
     "metadata": {},
     "output_type": "execute_result"
    }
   ],
   "source": [
    "url = 'https://api.scryfall.com/cards/named?exact=Dusk // Dawn'\n",
    "response = requests.get(url)\n",
    "\n",
    "response.status_code"
   ]
  },
  {
   "cell_type": "code",
   "execution_count": 77,
   "metadata": {},
   "outputs": [
    {
     "data": {
      "text/plain": [
       "{'artist': 'Noah Bradley',\n",
       " 'border_color': 'black',\n",
       " 'card_faces': [{'illustration_id': 'f3d63aed-2784-4ef5-9676-846b1e65e040',\n",
       "   'mana_cost': '{2}{W}{W}',\n",
       "   'name': 'Dusk',\n",
       "   'object': 'card_face',\n",
       "   'oracle_text': 'Destroy all creatures with power 3 or greater.',\n",
       "   'type_line': 'Sorcery'},\n",
       "  {'mana_cost': '{3}{W}{W}',\n",
       "   'name': 'Dawn',\n",
       "   'object': 'card_face',\n",
       "   'oracle_text': 'Aftermath (Cast this spell only from your graveyard. Then exile it.)\\nReturn all creature cards with power 2 or less from your graveyard to your hand.',\n",
       "   'type_line': 'Sorcery'}],\n",
       " 'cmc': 9.0,\n",
       " 'collector_number': '210',\n",
       " 'color_identity': ['W'],\n",
       " 'colors': ['W'],\n",
       " 'colorshifted': False,\n",
       " 'digital': False,\n",
       " 'edhrec_rank': 984,\n",
       " 'eur': '0.83',\n",
       " 'frame': '2015',\n",
       " 'full_art': False,\n",
       " 'futureshifted': False,\n",
       " 'highres_image': True,\n",
       " 'id': '937dbc51-b589-4237-9fce-ea5c757f7c48',\n",
       " 'illustration_id': 'f3d63aed-2784-4ef5-9676-846b1e65e040',\n",
       " 'image_uris': {'art_crop': 'https://img.scryfall.com/cards/art_crop/en/akh/210a.jpg?1509810296',\n",
       "  'border_crop': 'https://img.scryfall.com/cards/border_crop/en/akh/210a.jpg?1509810296',\n",
       "  'large': 'https://img.scryfall.com/cards/large/en/akh/210a.jpg?1509810296',\n",
       "  'normal': 'https://img.scryfall.com/cards/normal/en/akh/210a.jpg?1509810296',\n",
       "  'png': 'https://img.scryfall.com/cards/png/en/akh/210a.png?1509810296',\n",
       "  'small': 'https://img.scryfall.com/cards/small/en/akh/210a.jpg?1509810296'},\n",
       " 'layout': 'split',\n",
       " 'legalities': {'1v1': 'legal',\n",
       "  'commander': 'legal',\n",
       "  'duel': 'legal',\n",
       "  'frontier': 'legal',\n",
       "  'future': 'legal',\n",
       "  'legacy': 'legal',\n",
       "  'modern': 'legal',\n",
       "  'pauper': 'not_legal',\n",
       "  'penny': 'not_legal',\n",
       "  'standard': 'legal',\n",
       "  'vintage': 'legal'},\n",
       " 'mana_cost': '{2}{W}{W} // {3}{W}{W}',\n",
       " 'mtgo_foil_id': 64023,\n",
       " 'mtgo_id': 64022,\n",
       " 'multiverse_ids': [426912],\n",
       " 'name': 'Dusk // Dawn',\n",
       " 'object': 'card',\n",
       " 'prints_search_uri': 'https://api.scryfall.com/cards/search?order=set&q=%2B%2B%21%22Dusk+%2F%2F+Dawn%22',\n",
       " 'purchase_uris': {'amazon': 'https://www.amazon.com/gp/search?ie=UTF8&index=toys-and-games&keywords=Dusk+%2F%2F+Dawn&tag=scryfall-20',\n",
       "  'card_kingdom': 'https://www.cardkingdom.com/catalog/item/211842?partner=scryfall&utm_campaign=affiliate&utm_medium=scryfall&utm_source=scryfall',\n",
       "  'cardhoarder': 'https://www.cardhoarder.com/cards/64022?affiliate_id=scryfall&ref=card-profile&utm_campaign=affiliate&utm_medium=card&utm_source=scryfall',\n",
       "  'coolstuffinc': 'http://www.coolstuffinc.com/p/Magic%3A+The+Gathering/Dusk+%2F%2F+Dawn?utm_source=scryfall',\n",
       "  'ebay': 'http://rover.ebay.com/rover/1/711-53200-19255-0/1?campid=5337966903&icep_catId=19107&icep_ff3=10&icep_sortBy=12&icep_uq=Dusk+%2F%2F+Dawn&icep_vectorid=229466&ipn=psmain&kw=lg&kwid=902099&mtid=824&pub=5575230669&toolid=10001',\n",
       "  'magiccardmarket': 'https://www.cardmarket.com/Magic/Products/Singles/Amonkhet/Dusk+%2F%2F+Dawn?referrer=scryfall',\n",
       "  'mtgo_traders': 'http://www.mtgotraders.com/deck/ref.php?id=64022&referral=scryfall',\n",
       "  'tcgplayer': 'http://store.tcgplayer.com/magic/amonkhet/dusk-dawn?partner=Scryfall'},\n",
       " 'rarity': 'rare',\n",
       " 'related_uris': {'edhrec': 'http://edhrec.com/route/?cc=Dusk+%2F%2F+Dawn',\n",
       "  'gatherer': 'http://gatherer.wizards.com/Pages/Card/Details.aspx?multiverseid=426912',\n",
       "  'mtgtop8': 'http://mtgtop8.com/search?MD_check=1&SB_check=1&cards=Dusk+%2F%2F+Dawn',\n",
       "  'tcgplayer_decks': 'http://decks.tcgplayer.com/magic/deck/search?contains=Dusk+%2F%2F+Dawn&page=1&partner=Scryfall'},\n",
       " 'reprint': False,\n",
       " 'reserved': False,\n",
       " 'rulings_uri': 'https://api.scryfall.com/cards/akh/210/rulings',\n",
       " 'scryfall_set_uri': 'https://scryfall.com/sets/akh?utm_source=api',\n",
       " 'scryfall_uri': 'https://scryfall.com/card/akh/210?utm_source=api',\n",
       " 'set': 'akh',\n",
       " 'set_name': 'Amonkhet',\n",
       " 'set_search_uri': 'https://api.scryfall.com/cards/search?q=%2B%2Be%3Aakh',\n",
       " 'set_uri': 'https://api.scryfall.com/cards/search?q=%2B%2Be%3Aakh',\n",
       " 'timeshifted': False,\n",
       " 'uri': 'https://api.scryfall.com/cards/akh/210',\n",
       " 'usd': '0.99'}"
      ]
     },
     "execution_count": 77,
     "metadata": {},
     "output_type": "execute_result"
    }
   ],
   "source": [
    "dusk_dawn = json.loads(response.text)\n",
    "\n",
    "dusk_dawn"
   ]
  },
  {
   "cell_type": "code",
   "execution_count": 78,
   "metadata": {},
   "outputs": [
    {
     "data": {
      "text/plain": [
       "200"
      ]
     },
     "execution_count": 78,
     "metadata": {},
     "output_type": "execute_result"
    }
   ],
   "source": [
    "url = 'https://api.scryfall.com/cards/named?exact=Echo Mage'\n",
    "response = requests.get(url)\n",
    "\n",
    "response.status_code"
   ]
  },
  {
   "cell_type": "code",
   "execution_count": 79,
   "metadata": {},
   "outputs": [
    {
     "data": {
      "text/plain": [
       "{'artist': 'Matt Stewart',\n",
       " 'border_color': 'black',\n",
       " 'cmc': 3.0,\n",
       " 'collector_number': '43',\n",
       " 'color_identity': ['U'],\n",
       " 'colors': ['U'],\n",
       " 'colorshifted': False,\n",
       " 'digital': False,\n",
       " 'edhrec_rank': 2621,\n",
       " 'eur': '0.28',\n",
       " 'frame': '2003',\n",
       " 'full_art': False,\n",
       " 'futureshifted': False,\n",
       " 'highres_image': True,\n",
       " 'id': '8b76ba96-9630-44fb-849e-3c3848c03876',\n",
       " 'illustration_id': 'e94e9826-ada9-4754-980a-4f1eb1c4f1e1',\n",
       " 'image_uris': {'art_crop': 'https://img.scryfall.com/cards/art_crop/en/c13/43.jpg?1510051939',\n",
       "  'border_crop': 'https://img.scryfall.com/cards/border_crop/en/c13/43.jpg?1510051939',\n",
       "  'large': 'https://img.scryfall.com/cards/large/en/c13/43.jpg?1510051939',\n",
       "  'normal': 'https://img.scryfall.com/cards/normal/en/c13/43.jpg?1510051939',\n",
       "  'png': 'https://img.scryfall.com/cards/png/en/c13/43.png?1510051939',\n",
       "  'small': 'https://img.scryfall.com/cards/small/en/c13/43.jpg?1510051939'},\n",
       " 'layout': 'leveler',\n",
       " 'legalities': {'1v1': 'legal',\n",
       "  'commander': 'legal',\n",
       "  'duel': 'legal',\n",
       "  'frontier': 'not_legal',\n",
       "  'future': 'not_legal',\n",
       "  'legacy': 'legal',\n",
       "  'modern': 'legal',\n",
       "  'pauper': 'not_legal',\n",
       "  'penny': 'legal',\n",
       "  'standard': 'not_legal',\n",
       "  'vintage': 'legal'},\n",
       " 'mana_cost': '{1}{U}{U}',\n",
       " 'mtgo_foil_id': 51073,\n",
       " 'mtgo_id': 51072,\n",
       " 'multiverse_ids': [376318],\n",
       " 'name': 'Echo Mage',\n",
       " 'object': 'card',\n",
       " 'oracle_text': 'Level up {1}{U} ({1}{U}: Put a level counter on this. Level up only as a sorcery.)\\nLEVEL 2-3\\n2/4\\n{U}{U}, {T}: Copy target instant or sorcery spell. You may choose new targets for the copy.\\nLEVEL 4+\\n2/5\\n{U}{U}, {T}: Copy target instant or sorcery spell twice. You may choose new targets for the copies.',\n",
       " 'power': '2',\n",
       " 'prints_search_uri': 'https://api.scryfall.com/cards/search?order=set&q=%2B%2B%21%22Echo+Mage%22',\n",
       " 'purchase_uris': {'amazon': 'https://www.amazon.com/gp/search?ie=UTF8&index=toys-and-games&keywords=Echo+Mage&tag=scryfall-20',\n",
       "  'card_kingdom': 'https://www.cardkingdom.com/catalog/item/191840?partner=scryfall&utm_campaign=affiliate&utm_medium=scryfall&utm_source=scryfall',\n",
       "  'cardhoarder': 'https://www.cardhoarder.com/cards/51072?affiliate_id=scryfall&ref=card-profile&utm_campaign=affiliate&utm_medium=card&utm_source=scryfall',\n",
       "  'coolstuffinc': 'http://www.coolstuffinc.com/p/Magic%3A+The+Gathering/Echo+Mage?utm_source=scryfall',\n",
       "  'ebay': 'http://rover.ebay.com/rover/1/711-53200-19255-0/1?campid=5337966903&icep_catId=19107&icep_ff3=10&icep_sortBy=12&icep_uq=Echo+Mage&icep_vectorid=229466&ipn=psmain&kw=lg&kwid=902099&mtid=824&pub=5575230669&toolid=10001',\n",
       "  'magiccardmarket': 'https://www.cardmarket.com/Magic/Products/Singles/Commander+2013/Echo+Mage?referrer=scryfall',\n",
       "  'mtgo_traders': 'http://www.mtgotraders.com/deck/ref.php?id=51072&referral=scryfall',\n",
       "  'tcgplayer': 'http://store.tcgplayer.com/magic/commander-2013/echo-mage?partner=Scryfall'},\n",
       " 'rarity': 'rare',\n",
       " 'related_uris': {'edhrec': 'http://edhrec.com/route/?cc=Echo+Mage',\n",
       "  'gatherer': 'http://gatherer.wizards.com/Pages/Card/Details.aspx?multiverseid=376318',\n",
       "  'mtgtop8': 'http://mtgtop8.com/search?MD_check=1&SB_check=1&cards=Echo+Mage',\n",
       "  'tcgplayer_decks': 'http://decks.tcgplayer.com/magic/deck/search?contains=Echo+Mage&page=1&partner=Scryfall'},\n",
       " 'reprint': True,\n",
       " 'reserved': False,\n",
       " 'rulings_uri': 'https://api.scryfall.com/cards/c13/43/rulings',\n",
       " 'scryfall_set_uri': 'https://scryfall.com/sets/c13?utm_source=api',\n",
       " 'scryfall_uri': 'https://scryfall.com/card/c13/43?utm_source=api',\n",
       " 'set': 'c13',\n",
       " 'set_name': 'Commander 2013',\n",
       " 'set_search_uri': 'https://api.scryfall.com/cards/search?q=%2B%2Be%3Ac13',\n",
       " 'set_uri': 'https://api.scryfall.com/cards/search?q=%2B%2Be%3Ac13',\n",
       " 'timeshifted': False,\n",
       " 'tix': '0.02',\n",
       " 'toughness': '3',\n",
       " 'type_line': 'Creature — Human Wizard',\n",
       " 'uri': 'https://api.scryfall.com/cards/c13/43',\n",
       " 'usd': '0.35'}"
      ]
     },
     "execution_count": 79,
     "metadata": {},
     "output_type": "execute_result"
    }
   ],
   "source": [
    "echo_mage = json.loads(response.text)\n",
    "\n",
    "echo_mage"
   ]
  },
  {
   "cell_type": "code",
   "execution_count": 91,
   "metadata": {
    "collapsed": true
   },
   "outputs": [],
   "source": [
    "def format_card(card):\n",
    "    '''\n",
    "    Formats cards in a db friendly manner. If the card is multifaced, the first face is used for missing fields\n",
    "    \n",
    "    INPUT:\n",
    "        - card: dictionary, magic card from scryfall.com\n",
    "        \n",
    "    OUTPUT: \n",
    "        - formatted_card: list, attributes of each card in the following order:\n",
    "                            [name, cmc, type_line, oracle_text, mana_cost, power, toughness, colors, \n",
    "                            color_identity, legalities, set_code, set_name, collector_number, scryfall_id]\n",
    "    '''\n",
    "    formatted_card = []\n",
    "    layout = card['layout']\n",
    "    keys = card.keys()\n",
    "    \n",
    "    if layout == 'normal':\n",
    "        # normal layout, i.e, Lightning Bolt\n",
    "        formatted_card.append(card['name'])\n",
    "        formatted_card.append(card['cmc'])\n",
    "        formatted_card.append(card['type_line'])\n",
    "        \n",
    "        if 'oracle_text' in keys: \n",
    "            formatted_card.append(card['oracle_text'])\n",
    "        else:\n",
    "            formatted_card.append(None)\n",
    "            \n",
    "        formatted_card.append(card['mana_cost'])\n",
    "        \n",
    "        if 'power' in keys:\n",
    "            formatted_card.append(card['power'])\n",
    "        else: \n",
    "            formatted_card.append(None)\n",
    "        \n",
    "        if 'toughness' in keys: \n",
    "            formatted_card.append(card['toughness'])\n",
    "        else: \n",
    "            formatted_card.append(None)\n",
    "        \n",
    "        formatted_card.append(card['colors'])\n",
    "        formatted_card.append(card['color_identity'])\n",
    "        \n",
    "        legalities = [k for k, v in card['legalities'].items() if v == 'legal']\n",
    "        formatted_card.append(legalities)\n",
    "        formatted_card.append(card['set'])\n",
    "        formatted_card.append(card['set_name'])\n",
    "        formatted_card.append(card['collector_number'])\n",
    "        formatted_card.append(card['id'])\n",
    "        \n",
    "    elif layout == 'split':\n",
    "        # split layout, i.e, (Dusk // Dawn), (Boom // Bust)\n",
    "        side_a = card['card_faces'][0]\n",
    "        side_b = card['card_faces'][1]\n",
    "        \n",
    "        formatted_card.append(card['name'])\n",
    "        formatted_card.append(card['cmc'])\n",
    "        formatted_card.append(' // '.join([side_a['type_line'], side_b['type_line']]))\n",
    "        formatted_card.append(' // '.join([side_a['oracle_text'], side_b['oracle_text']]))\n",
    "        formatted_card.append(card['mana_cost'])\n",
    "        formatted_card.append(None)\n",
    "        formatted_card.append(None)\n",
    "        formatted_card.append(card['colors'])\n",
    "        formatted_card.append(card['color_identity'])\n",
    "        legalities = [k for k, v in card['legalities'].items() if v == 'legal']\n",
    "        formatted_card.append(legalities)\n",
    "        formatted_card.append(card['set'])\n",
    "        formatted_card.append(card['set_name'])\n",
    "        formatted_card.append(card['collector_number'])\n",
    "        formatted_card.append(card['id'])\n",
    "        \n",
    "    elif layout == 'flip':\n",
    "        # flip layout, i.e, Akki Lavarunner\n",
    "        side_a = card['card_faces'][0]\n",
    "        side_b = card['card_faces'][1]\n",
    "        \n",
    "        formatted_card.append(card['name'])\n",
    "        formatted_card.append(card['cmc'])\n",
    "        formatted_card.append(' // '.join([side_a['type_line'], side_b['type_line']]))\n",
    "        formatted_card.append(' // '.join([side_a['oracle_text'], side_b['oracle_text']]))\n",
    "        formatted_card.append(card['mana_cost'])\n",
    "        formatted_card.append(side_a['power'])\n",
    "        formatted_card.append(side_b['toughness'])\n",
    "        formatted_card.append(card['colors'])\n",
    "        formatted_card.append(card['color_identity'])\n",
    "        legalities = [k for k, v in card['legalities'].items() if v == 'legal']\n",
    "        formatted_card.append(legalities)\n",
    "        formatted_card.append(card['set'])\n",
    "        formatted_card.append(card['set_name'])\n",
    "        formatted_card.append(card['collector_number'])\n",
    "        formatted_card.append(card['id'])\n",
    "        \n",
    "    elif layout == 'transform':\n",
    "        # transform layout, i.e, Delver of Secrets\n",
    "        side_a = card['card_faces'][0]\n",
    "        side_b = card['card_faces'][1]\n",
    "        \n",
    "        formatted_card.append(side_a['name'])\n",
    "        formatted_card.append(card['cmc'])\n",
    "        formatted_card.append(' // '.join([side_a['type_line'], side_b['type_line']]))\n",
    "        formatted_card.append(' // '.join([side_a['oracle_text'], side_b['oracle_text']]))\n",
    "        formatted_card.append(card['mana_cost'])\n",
    "        formatted_card.append(side_a['power'])\n",
    "        formatted_card.append(side_b['toughness'])\n",
    "        formatted_card.append(side_a['colors'] + side_b['colors'])  \n",
    "        formatted_card.append(card['color_identity'])\n",
    "        legalities = [k for k, v in card['legalities'].items() if v == 'legal']\n",
    "        formatted_card.append(legalities)\n",
    "        formatted_card.append(card['set'])\n",
    "        formatted_card.append(card['set_name'])\n",
    "        formatted_card.append(card['collector_number'])\n",
    "        formatted_card.append(card['id'])\n",
    "        \n",
    "    elif layout == 'meld':\n",
    "        # meld layout, i.e, Bruna, the Fading Light\n",
    "        # this layout turns out to be pretty much the same as a normal card\n",
    "        formatted_card.append(card['name'])\n",
    "        formatted_card.append(card['cmc'])\n",
    "        formatted_card.append(card['type_line'])\n",
    "        \n",
    "        if 'oracle_text' in keys: \n",
    "            formatted_card.append(card['oracle_text'])\n",
    "        else:\n",
    "            formatted_card.append(None)\n",
    "            \n",
    "        formatted_card.append(card['mana_cost'])\n",
    "        \n",
    "        if 'power' in keys:\n",
    "            formatted_card.append(card['power'])\n",
    "        else: \n",
    "            formatted_card.append(None)\n",
    "        \n",
    "        if 'toughness' in keys: \n",
    "            formatted_card.append(card['toughness'])\n",
    "        else: \n",
    "            formatted_card.append(None)\n",
    "        \n",
    "        formatted_card.append(card['colors'])\n",
    "        formatted_card.append(card['color_identity'])\n",
    "        \n",
    "        legalities = [k for k, v in card['legalities'].items() if v == 'legal']\n",
    "        formatted_card.append(legalities)\n",
    "        formatted_card.append(card['set'])\n",
    "        formatted_card.append(card['set_name'])\n",
    "        formatted_card.append(card['collector_number'])\n",
    "        formatted_card.append(card['id'])\n",
    "\n",
    "    return formatted_card"
   ]
  },
  {
   "cell_type": "code",
   "execution_count": 116,
   "metadata": {},
   "outputs": [
    {
     "data": {
      "text/plain": [
       "200"
      ]
     },
     "execution_count": 116,
     "metadata": {},
     "output_type": "execute_result"
    }
   ],
   "source": [
    "url = 'https://api.scryfall.com/cards/named?exact=Beastbreaker of Bala Ged'\n",
    "response = requests.get(url)\n",
    "\n",
    "response.status_code"
   ]
  },
  {
   "cell_type": "code",
   "execution_count": 117,
   "metadata": {},
   "outputs": [],
   "source": [
    "card = json.loads(response.content)"
   ]
  },
  {
   "cell_type": "code",
   "execution_count": 118,
   "metadata": {},
   "outputs": [
    {
     "data": {
      "text/plain": [
       "{'artist': 'Karl Kopinski',\n",
       " 'border_color': 'black',\n",
       " 'cmc': 2.0,\n",
       " 'collector_number': '10',\n",
       " 'color_identity': ['G'],\n",
       " 'colors': ['G'],\n",
       " 'colorshifted': False,\n",
       " 'digital': False,\n",
       " 'edhrec_rank': 12673,\n",
       " 'eur': '0.04',\n",
       " 'frame': '2015',\n",
       " 'full_art': False,\n",
       " 'futureshifted': False,\n",
       " 'highres_image': True,\n",
       " 'id': '9499b38f-5030-4348-a0ff-9002b0e46f2a',\n",
       " 'illustration_id': '00b0b7fb-b87e-446c-be8f-fd6cd9f777cc',\n",
       " 'image_uris': {'art_crop': 'https://img.scryfall.com/cards/art_crop/en/ddp/10.jpg?1509842264',\n",
       "  'border_crop': 'https://img.scryfall.com/cards/border_crop/en/ddp/10.jpg?1509842264',\n",
       "  'large': 'https://img.scryfall.com/cards/large/en/ddp/10.jpg?1509842264',\n",
       "  'normal': 'https://img.scryfall.com/cards/normal/en/ddp/10.jpg?1509842264',\n",
       "  'png': 'https://img.scryfall.com/cards/png/en/ddp/10.png?1509842264',\n",
       "  'small': 'https://img.scryfall.com/cards/small/en/ddp/10.jpg?1509842264'},\n",
       " 'layout': 'leveler',\n",
       " 'legalities': {'1v1': 'legal',\n",
       "  'commander': 'legal',\n",
       "  'duel': 'legal',\n",
       "  'frontier': 'not_legal',\n",
       "  'future': 'not_legal',\n",
       "  'legacy': 'legal',\n",
       "  'modern': 'legal',\n",
       "  'pauper': 'not_legal',\n",
       "  'penny': 'legal',\n",
       "  'standard': 'not_legal',\n",
       "  'vintage': 'legal'},\n",
       " 'mana_cost': '{1}{G}',\n",
       " 'multiverse_ids': [401652],\n",
       " 'name': 'Beastbreaker of Bala Ged',\n",
       " 'object': 'card',\n",
       " 'oracle_text': 'Level up {2}{G} ({2}{G}: Put a level counter on this. Level up only as a sorcery.)\\nLEVEL 1-3\\n4/4\\nLEVEL 4+\\n6/6\\nTrample',\n",
       " 'power': '2',\n",
       " 'prints_search_uri': 'https://api.scryfall.com/cards/search?order=set&q=%2B%2B%21%22Beastbreaker+of+Bala+Ged%22',\n",
       " 'purchase_uris': {'amazon': 'https://www.amazon.com/gp/search?ie=UTF8&index=toys-and-games&keywords=Beastbreaker+of+Bala+Ged&tag=scryfall-20',\n",
       "  'card_kingdom': 'https://www.cardkingdom.com/catalog/item/202329?partner=scryfall&utm_campaign=affiliate&utm_medium=scryfall&utm_source=scryfall',\n",
       "  'cardhoarder': 'https://www.cardhoarder.com/cards?affiliate_id=scryfall&data%5Bsearch%5D=Beastbreaker+of+Bala+Ged&ref=card-profile&utm_campaign=affiliate&utm_medium=card&utm_source=scryfall',\n",
       "  'coolstuffinc': 'http://www.coolstuffinc.com/p/Magic%3A+The+Gathering/Beastbreaker+of+Bala+Ged?utm_source=scryfall',\n",
       "  'ebay': 'http://rover.ebay.com/rover/1/711-53200-19255-0/1?campid=5337966903&icep_catId=19107&icep_ff3=10&icep_sortBy=12&icep_uq=Beastbreaker+of+Bala+Ged&icep_vectorid=229466&ipn=psmain&kw=lg&kwid=902099&mtid=824&pub=5575230669&toolid=10001',\n",
       "  'magiccardmarket': 'https://www.cardmarket.com/Magic/Products/Singles/Duel+Decks%3A+Zendikar+vs.+Eldrazi/Beastbreaker+of+Bala+Ged?referrer=scryfall',\n",
       "  'mtgo_traders': 'http://www.mtgotraders.com/store/search.php?q=Beastbreaker+of+Bala+Ged&referral=scryfall',\n",
       "  'tcgplayer': 'http://store.tcgplayer.com/magic/duel-decks-zendikar-vs-eldrazi/beastbreaker-of-bala-ged?partner=Scryfall'},\n",
       " 'rarity': 'uncommon',\n",
       " 'related_uris': {'edhrec': 'http://edhrec.com/route/?cc=Beastbreaker+of+Bala+Ged',\n",
       "  'gatherer': 'http://gatherer.wizards.com/Pages/Card/Details.aspx?multiverseid=401652',\n",
       "  'mtgtop8': 'http://mtgtop8.com/search?MD_check=1&SB_check=1&cards=Beastbreaker+of+Bala+Ged',\n",
       "  'tcgplayer_decks': 'http://decks.tcgplayer.com/magic/deck/search?contains=Beastbreaker+of+Bala+Ged&page=1&partner=Scryfall'},\n",
       " 'reprint': True,\n",
       " 'reserved': False,\n",
       " 'rulings_uri': 'https://api.scryfall.com/cards/ddp/10/rulings',\n",
       " 'scryfall_set_uri': 'https://scryfall.com/sets/ddp?utm_source=api',\n",
       " 'scryfall_uri': 'https://scryfall.com/card/ddp/10?utm_source=api',\n",
       " 'set': 'ddp',\n",
       " 'set_name': 'Duel Decks: Zendikar vs. Eldrazi',\n",
       " 'set_search_uri': 'https://api.scryfall.com/cards/search?q=%2B%2Be%3Addp',\n",
       " 'set_uri': 'https://api.scryfall.com/cards/search?q=%2B%2Be%3Addp',\n",
       " 'timeshifted': False,\n",
       " 'toughness': '2',\n",
       " 'type_line': 'Creature — Human Warrior',\n",
       " 'uri': 'https://api.scryfall.com/cards/ddp/10',\n",
       " 'usd': '0.14'}"
      ]
     },
     "execution_count": 118,
     "metadata": {},
     "output_type": "execute_result"
    }
   ],
   "source": [
    "card"
   ]
  },
  {
   "cell_type": "code",
   "execution_count": 115,
   "metadata": {
    "collapsed": true
   },
   "outputs": [],
   "source": [
    "from src.card_scraping import *"
   ]
  },
  {
   "cell_type": "code",
   "execution_count": 119,
   "metadata": {},
   "outputs": [
    {
     "name": "stdout",
     "output_type": "stream",
     "text": [
      "formatting card Beastbreaker of Bala Ged\n"
     ]
    },
    {
     "data": {
      "text/plain": [
       "[]"
      ]
     },
     "execution_count": 119,
     "metadata": {},
     "output_type": "execute_result"
    }
   ],
   "source": [
    "format_card_2(card)"
   ]
  },
  {
   "cell_type": "code",
   "execution_count": 120,
   "metadata": {},
   "outputs": [
    {
     "name": "stderr",
     "output_type": "stream",
     "text": [
      "[autoreload of src.card_scraping failed: Traceback (most recent call last):\n",
      "  File \"/Users/benjaminwalzer/anaconda2/envs/py36/lib/python3.6/site-packages/IPython/extensions/autoreload.py\", line 246, in check\n",
      "    superreload(m, reload, self.old_objects)\n",
      "  File \"/Users/benjaminwalzer/anaconda2/envs/py36/lib/python3.6/site-packages/IPython/extensions/autoreload.py\", line 369, in superreload\n",
      "    module = reload(module)\n",
      "  File \"/Users/benjaminwalzer/anaconda2/envs/py36/lib/python3.6/imp.py\", line 315, in reload\n",
      "    return importlib.reload(module)\n",
      "  File \"/Users/benjaminwalzer/anaconda2/envs/py36/lib/python3.6/importlib/__init__.py\", line 166, in reload\n",
      "    _bootstrap._exec(spec, module)\n",
      "  File \"<frozen importlib._bootstrap>\", line 618, in _exec\n",
      "  File \"<frozen importlib._bootstrap_external>\", line 674, in exec_module\n",
      "  File \"<frozen importlib._bootstrap_external>\", line 781, in get_code\n",
      "  File \"<frozen importlib._bootstrap_external>\", line 741, in source_to_code\n",
      "  File \"<frozen importlib._bootstrap>\", line 219, in _call_with_frames_removed\n",
      "  File \"/Users/benjaminwalzer/Documents/Galvanize/mtg-capstone/src/card_scraping.py\", line 130\n",
      "    elif layout == 'meld':\n",
      "       ^\n",
      "SyntaxError: invalid syntax\n",
      "]\n"
     ]
    },
    {
     "ename": "TypeError",
     "evalue": "sequence item 0: expected str instance, NoneType found",
     "output_type": "error",
     "traceback": [
      "\u001b[0;31m---------------------------------------------------------------------------\u001b[0m",
      "\u001b[0;31mTypeError\u001b[0m                                 Traceback (most recent call last)",
      "\u001b[0;32m<ipython-input-120-3b306f025d67>\u001b[0m in \u001b[0;36m<module>\u001b[0;34m()\u001b[0m\n\u001b[0;32m----> 1\u001b[0;31m \u001b[0;34m' // '\u001b[0m\u001b[0;34m.\u001b[0m\u001b[0mjoin\u001b[0m\u001b[0;34m(\u001b[0m\u001b[0;34m[\u001b[0m\u001b[0;32mNone\u001b[0m\u001b[0;34m,\u001b[0m \u001b[0;34m'abcd'\u001b[0m\u001b[0;34m]\u001b[0m\u001b[0;34m)\u001b[0m\u001b[0;34m\u001b[0m\u001b[0m\n\u001b[0m",
      "\u001b[0;31mTypeError\u001b[0m: sequence item 0: expected str instance, NoneType found"
     ]
    }
   ],
   "source": [
    "' // '.join([None, 'abcd'])"
   ]
  },
  {
   "cell_type": "code",
   "execution_count": null,
   "metadata": {
    "collapsed": true
   },
   "outputs": [],
   "source": []
  }
 ],
 "metadata": {
  "kernelspec": {
   "display_name": "Python 3",
   "language": "python",
   "name": "python3"
  },
  "language_info": {
   "codemirror_mode": {
    "name": "ipython",
    "version": 3
   },
   "file_extension": ".py",
   "mimetype": "text/x-python",
   "name": "python",
   "nbconvert_exporter": "python",
   "pygments_lexer": "ipython3",
   "version": "3.6.3"
  }
 },
 "nbformat": 4,
 "nbformat_minor": 2
}
